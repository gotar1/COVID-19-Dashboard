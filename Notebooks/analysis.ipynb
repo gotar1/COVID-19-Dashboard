{
 "metadata": {
  "language_info": {
   "codemirror_mode": {
    "name": "ipython",
    "version": 3
   },
   "file_extension": ".py",
   "mimetype": "text/x-python",
   "name": "python",
   "nbconvert_exporter": "python",
   "pygments_lexer": "ipython3",
   "version": "3.6.10-final"
  },
  "orig_nbformat": 2,
  "kernelspec": {
   "name": "python3",
   "display_name": "Python 3",
   "language": "python"
  }
 },
 "nbformat": 4,
 "nbformat_minor": 2,
 "cells": [
  {
   "source": [
    "### Link To CDC for Raw Data\n",
    "### url: https://data.cdc.gov/Case-Surveillance/United-States-COVID-19-Cases-and-Deaths-by-State-o/9mfq-cb36"
   ],
   "cell_type": "markdown",
   "metadata": {}
  },
  {
   "cell_type": "code",
   "execution_count": 1,
   "metadata": {},
   "outputs": [],
   "source": [
    "# import dependencies\n",
    "import pandas as pd\n",
    "import datetime as dt\n",
    "import sqlite3\n",
    "from sqlite3 import Error\n",
    "from sqlalchemy import create_engine, inspect, func\n",
    "import psycopg2\n",
    "import requests\n",
    "from sodapy import Socrata\n",
    "\n",
    "# import cdc key for API\n",
    "from cdc_token import my_token"
   ]
  },
  {
   "source": [
    "## USA Monthly Cases by State "
   ],
   "cell_type": "markdown",
   "metadata": {}
  },
  {
   "cell_type": "code",
   "execution_count": 2,
   "metadata": {},
   "outputs": [
    {
     "output_type": "execute_result",
     "data": {
      "text/plain": [
       "               submission_date state tot_cases conf_cases prob_cases new_case  \\\n",
       "22555  2021-01-24T00:00:00.000    UT    336405   336405.0          0   1516.0   \n",
       "22556  2020-03-23T00:00:00.000    RI       106        NaN        NaN      9.0   \n",
       "22557  2020-10-09T00:00:00.000    GU      2989        NaN        NaN      0.0   \n",
       "22558  2020-07-12T00:00:00.000    DC     10847        NaN        NaN     46.0   \n",
       "22559  2020-07-20T00:00:00.000    NH      6249        NaN        NaN     46.0   \n",
       "\n",
       "      pnew_case tot_death conf_death prob_death new_death pnew_death  \\\n",
       "22555         0      1595     1550.0         45      13.0          2   \n",
       "22556       NaN         0        NaN        NaN       0.0        NaN   \n",
       "22557         0        58        NaN        NaN       0.0          0   \n",
       "22558         0       568        NaN        NaN       0.0          0   \n",
       "22559         0       398        NaN        NaN       0.0          0   \n",
       "\n",
       "                    created_at consent_cases consent_deaths  \n",
       "22555  2021-01-25T14:42:40.885         Agree          Agree  \n",
       "22556  2020-03-26T16:22:39.452     Not agree            N/A  \n",
       "22557  2020-10-10T13:30:17.102     Not agree      Not agree  \n",
       "22558  2020-07-13T15:19:34.972           NaN            NaN  \n",
       "22559  2020-07-21T14:50:17.717     Not agree      Not agree  "
      ],
      "text/html": "<div>\n<style scoped>\n    .dataframe tbody tr th:only-of-type {\n        vertical-align: middle;\n    }\n\n    .dataframe tbody tr th {\n        vertical-align: top;\n    }\n\n    .dataframe thead th {\n        text-align: right;\n    }\n</style>\n<table border=\"1\" class=\"dataframe\">\n  <thead>\n    <tr style=\"text-align: right;\">\n      <th></th>\n      <th>submission_date</th>\n      <th>state</th>\n      <th>tot_cases</th>\n      <th>conf_cases</th>\n      <th>prob_cases</th>\n      <th>new_case</th>\n      <th>pnew_case</th>\n      <th>tot_death</th>\n      <th>conf_death</th>\n      <th>prob_death</th>\n      <th>new_death</th>\n      <th>pnew_death</th>\n      <th>created_at</th>\n      <th>consent_cases</th>\n      <th>consent_deaths</th>\n    </tr>\n  </thead>\n  <tbody>\n    <tr>\n      <th>22555</th>\n      <td>2021-01-24T00:00:00.000</td>\n      <td>UT</td>\n      <td>336405</td>\n      <td>336405.0</td>\n      <td>0</td>\n      <td>1516.0</td>\n      <td>0</td>\n      <td>1595</td>\n      <td>1550.0</td>\n      <td>45</td>\n      <td>13.0</td>\n      <td>2</td>\n      <td>2021-01-25T14:42:40.885</td>\n      <td>Agree</td>\n      <td>Agree</td>\n    </tr>\n    <tr>\n      <th>22556</th>\n      <td>2020-03-23T00:00:00.000</td>\n      <td>RI</td>\n      <td>106</td>\n      <td>NaN</td>\n      <td>NaN</td>\n      <td>9.0</td>\n      <td>NaN</td>\n      <td>0</td>\n      <td>NaN</td>\n      <td>NaN</td>\n      <td>0.0</td>\n      <td>NaN</td>\n      <td>2020-03-26T16:22:39.452</td>\n      <td>Not agree</td>\n      <td>N/A</td>\n    </tr>\n    <tr>\n      <th>22557</th>\n      <td>2020-10-09T00:00:00.000</td>\n      <td>GU</td>\n      <td>2989</td>\n      <td>NaN</td>\n      <td>NaN</td>\n      <td>0.0</td>\n      <td>0</td>\n      <td>58</td>\n      <td>NaN</td>\n      <td>NaN</td>\n      <td>0.0</td>\n      <td>0</td>\n      <td>2020-10-10T13:30:17.102</td>\n      <td>Not agree</td>\n      <td>Not agree</td>\n    </tr>\n    <tr>\n      <th>22558</th>\n      <td>2020-07-12T00:00:00.000</td>\n      <td>DC</td>\n      <td>10847</td>\n      <td>NaN</td>\n      <td>NaN</td>\n      <td>46.0</td>\n      <td>0</td>\n      <td>568</td>\n      <td>NaN</td>\n      <td>NaN</td>\n      <td>0.0</td>\n      <td>0</td>\n      <td>2020-07-13T15:19:34.972</td>\n      <td>NaN</td>\n      <td>NaN</td>\n    </tr>\n    <tr>\n      <th>22559</th>\n      <td>2020-07-20T00:00:00.000</td>\n      <td>NH</td>\n      <td>6249</td>\n      <td>NaN</td>\n      <td>NaN</td>\n      <td>46.0</td>\n      <td>0</td>\n      <td>398</td>\n      <td>NaN</td>\n      <td>NaN</td>\n      <td>0.0</td>\n      <td>0</td>\n      <td>2020-07-21T14:50:17.717</td>\n      <td>Not agree</td>\n      <td>Not agree</td>\n    </tr>\n  </tbody>\n</table>\n</div>"
     },
     "metadata": {},
     "execution_count": 2
    }
   ],
   "source": [
    "# set a client with a token\n",
    "client = Socrata(\"data.cdc.gov\", my_token)\n",
    "\n",
    "# results returned as JSON from API / converted to Python list of\n",
    "# dictionaries by sodapy.\n",
    "results = client.get(\"9mfq-cb36\", limit=50000)\n",
    "\n",
    "# Convert to pandas DataFrame and display\n",
    "covid_df = pd.DataFrame.from_records(results)\n",
    "covid_df.tail()"
   ]
  },
  {
   "cell_type": "code",
   "execution_count": 3,
   "metadata": {},
   "outputs": [
    {
     "output_type": "execute_result",
     "data": {
      "text/plain": [
       "               submission_date state tot_cases conf_cases prob_cases new_case  \\\n",
       "22555  2021-01-24T00:00:00.000    UT    336405   336405.0          0   1516.0   \n",
       "22556  2020-03-23T00:00:00.000    RI       106        NaN        NaN      9.0   \n",
       "22557  2020-10-09T00:00:00.000    GU      2989        NaN        NaN      0.0   \n",
       "22558  2020-07-12T00:00:00.000    DC     10847        NaN        NaN     46.0   \n",
       "22559  2020-07-20T00:00:00.000    NH      6249        NaN        NaN     46.0   \n",
       "\n",
       "      pnew_case tot_death conf_death prob_death new_death pnew_death  \\\n",
       "22555         0      1595     1550.0         45      13.0          2   \n",
       "22556       NaN         0        NaN        NaN       0.0        NaN   \n",
       "22557         0        58        NaN        NaN       0.0          0   \n",
       "22558         0       568        NaN        NaN       0.0          0   \n",
       "22559         0       398        NaN        NaN       0.0          0   \n",
       "\n",
       "                    created_at consent_cases consent_deaths     date  \n",
       "22555  2021-01-25T14:42:40.885         Agree          Agree  2021-01  \n",
       "22556  2020-03-26T16:22:39.452     Not agree            N/A  2020-03  \n",
       "22557  2020-10-10T13:30:17.102     Not agree      Not agree  2020-10  \n",
       "22558  2020-07-13T15:19:34.972           NaN            NaN  2020-07  \n",
       "22559  2020-07-21T14:50:17.717     Not agree      Not agree  2020-07  "
      ],
      "text/html": "<div>\n<style scoped>\n    .dataframe tbody tr th:only-of-type {\n        vertical-align: middle;\n    }\n\n    .dataframe tbody tr th {\n        vertical-align: top;\n    }\n\n    .dataframe thead th {\n        text-align: right;\n    }\n</style>\n<table border=\"1\" class=\"dataframe\">\n  <thead>\n    <tr style=\"text-align: right;\">\n      <th></th>\n      <th>submission_date</th>\n      <th>state</th>\n      <th>tot_cases</th>\n      <th>conf_cases</th>\n      <th>prob_cases</th>\n      <th>new_case</th>\n      <th>pnew_case</th>\n      <th>tot_death</th>\n      <th>conf_death</th>\n      <th>prob_death</th>\n      <th>new_death</th>\n      <th>pnew_death</th>\n      <th>created_at</th>\n      <th>consent_cases</th>\n      <th>consent_deaths</th>\n      <th>date</th>\n    </tr>\n  </thead>\n  <tbody>\n    <tr>\n      <th>22555</th>\n      <td>2021-01-24T00:00:00.000</td>\n      <td>UT</td>\n      <td>336405</td>\n      <td>336405.0</td>\n      <td>0</td>\n      <td>1516.0</td>\n      <td>0</td>\n      <td>1595</td>\n      <td>1550.0</td>\n      <td>45</td>\n      <td>13.0</td>\n      <td>2</td>\n      <td>2021-01-25T14:42:40.885</td>\n      <td>Agree</td>\n      <td>Agree</td>\n      <td>2021-01</td>\n    </tr>\n    <tr>\n      <th>22556</th>\n      <td>2020-03-23T00:00:00.000</td>\n      <td>RI</td>\n      <td>106</td>\n      <td>NaN</td>\n      <td>NaN</td>\n      <td>9.0</td>\n      <td>NaN</td>\n      <td>0</td>\n      <td>NaN</td>\n      <td>NaN</td>\n      <td>0.0</td>\n      <td>NaN</td>\n      <td>2020-03-26T16:22:39.452</td>\n      <td>Not agree</td>\n      <td>N/A</td>\n      <td>2020-03</td>\n    </tr>\n    <tr>\n      <th>22557</th>\n      <td>2020-10-09T00:00:00.000</td>\n      <td>GU</td>\n      <td>2989</td>\n      <td>NaN</td>\n      <td>NaN</td>\n      <td>0.0</td>\n      <td>0</td>\n      <td>58</td>\n      <td>NaN</td>\n      <td>NaN</td>\n      <td>0.0</td>\n      <td>0</td>\n      <td>2020-10-10T13:30:17.102</td>\n      <td>Not agree</td>\n      <td>Not agree</td>\n      <td>2020-10</td>\n    </tr>\n    <tr>\n      <th>22558</th>\n      <td>2020-07-12T00:00:00.000</td>\n      <td>DC</td>\n      <td>10847</td>\n      <td>NaN</td>\n      <td>NaN</td>\n      <td>46.0</td>\n      <td>0</td>\n      <td>568</td>\n      <td>NaN</td>\n      <td>NaN</td>\n      <td>0.0</td>\n      <td>0</td>\n      <td>2020-07-13T15:19:34.972</td>\n      <td>NaN</td>\n      <td>NaN</td>\n      <td>2020-07</td>\n    </tr>\n    <tr>\n      <th>22559</th>\n      <td>2020-07-20T00:00:00.000</td>\n      <td>NH</td>\n      <td>6249</td>\n      <td>NaN</td>\n      <td>NaN</td>\n      <td>46.0</td>\n      <td>0</td>\n      <td>398</td>\n      <td>NaN</td>\n      <td>NaN</td>\n      <td>0.0</td>\n      <td>0</td>\n      <td>2020-07-21T14:50:17.717</td>\n      <td>Not agree</td>\n      <td>Not agree</td>\n      <td>2020-07</td>\n    </tr>\n  </tbody>\n</table>\n</div>"
     },
     "metadata": {},
     "execution_count": 3
    }
   ],
   "source": [
    "# add date columns which only has year and month for use with groupby later on.. \n",
    "covid_df['date'] = pd.to_datetime(covid_df['submission_date']).dt.to_period('M').astype(str)\n",
    "covid_df.tail()"
   ]
  },
  {
   "cell_type": "code",
   "execution_count": 4,
   "metadata": {},
   "outputs": [
    {
     "output_type": "execute_result",
     "data": {
      "text/plain": [
       "submission_date    object\n",
       "state              object\n",
       "tot_cases          object\n",
       "conf_cases         object\n",
       "prob_cases         object\n",
       "new_case           object\n",
       "pnew_case          object\n",
       "tot_death          object\n",
       "conf_death         object\n",
       "prob_death         object\n",
       "new_death          object\n",
       "pnew_death         object\n",
       "created_at         object\n",
       "consent_cases      object\n",
       "consent_deaths     object\n",
       "date               object\n",
       "dtype: object"
      ]
     },
     "metadata": {},
     "execution_count": 4
    }
   ],
   "source": [
    "covid_df.dtypes"
   ]
  },
  {
   "cell_type": "code",
   "execution_count": 5,
   "metadata": {},
   "outputs": [
    {
     "output_type": "execute_result",
     "data": {
      "text/plain": [
       "          date state  tot_cases  tot_death\n",
       "22555  2021-01    UT   336405.0     1595.0\n",
       "22556  2020-03    RI      106.0        0.0\n",
       "22557  2020-10    GU     2989.0       58.0\n",
       "22558  2020-07    DC    10847.0      568.0\n",
       "22559  2020-07    NH     6249.0      398.0"
      ],
      "text/html": "<div>\n<style scoped>\n    .dataframe tbody tr th:only-of-type {\n        vertical-align: middle;\n    }\n\n    .dataframe tbody tr th {\n        vertical-align: top;\n    }\n\n    .dataframe thead th {\n        text-align: right;\n    }\n</style>\n<table border=\"1\" class=\"dataframe\">\n  <thead>\n    <tr style=\"text-align: right;\">\n      <th></th>\n      <th>date</th>\n      <th>state</th>\n      <th>tot_cases</th>\n      <th>tot_death</th>\n    </tr>\n  </thead>\n  <tbody>\n    <tr>\n      <th>22555</th>\n      <td>2021-01</td>\n      <td>UT</td>\n      <td>336405.0</td>\n      <td>1595.0</td>\n    </tr>\n    <tr>\n      <th>22556</th>\n      <td>2020-03</td>\n      <td>RI</td>\n      <td>106.0</td>\n      <td>0.0</td>\n    </tr>\n    <tr>\n      <th>22557</th>\n      <td>2020-10</td>\n      <td>GU</td>\n      <td>2989.0</td>\n      <td>58.0</td>\n    </tr>\n    <tr>\n      <th>22558</th>\n      <td>2020-07</td>\n      <td>DC</td>\n      <td>10847.0</td>\n      <td>568.0</td>\n    </tr>\n    <tr>\n      <th>22559</th>\n      <td>2020-07</td>\n      <td>NH</td>\n      <td>6249.0</td>\n      <td>398.0</td>\n    </tr>\n  </tbody>\n</table>\n</div>"
     },
     "metadata": {},
     "execution_count": 5
    }
   ],
   "source": [
    "# convert objects to float\n",
    "covid_df[\"tot_cases\"] =  covid_df.tot_cases.astype(float)\n",
    "covid_df[\"tot_death\"] = covid_df.tot_death.astype(float)\n",
    "\n",
    "# select only the columns we gonna use and display df\n",
    "covid_df = covid_df[[\"date\", \"state\", \"tot_cases\", \"tot_death\"]]\n",
    "covid_df.tail()"
   ]
  },
  {
   "cell_type": "code",
   "execution_count": 6,
   "metadata": {},
   "outputs": [
    {
     "output_type": "execute_result",
     "data": {
      "text/plain": [
       "   state      tot_cases    tot_death\n",
       "55    VT    2301.018617    57.031915\n",
       "56    WA   79512.260638  1616.236702\n",
       "57    WI  147301.236702  1572.159574\n",
       "58    WV   21226.723404   365.324468\n",
       "59    WY   10905.691489    98.468085"
      ],
      "text/html": "<div>\n<style scoped>\n    .dataframe tbody tr th:only-of-type {\n        vertical-align: middle;\n    }\n\n    .dataframe tbody tr th {\n        vertical-align: top;\n    }\n\n    .dataframe thead th {\n        text-align: right;\n    }\n</style>\n<table border=\"1\" class=\"dataframe\">\n  <thead>\n    <tr style=\"text-align: right;\">\n      <th></th>\n      <th>state</th>\n      <th>tot_cases</th>\n      <th>tot_death</th>\n    </tr>\n  </thead>\n  <tbody>\n    <tr>\n      <th>55</th>\n      <td>VT</td>\n      <td>2301.018617</td>\n      <td>57.031915</td>\n    </tr>\n    <tr>\n      <th>56</th>\n      <td>WA</td>\n      <td>79512.260638</td>\n      <td>1616.236702</td>\n    </tr>\n    <tr>\n      <th>57</th>\n      <td>WI</td>\n      <td>147301.236702</td>\n      <td>1572.159574</td>\n    </tr>\n    <tr>\n      <th>58</th>\n      <td>WV</td>\n      <td>21226.723404</td>\n      <td>365.324468</td>\n    </tr>\n    <tr>\n      <th>59</th>\n      <td>WY</td>\n      <td>10905.691489</td>\n      <td>98.468085</td>\n    </tr>\n  </tbody>\n</table>\n</div>"
     },
     "metadata": {},
     "execution_count": 6
    }
   ],
   "source": [
    "# group by states to be used later\n",
    "state_df = covid_df.groupby('state').mean().reset_index()\n",
    "state_df.tail()"
   ]
  },
  {
   "cell_type": "code",
   "execution_count": 7,
   "metadata": {},
   "outputs": [
    {
     "output_type": "execute_result",
     "data": {
      "text/plain": [
       "          date state  tot_cases  tot_death  Total_recovered\n",
       "22555  2021-01    UT   336405.0     1595.0         334810.0\n",
       "22556  2020-03    RI      106.0        0.0            106.0\n",
       "22557  2020-10    GU     2989.0       58.0           2931.0\n",
       "22558  2020-07    DC    10847.0      568.0          10279.0\n",
       "22559  2020-07    NH     6249.0      398.0           5851.0"
      ],
      "text/html": "<div>\n<style scoped>\n    .dataframe tbody tr th:only-of-type {\n        vertical-align: middle;\n    }\n\n    .dataframe tbody tr th {\n        vertical-align: top;\n    }\n\n    .dataframe thead th {\n        text-align: right;\n    }\n</style>\n<table border=\"1\" class=\"dataframe\">\n  <thead>\n    <tr style=\"text-align: right;\">\n      <th></th>\n      <th>date</th>\n      <th>state</th>\n      <th>tot_cases</th>\n      <th>tot_death</th>\n      <th>Total_recovered</th>\n    </tr>\n  </thead>\n  <tbody>\n    <tr>\n      <th>22555</th>\n      <td>2021-01</td>\n      <td>UT</td>\n      <td>336405.0</td>\n      <td>1595.0</td>\n      <td>334810.0</td>\n    </tr>\n    <tr>\n      <th>22556</th>\n      <td>2020-03</td>\n      <td>RI</td>\n      <td>106.0</td>\n      <td>0.0</td>\n      <td>106.0</td>\n    </tr>\n    <tr>\n      <th>22557</th>\n      <td>2020-10</td>\n      <td>GU</td>\n      <td>2989.0</td>\n      <td>58.0</td>\n      <td>2931.0</td>\n    </tr>\n    <tr>\n      <th>22558</th>\n      <td>2020-07</td>\n      <td>DC</td>\n      <td>10847.0</td>\n      <td>568.0</td>\n      <td>10279.0</td>\n    </tr>\n    <tr>\n      <th>22559</th>\n      <td>2020-07</td>\n      <td>NH</td>\n      <td>6249.0</td>\n      <td>398.0</td>\n      <td>5851.0</td>\n    </tr>\n  </tbody>\n</table>\n</div>"
     },
     "metadata": {},
     "execution_count": 7
    }
   ],
   "source": [
    "# add total recovery columns to df\n",
    "covid_df[\"Total_recovered\"] = covid_df.tot_cases - covid_df.tot_death\n",
    "covid_df.tail()"
   ]
  },
  {
   "cell_type": "code",
   "execution_count": 8,
   "metadata": {},
   "outputs": [
    {
     "output_type": "execute_result",
     "data": {
      "text/plain": [
       "        date state  tot_cases  tot_death  Total_recovered\n",
       "775  2021-01    VT    9806.13     160.65          9645.48\n",
       "776  2021-01    WA  284219.81    3885.90        280333.90\n",
       "777  2021-01    WI  561850.90    5840.84        556010.06\n",
       "778  2021-01    WV  106453.87    1717.39        104736.48\n",
       "779  2021-01    WY   48685.35     525.45         48159.90"
      ],
      "text/html": "<div>\n<style scoped>\n    .dataframe tbody tr th:only-of-type {\n        vertical-align: middle;\n    }\n\n    .dataframe tbody tr th {\n        vertical-align: top;\n    }\n\n    .dataframe thead th {\n        text-align: right;\n    }\n</style>\n<table border=\"1\" class=\"dataframe\">\n  <thead>\n    <tr style=\"text-align: right;\">\n      <th></th>\n      <th>date</th>\n      <th>state</th>\n      <th>tot_cases</th>\n      <th>tot_death</th>\n      <th>Total_recovered</th>\n    </tr>\n  </thead>\n  <tbody>\n    <tr>\n      <th>775</th>\n      <td>2021-01</td>\n      <td>VT</td>\n      <td>9806.13</td>\n      <td>160.65</td>\n      <td>9645.48</td>\n    </tr>\n    <tr>\n      <th>776</th>\n      <td>2021-01</td>\n      <td>WA</td>\n      <td>284219.81</td>\n      <td>3885.90</td>\n      <td>280333.90</td>\n    </tr>\n    <tr>\n      <th>777</th>\n      <td>2021-01</td>\n      <td>WI</td>\n      <td>561850.90</td>\n      <td>5840.84</td>\n      <td>556010.06</td>\n    </tr>\n    <tr>\n      <th>778</th>\n      <td>2021-01</td>\n      <td>WV</td>\n      <td>106453.87</td>\n      <td>1717.39</td>\n      <td>104736.48</td>\n    </tr>\n    <tr>\n      <th>779</th>\n      <td>2021-01</td>\n      <td>WY</td>\n      <td>48685.35</td>\n      <td>525.45</td>\n      <td>48159.90</td>\n    </tr>\n  </tbody>\n</table>\n</div>"
     },
     "metadata": {},
     "execution_count": 8
    }
   ],
   "source": [
    "# groupby date and state and take the mean value to get monthly average..\n",
    "covid_monthly_df = round(covid_df.groupby([\"date\", \"state\"]).mean().reset_index(), 2)\n",
    "covid_monthly_df.tail()"
   ]
  },
  {
   "cell_type": "code",
   "execution_count": 9,
   "metadata": {},
   "outputs": [
    {
     "output_type": "execute_result",
     "data": {
      "text/plain": [
       "        Date State  Average_cases  Average_death  Average_recovery\n",
       "0    2020-01    AK           0.00           0.00              0.00\n",
       "1    2020-01    AL           0.00           0.00              0.00\n",
       "2    2020-01    AR           0.00           0.00              0.00\n",
       "3    2020-01    AS           0.00           0.00              0.00\n",
       "4    2020-01    AZ           0.60           0.00              0.60\n",
       "..       ...   ...            ...            ...               ...\n",
       "775  2021-01    VT        9806.13         160.65           9645.48\n",
       "776  2021-01    WA      284219.81        3885.90         280333.90\n",
       "777  2021-01    WI      561850.90        5840.84         556010.06\n",
       "778  2021-01    WV      106453.87        1717.39         104736.48\n",
       "779  2021-01    WY       48685.35         525.45          48159.90\n",
       "\n",
       "[780 rows x 5 columns]"
      ],
      "text/html": "<div>\n<style scoped>\n    .dataframe tbody tr th:only-of-type {\n        vertical-align: middle;\n    }\n\n    .dataframe tbody tr th {\n        vertical-align: top;\n    }\n\n    .dataframe thead th {\n        text-align: right;\n    }\n</style>\n<table border=\"1\" class=\"dataframe\">\n  <thead>\n    <tr style=\"text-align: right;\">\n      <th></th>\n      <th>Date</th>\n      <th>State</th>\n      <th>Average_cases</th>\n      <th>Average_death</th>\n      <th>Average_recovery</th>\n    </tr>\n  </thead>\n  <tbody>\n    <tr>\n      <th>0</th>\n      <td>2020-01</td>\n      <td>AK</td>\n      <td>0.00</td>\n      <td>0.00</td>\n      <td>0.00</td>\n    </tr>\n    <tr>\n      <th>1</th>\n      <td>2020-01</td>\n      <td>AL</td>\n      <td>0.00</td>\n      <td>0.00</td>\n      <td>0.00</td>\n    </tr>\n    <tr>\n      <th>2</th>\n      <td>2020-01</td>\n      <td>AR</td>\n      <td>0.00</td>\n      <td>0.00</td>\n      <td>0.00</td>\n    </tr>\n    <tr>\n      <th>3</th>\n      <td>2020-01</td>\n      <td>AS</td>\n      <td>0.00</td>\n      <td>0.00</td>\n      <td>0.00</td>\n    </tr>\n    <tr>\n      <th>4</th>\n      <td>2020-01</td>\n      <td>AZ</td>\n      <td>0.60</td>\n      <td>0.00</td>\n      <td>0.60</td>\n    </tr>\n    <tr>\n      <th>...</th>\n      <td>...</td>\n      <td>...</td>\n      <td>...</td>\n      <td>...</td>\n      <td>...</td>\n    </tr>\n    <tr>\n      <th>775</th>\n      <td>2021-01</td>\n      <td>VT</td>\n      <td>9806.13</td>\n      <td>160.65</td>\n      <td>9645.48</td>\n    </tr>\n    <tr>\n      <th>776</th>\n      <td>2021-01</td>\n      <td>WA</td>\n      <td>284219.81</td>\n      <td>3885.90</td>\n      <td>280333.90</td>\n    </tr>\n    <tr>\n      <th>777</th>\n      <td>2021-01</td>\n      <td>WI</td>\n      <td>561850.90</td>\n      <td>5840.84</td>\n      <td>556010.06</td>\n    </tr>\n    <tr>\n      <th>778</th>\n      <td>2021-01</td>\n      <td>WV</td>\n      <td>106453.87</td>\n      <td>1717.39</td>\n      <td>104736.48</td>\n    </tr>\n    <tr>\n      <th>779</th>\n      <td>2021-01</td>\n      <td>WY</td>\n      <td>48685.35</td>\n      <td>525.45</td>\n      <td>48159.90</td>\n    </tr>\n  </tbody>\n</table>\n<p>780 rows × 5 columns</p>\n</div>"
     },
     "metadata": {},
     "execution_count": 9
    }
   ],
   "source": [
    "# rename columns. name gotta be compatable wth sqlite database naming potocol.\n",
    "covid_monthly_df = covid_monthly_df.rename(columns={\"date\": \"Date\", \"state\": \"State\", \"tot_cases\": \"Average_cases\", \"tot_death\": \"Average_death\", \"Total_recovered\": \"Average_recovery\"})\n",
    "covid_monthly_df"
   ]
  },
  {
   "cell_type": "code",
   "execution_count": 10,
   "metadata": {},
   "outputs": [
    {
     "output_type": "execute_result",
     "data": {
      "text/plain": [
       "        Date State  Average_cases  Average_death  Average_recovery  \\\n",
       "0    2020-01    AK           0.00           0.00              0.00   \n",
       "1    2020-01    AL           0.00           0.00              0.00   \n",
       "2    2020-01    AR           0.00           0.00              0.00   \n",
       "3    2020-01    AS           0.00           0.00              0.00   \n",
       "4    2020-01    AZ           0.60           0.00              0.60   \n",
       "..       ...   ...            ...            ...               ...   \n",
       "775  2021-01    VT        9806.13         160.65           9645.48   \n",
       "776  2021-01    WA      284219.81        3885.90         280333.90   \n",
       "777  2021-01    WI      561850.90        5840.84         556010.06   \n",
       "778  2021-01    WV      106453.87        1717.39         104736.48   \n",
       "779  2021-01    WY       48685.35         525.45          48159.90   \n",
       "\n",
       "     Death_percent  Recovery_percent  \n",
       "0             0.00              0.00  \n",
       "1             0.00              0.00  \n",
       "2             0.00              0.00  \n",
       "3             0.00              0.00  \n",
       "4             0.00            100.00  \n",
       "..             ...               ...  \n",
       "775           1.64             98.36  \n",
       "776           1.37             98.63  \n",
       "777           1.04             98.96  \n",
       "778           1.61             98.39  \n",
       "779           1.08             98.92  \n",
       "\n",
       "[780 rows x 7 columns]"
      ],
      "text/html": "<div>\n<style scoped>\n    .dataframe tbody tr th:only-of-type {\n        vertical-align: middle;\n    }\n\n    .dataframe tbody tr th {\n        vertical-align: top;\n    }\n\n    .dataframe thead th {\n        text-align: right;\n    }\n</style>\n<table border=\"1\" class=\"dataframe\">\n  <thead>\n    <tr style=\"text-align: right;\">\n      <th></th>\n      <th>Date</th>\n      <th>State</th>\n      <th>Average_cases</th>\n      <th>Average_death</th>\n      <th>Average_recovery</th>\n      <th>Death_percent</th>\n      <th>Recovery_percent</th>\n    </tr>\n  </thead>\n  <tbody>\n    <tr>\n      <th>0</th>\n      <td>2020-01</td>\n      <td>AK</td>\n      <td>0.00</td>\n      <td>0.00</td>\n      <td>0.00</td>\n      <td>0.00</td>\n      <td>0.00</td>\n    </tr>\n    <tr>\n      <th>1</th>\n      <td>2020-01</td>\n      <td>AL</td>\n      <td>0.00</td>\n      <td>0.00</td>\n      <td>0.00</td>\n      <td>0.00</td>\n      <td>0.00</td>\n    </tr>\n    <tr>\n      <th>2</th>\n      <td>2020-01</td>\n      <td>AR</td>\n      <td>0.00</td>\n      <td>0.00</td>\n      <td>0.00</td>\n      <td>0.00</td>\n      <td>0.00</td>\n    </tr>\n    <tr>\n      <th>3</th>\n      <td>2020-01</td>\n      <td>AS</td>\n      <td>0.00</td>\n      <td>0.00</td>\n      <td>0.00</td>\n      <td>0.00</td>\n      <td>0.00</td>\n    </tr>\n    <tr>\n      <th>4</th>\n      <td>2020-01</td>\n      <td>AZ</td>\n      <td>0.60</td>\n      <td>0.00</td>\n      <td>0.60</td>\n      <td>0.00</td>\n      <td>100.00</td>\n    </tr>\n    <tr>\n      <th>...</th>\n      <td>...</td>\n      <td>...</td>\n      <td>...</td>\n      <td>...</td>\n      <td>...</td>\n      <td>...</td>\n      <td>...</td>\n    </tr>\n    <tr>\n      <th>775</th>\n      <td>2021-01</td>\n      <td>VT</td>\n      <td>9806.13</td>\n      <td>160.65</td>\n      <td>9645.48</td>\n      <td>1.64</td>\n      <td>98.36</td>\n    </tr>\n    <tr>\n      <th>776</th>\n      <td>2021-01</td>\n      <td>WA</td>\n      <td>284219.81</td>\n      <td>3885.90</td>\n      <td>280333.90</td>\n      <td>1.37</td>\n      <td>98.63</td>\n    </tr>\n    <tr>\n      <th>777</th>\n      <td>2021-01</td>\n      <td>WI</td>\n      <td>561850.90</td>\n      <td>5840.84</td>\n      <td>556010.06</td>\n      <td>1.04</td>\n      <td>98.96</td>\n    </tr>\n    <tr>\n      <th>778</th>\n      <td>2021-01</td>\n      <td>WV</td>\n      <td>106453.87</td>\n      <td>1717.39</td>\n      <td>104736.48</td>\n      <td>1.61</td>\n      <td>98.39</td>\n    </tr>\n    <tr>\n      <th>779</th>\n      <td>2021-01</td>\n      <td>WY</td>\n      <td>48685.35</td>\n      <td>525.45</td>\n      <td>48159.90</td>\n      <td>1.08</td>\n      <td>98.92</td>\n    </tr>\n  </tbody>\n</table>\n<p>780 rows × 7 columns</p>\n</div>"
     },
     "metadata": {},
     "execution_count": 10
    }
   ],
   "source": [
    "# add death and recovery percentage columns. change NA values to zero\n",
    "covid_monthly_df['Death_percent'] = round((covid_monthly_df.Average_death/covid_monthly_df.Average_cases)*100, 2)\n",
    "covid_monthly_df['Recovery_percent'] = round((covid_monthly_df.Average_recovery/covid_monthly_df.Average_cases)*100, 2)\n",
    "covid_monthly_df=covid_monthly_df.fillna(0)\n",
    "covid_monthly_df"
   ]
  },
  {
   "cell_type": "code",
   "execution_count": 11,
   "metadata": {},
   "outputs": [],
   "source": [
    "# save df as a csv file\n",
    "covid_monthly_df.to_csv('../Data/monthly.csv')"
   ]
  },
  {
   "source": [
    "## USA Total Cases and Death by State"
   ],
   "cell_type": "markdown",
   "metadata": {}
  },
  {
   "cell_type": "code",
   "execution_count": 12,
   "metadata": {},
   "outputs": [
    {
     "output_type": "execute_result",
     "data": {
      "text/plain": [
       "  State/Territory  Total Cases  Confirmed Cases  Probable Cases  \\\n",
       "0          Alaska        17072              NaN             NaN   \n",
       "1         Alabama       199158         169266.0         29892.0   \n",
       "2        Arkansas       117360              NaN             NaN   \n",
       "3  American Samoa            0              NaN             NaN   \n",
       "4         Arizona       252768         246468.0          6300.0   \n",
       "\n",
       "   Cases in Last 7 Days  Case Rate per 100000  Total Deaths  Confirmed Deaths  \\\n",
       "0                  2616                  2315            84               NaN   \n",
       "1                 10009                  4074          3026            2818.0   \n",
       "2                  7648                  3894          2037               NaN   \n",
       "3                     0                     0             0               NaN   \n",
       "4                 10288                  3524          6087            5707.0   \n",
       "\n",
       "   Probable Deaths  Deaths in Last 7 Days  Death Rate per 100000  \\\n",
       "0              NaN                      7                     11   \n",
       "1            208.0                    112                     61   \n",
       "2              NaN                    143                     67   \n",
       "3              NaN                      0                      0   \n",
       "4            380.0                    169                     84   \n",
       "\n",
       "   Case Rate per 100000 in Last 7 Days  Death Rate per 100K in Last 7 Days  \n",
       "0                                 50.7                                 0.1  \n",
       "1                                 29.3                                 0.3  \n",
       "2                                 36.3                                 0.7  \n",
       "3                                  0.0                                 0.0  \n",
       "4                                 20.5                                 0.3  "
      ],
      "text/html": "<div>\n<style scoped>\n    .dataframe tbody tr th:only-of-type {\n        vertical-align: middle;\n    }\n\n    .dataframe tbody tr th {\n        vertical-align: top;\n    }\n\n    .dataframe thead th {\n        text-align: right;\n    }\n</style>\n<table border=\"1\" class=\"dataframe\">\n  <thead>\n    <tr style=\"text-align: right;\">\n      <th></th>\n      <th>State/Territory</th>\n      <th>Total Cases</th>\n      <th>Confirmed Cases</th>\n      <th>Probable Cases</th>\n      <th>Cases in Last 7 Days</th>\n      <th>Case Rate per 100000</th>\n      <th>Total Deaths</th>\n      <th>Confirmed Deaths</th>\n      <th>Probable Deaths</th>\n      <th>Deaths in Last 7 Days</th>\n      <th>Death Rate per 100000</th>\n      <th>Case Rate per 100000 in Last 7 Days</th>\n      <th>Death Rate per 100K in Last 7 Days</th>\n    </tr>\n  </thead>\n  <tbody>\n    <tr>\n      <th>0</th>\n      <td>Alaska</td>\n      <td>17072</td>\n      <td>NaN</td>\n      <td>NaN</td>\n      <td>2616</td>\n      <td>2315</td>\n      <td>84</td>\n      <td>NaN</td>\n      <td>NaN</td>\n      <td>7</td>\n      <td>11</td>\n      <td>50.7</td>\n      <td>0.1</td>\n    </tr>\n    <tr>\n      <th>1</th>\n      <td>Alabama</td>\n      <td>199158</td>\n      <td>169266.0</td>\n      <td>29892.0</td>\n      <td>10009</td>\n      <td>4074</td>\n      <td>3026</td>\n      <td>2818.0</td>\n      <td>208.0</td>\n      <td>112</td>\n      <td>61</td>\n      <td>29.3</td>\n      <td>0.3</td>\n    </tr>\n    <tr>\n      <th>2</th>\n      <td>Arkansas</td>\n      <td>117360</td>\n      <td>NaN</td>\n      <td>NaN</td>\n      <td>7648</td>\n      <td>3894</td>\n      <td>2037</td>\n      <td>NaN</td>\n      <td>NaN</td>\n      <td>143</td>\n      <td>67</td>\n      <td>36.3</td>\n      <td>0.7</td>\n    </tr>\n    <tr>\n      <th>3</th>\n      <td>American Samoa</td>\n      <td>0</td>\n      <td>NaN</td>\n      <td>NaN</td>\n      <td>0</td>\n      <td>0</td>\n      <td>0</td>\n      <td>NaN</td>\n      <td>NaN</td>\n      <td>0</td>\n      <td>0</td>\n      <td>0.0</td>\n      <td>0.0</td>\n    </tr>\n    <tr>\n      <th>4</th>\n      <td>Arizona</td>\n      <td>252768</td>\n      <td>246468.0</td>\n      <td>6300.0</td>\n      <td>10288</td>\n      <td>3524</td>\n      <td>6087</td>\n      <td>5707.0</td>\n      <td>380.0</td>\n      <td>169</td>\n      <td>84</td>\n      <td>20.5</td>\n      <td>0.3</td>\n    </tr>\n  </tbody>\n</table>\n</div>"
     },
     "metadata": {},
     "execution_count": 12
    }
   ],
   "source": [
    "# upload data file and read it ito a pandas dataframe\n",
    "file = \"../Data/US_COVID-19_Deaths.csv\"\n",
    "covid_stats_df = pd.read_csv(file)\n",
    "covid_stats_df.head()"
   ]
  },
  {
   "cell_type": "code",
   "execution_count": 13,
   "metadata": {},
   "outputs": [
    {
     "output_type": "execute_result",
     "data": {
      "text/plain": [
       "  State/Territory  Total Cases  Case Rate per 100000  Total Deaths  \\\n",
       "0          Alaska        17072                  2315            84   \n",
       "1         Alabama       199158                  4074          3026   \n",
       "2        Arkansas       117360                  3894          2037   \n",
       "3  American Samoa            0                     0             0   \n",
       "4         Arizona       252768                  3524          6087   \n",
       "\n",
       "   Death Rate per 100000  \n",
       "0                     11  \n",
       "1                     61  \n",
       "2                     67  \n",
       "3                      0  \n",
       "4                     84  "
      ],
      "text/html": "<div>\n<style scoped>\n    .dataframe tbody tr th:only-of-type {\n        vertical-align: middle;\n    }\n\n    .dataframe tbody tr th {\n        vertical-align: top;\n    }\n\n    .dataframe thead th {\n        text-align: right;\n    }\n</style>\n<table border=\"1\" class=\"dataframe\">\n  <thead>\n    <tr style=\"text-align: right;\">\n      <th></th>\n      <th>State/Territory</th>\n      <th>Total Cases</th>\n      <th>Case Rate per 100000</th>\n      <th>Total Deaths</th>\n      <th>Death Rate per 100000</th>\n    </tr>\n  </thead>\n  <tbody>\n    <tr>\n      <th>0</th>\n      <td>Alaska</td>\n      <td>17072</td>\n      <td>2315</td>\n      <td>84</td>\n      <td>11</td>\n    </tr>\n    <tr>\n      <th>1</th>\n      <td>Alabama</td>\n      <td>199158</td>\n      <td>4074</td>\n      <td>3026</td>\n      <td>61</td>\n    </tr>\n    <tr>\n      <th>2</th>\n      <td>Arkansas</td>\n      <td>117360</td>\n      <td>3894</td>\n      <td>2037</td>\n      <td>67</td>\n    </tr>\n    <tr>\n      <th>3</th>\n      <td>American Samoa</td>\n      <td>0</td>\n      <td>0</td>\n      <td>0</td>\n      <td>0</td>\n    </tr>\n    <tr>\n      <th>4</th>\n      <td>Arizona</td>\n      <td>252768</td>\n      <td>3524</td>\n      <td>6087</td>\n      <td>84</td>\n    </tr>\n  </tbody>\n</table>\n</div>"
     },
     "metadata": {},
     "execution_count": 13
    }
   ],
   "source": [
    "# select relevant columns only\n",
    "covid_stats_df = covid_stats_df[['State/Territory', 'Total Cases', 'Case Rate per 100000', 'Total Deaths', 'Death Rate per 100000']]\n",
    "covid_stats_df.head()"
   ]
  },
  {
   "cell_type": "code",
   "execution_count": 14,
   "metadata": {},
   "outputs": [
    {
     "output_type": "execute_result",
     "data": {
      "text/plain": [
       "  State/Territory  Total Cases  Case Rate per 100000  Total Deaths  \\\n",
       "0          Alaska        17072                  2315            84   \n",
       "1         Alabama       199158                  4074          3026   \n",
       "2        Arkansas       117360                  3894          2037   \n",
       "3  American Samoa            0                     0             0   \n",
       "4         Arizona       252768                  3524          6087   \n",
       "\n",
       "   Death Rate per 100000 State  \n",
       "0                     11    AK  \n",
       "1                     61    AL  \n",
       "2                     67    AR  \n",
       "3                      0    AS  \n",
       "4                     84    AZ  "
      ],
      "text/html": "<div>\n<style scoped>\n    .dataframe tbody tr th:only-of-type {\n        vertical-align: middle;\n    }\n\n    .dataframe tbody tr th {\n        vertical-align: top;\n    }\n\n    .dataframe thead th {\n        text-align: right;\n    }\n</style>\n<table border=\"1\" class=\"dataframe\">\n  <thead>\n    <tr style=\"text-align: right;\">\n      <th></th>\n      <th>State/Territory</th>\n      <th>Total Cases</th>\n      <th>Case Rate per 100000</th>\n      <th>Total Deaths</th>\n      <th>Death Rate per 100000</th>\n      <th>State</th>\n    </tr>\n  </thead>\n  <tbody>\n    <tr>\n      <th>0</th>\n      <td>Alaska</td>\n      <td>17072</td>\n      <td>2315</td>\n      <td>84</td>\n      <td>11</td>\n      <td>AK</td>\n    </tr>\n    <tr>\n      <th>1</th>\n      <td>Alabama</td>\n      <td>199158</td>\n      <td>4074</td>\n      <td>3026</td>\n      <td>61</td>\n      <td>AL</td>\n    </tr>\n    <tr>\n      <th>2</th>\n      <td>Arkansas</td>\n      <td>117360</td>\n      <td>3894</td>\n      <td>2037</td>\n      <td>67</td>\n      <td>AR</td>\n    </tr>\n    <tr>\n      <th>3</th>\n      <td>American Samoa</td>\n      <td>0</td>\n      <td>0</td>\n      <td>0</td>\n      <td>0</td>\n      <td>AS</td>\n    </tr>\n    <tr>\n      <th>4</th>\n      <td>Arizona</td>\n      <td>252768</td>\n      <td>3524</td>\n      <td>6087</td>\n      <td>84</td>\n      <td>AZ</td>\n    </tr>\n  </tbody>\n</table>\n</div>"
     },
     "metadata": {},
     "execution_count": 14
    }
   ],
   "source": [
    "# add a state abbreviation column\n",
    "covid_stats_df['State'] = state_df['state']\n",
    "covid_stats_df.head()"
   ]
  },
  {
   "cell_type": "code",
   "execution_count": 15,
   "metadata": {},
   "outputs": [
    {
     "output_type": "execute_result",
     "data": {
      "text/plain": [
       "   State  Total_cases  Case_rate_per_100k  Total_deaths  Death_rate_per_100k\n",
       "56    WA       112550                1494          2431                   32\n",
       "57    WI       263571                4534          2269                   39\n",
       "58    WV        26547                1470           480                   26\n",
       "59    WY        15409                2667           105                   18\n",
       "60     0      9581770                2895        234264                   71"
      ],
      "text/html": "<div>\n<style scoped>\n    .dataframe tbody tr th:only-of-type {\n        vertical-align: middle;\n    }\n\n    .dataframe tbody tr th {\n        vertical-align: top;\n    }\n\n    .dataframe thead th {\n        text-align: right;\n    }\n</style>\n<table border=\"1\" class=\"dataframe\">\n  <thead>\n    <tr style=\"text-align: right;\">\n      <th></th>\n      <th>State</th>\n      <th>Total_cases</th>\n      <th>Case_rate_per_100k</th>\n      <th>Total_deaths</th>\n      <th>Death_rate_per_100k</th>\n    </tr>\n  </thead>\n  <tbody>\n    <tr>\n      <th>56</th>\n      <td>WA</td>\n      <td>112550</td>\n      <td>1494</td>\n      <td>2431</td>\n      <td>32</td>\n    </tr>\n    <tr>\n      <th>57</th>\n      <td>WI</td>\n      <td>263571</td>\n      <td>4534</td>\n      <td>2269</td>\n      <td>39</td>\n    </tr>\n    <tr>\n      <th>58</th>\n      <td>WV</td>\n      <td>26547</td>\n      <td>1470</td>\n      <td>480</td>\n      <td>26</td>\n    </tr>\n    <tr>\n      <th>59</th>\n      <td>WY</td>\n      <td>15409</td>\n      <td>2667</td>\n      <td>105</td>\n      <td>18</td>\n    </tr>\n    <tr>\n      <th>60</th>\n      <td>0</td>\n      <td>9581770</td>\n      <td>2895</td>\n      <td>234264</td>\n      <td>71</td>\n    </tr>\n  </tbody>\n</table>\n</div>"
     },
     "metadata": {},
     "execution_count": 15
    }
   ],
   "source": [
    "# rename columns and drop any column with NA\n",
    "covid_stats_df = covid_stats_df.rename(columns={\"state\": \"State\", \"Total Cases\": \"Total_cases\", \"Case Rate per 100000\": \"Case_rate_per_100k\", \"Total Deaths\": \"Total_deaths\", \"Death Rate per 100000\": \"Death_rate_per_100k\"})\n",
    "covid_stats_df = covid_stats_df[[\"State\", \"Total_cases\", \"Case_rate_per_100k\", \"Total_deaths\", \"Death_rate_per_100k\"]].fillna(0)\n",
    "covid_stats_df.tail()"
   ]
  },
  {
   "source": [
    "## USA COVID-19 data with latitude and longtitude to create interactive map"
   ],
   "cell_type": "markdown",
   "metadata": {}
  },
  {
   "cell_type": "code",
   "execution_count": 16,
   "metadata": {},
   "outputs": [
    {
     "output_type": "execute_result",
     "data": {
      "text/plain": [
       "   Province_State Country_Region          Last_Update      Lat     Long_  \\\n",
       "0         Alabama             US  2020-11-06 05:30:35  32.3182  -86.9023   \n",
       "1          Alaska             US  2020-11-06 05:30:35  61.3707 -152.4044   \n",
       "2  American Samoa             US  2020-11-06 05:30:35 -14.2710 -170.1320   \n",
       "3         Arizona             US  2020-11-06 05:30:35  33.7298 -111.4312   \n",
       "4        Arkansas             US  2020-11-06 05:30:35  34.9697  -92.3731   \n",
       "\n",
       "   Confirmed  Deaths  Recovered    Active  FIPS  Incident_Rate  People_Tested  \\\n",
       "0     199158    3026    84471.0  111661.0   1.0    4061.808804      1379107.0   \n",
       "1      18174      84     7125.0   10965.0   2.0    2484.331107       781826.0   \n",
       "2          0       0        NaN       0.0  60.0       0.000000         1768.0   \n",
       "3     252768    6087    42317.0  204364.0   4.0    3472.699928      1826629.0   \n",
       "4     117360    2037   104816.0   10507.0   5.0    3888.920553      1392905.0   \n",
       "\n",
       "   People_Hospitalized  Mortality_Rate       UID ISO3   Testing_Rate  \\\n",
       "0                  NaN        1.519397  84000001  USA   28126.758423   \n",
       "1                  NaN        0.462199  84000002  USA  106873.261385   \n",
       "2                  NaN             NaN        16  ASM    3177.512985   \n",
       "3                  NaN        2.408137  84000004  USA   25095.480426   \n",
       "4                  NaN        1.735685  84000005  USA   46156.244740   \n",
       "\n",
       "   Hospitalization_Rate  \n",
       "0                   NaN  \n",
       "1                   NaN  \n",
       "2                   NaN  \n",
       "3                   NaN  \n",
       "4                   NaN  "
      ],
      "text/html": "<div>\n<style scoped>\n    .dataframe tbody tr th:only-of-type {\n        vertical-align: middle;\n    }\n\n    .dataframe tbody tr th {\n        vertical-align: top;\n    }\n\n    .dataframe thead th {\n        text-align: right;\n    }\n</style>\n<table border=\"1\" class=\"dataframe\">\n  <thead>\n    <tr style=\"text-align: right;\">\n      <th></th>\n      <th>Province_State</th>\n      <th>Country_Region</th>\n      <th>Last_Update</th>\n      <th>Lat</th>\n      <th>Long_</th>\n      <th>Confirmed</th>\n      <th>Deaths</th>\n      <th>Recovered</th>\n      <th>Active</th>\n      <th>FIPS</th>\n      <th>Incident_Rate</th>\n      <th>People_Tested</th>\n      <th>People_Hospitalized</th>\n      <th>Mortality_Rate</th>\n      <th>UID</th>\n      <th>ISO3</th>\n      <th>Testing_Rate</th>\n      <th>Hospitalization_Rate</th>\n    </tr>\n  </thead>\n  <tbody>\n    <tr>\n      <th>0</th>\n      <td>Alabama</td>\n      <td>US</td>\n      <td>2020-11-06 05:30:35</td>\n      <td>32.3182</td>\n      <td>-86.9023</td>\n      <td>199158</td>\n      <td>3026</td>\n      <td>84471.0</td>\n      <td>111661.0</td>\n      <td>1.0</td>\n      <td>4061.808804</td>\n      <td>1379107.0</td>\n      <td>NaN</td>\n      <td>1.519397</td>\n      <td>84000001</td>\n      <td>USA</td>\n      <td>28126.758423</td>\n      <td>NaN</td>\n    </tr>\n    <tr>\n      <th>1</th>\n      <td>Alaska</td>\n      <td>US</td>\n      <td>2020-11-06 05:30:35</td>\n      <td>61.3707</td>\n      <td>-152.4044</td>\n      <td>18174</td>\n      <td>84</td>\n      <td>7125.0</td>\n      <td>10965.0</td>\n      <td>2.0</td>\n      <td>2484.331107</td>\n      <td>781826.0</td>\n      <td>NaN</td>\n      <td>0.462199</td>\n      <td>84000002</td>\n      <td>USA</td>\n      <td>106873.261385</td>\n      <td>NaN</td>\n    </tr>\n    <tr>\n      <th>2</th>\n      <td>American Samoa</td>\n      <td>US</td>\n      <td>2020-11-06 05:30:35</td>\n      <td>-14.2710</td>\n      <td>-170.1320</td>\n      <td>0</td>\n      <td>0</td>\n      <td>NaN</td>\n      <td>0.0</td>\n      <td>60.0</td>\n      <td>0.000000</td>\n      <td>1768.0</td>\n      <td>NaN</td>\n      <td>NaN</td>\n      <td>16</td>\n      <td>ASM</td>\n      <td>3177.512985</td>\n      <td>NaN</td>\n    </tr>\n    <tr>\n      <th>3</th>\n      <td>Arizona</td>\n      <td>US</td>\n      <td>2020-11-06 05:30:35</td>\n      <td>33.7298</td>\n      <td>-111.4312</td>\n      <td>252768</td>\n      <td>6087</td>\n      <td>42317.0</td>\n      <td>204364.0</td>\n      <td>4.0</td>\n      <td>3472.699928</td>\n      <td>1826629.0</td>\n      <td>NaN</td>\n      <td>2.408137</td>\n      <td>84000004</td>\n      <td>USA</td>\n      <td>25095.480426</td>\n      <td>NaN</td>\n    </tr>\n    <tr>\n      <th>4</th>\n      <td>Arkansas</td>\n      <td>US</td>\n      <td>2020-11-06 05:30:35</td>\n      <td>34.9697</td>\n      <td>-92.3731</td>\n      <td>117360</td>\n      <td>2037</td>\n      <td>104816.0</td>\n      <td>10507.0</td>\n      <td>5.0</td>\n      <td>3888.920553</td>\n      <td>1392905.0</td>\n      <td>NaN</td>\n      <td>1.735685</td>\n      <td>84000005</td>\n      <td>USA</td>\n      <td>46156.244740</td>\n      <td>NaN</td>\n    </tr>\n  </tbody>\n</table>\n</div>"
     },
     "metadata": {},
     "execution_count": 16
    }
   ],
   "source": [
    "# upload file and read to pandas dataframe\n",
    "file = \"../Data/US_COVID-19_stats.csv\"\n",
    "us_covid_df = pd.read_csv(file)\n",
    "us_covid_df.head()"
   ]
  },
  {
   "cell_type": "code",
   "execution_count": 17,
   "metadata": {},
   "outputs": [
    {
     "output_type": "execute_result",
     "data": {
      "text/plain": [
       "   Province_State      Lat     Long_  Confirmed  Deaths  Recovered  \\\n",
       "0         Alabama  32.3182  -86.9023     199158    3026    84471.0   \n",
       "1          Alaska  61.3707 -152.4044      18174      84     7125.0   \n",
       "2  American Samoa -14.2710 -170.1320          0       0        NaN   \n",
       "3         Arizona  33.7298 -111.4312     252768    6087    42317.0   \n",
       "4        Arkansas  34.9697  -92.3731     117360    2037   104816.0   \n",
       "\n",
       "   Mortality_Rate  \n",
       "0        1.519397  \n",
       "1        0.462199  \n",
       "2             NaN  \n",
       "3        2.408137  \n",
       "4        1.735685  "
      ],
      "text/html": "<div>\n<style scoped>\n    .dataframe tbody tr th:only-of-type {\n        vertical-align: middle;\n    }\n\n    .dataframe tbody tr th {\n        vertical-align: top;\n    }\n\n    .dataframe thead th {\n        text-align: right;\n    }\n</style>\n<table border=\"1\" class=\"dataframe\">\n  <thead>\n    <tr style=\"text-align: right;\">\n      <th></th>\n      <th>Province_State</th>\n      <th>Lat</th>\n      <th>Long_</th>\n      <th>Confirmed</th>\n      <th>Deaths</th>\n      <th>Recovered</th>\n      <th>Mortality_Rate</th>\n    </tr>\n  </thead>\n  <tbody>\n    <tr>\n      <th>0</th>\n      <td>Alabama</td>\n      <td>32.3182</td>\n      <td>-86.9023</td>\n      <td>199158</td>\n      <td>3026</td>\n      <td>84471.0</td>\n      <td>1.519397</td>\n    </tr>\n    <tr>\n      <th>1</th>\n      <td>Alaska</td>\n      <td>61.3707</td>\n      <td>-152.4044</td>\n      <td>18174</td>\n      <td>84</td>\n      <td>7125.0</td>\n      <td>0.462199</td>\n    </tr>\n    <tr>\n      <th>2</th>\n      <td>American Samoa</td>\n      <td>-14.2710</td>\n      <td>-170.1320</td>\n      <td>0</td>\n      <td>0</td>\n      <td>NaN</td>\n      <td>NaN</td>\n    </tr>\n    <tr>\n      <th>3</th>\n      <td>Arizona</td>\n      <td>33.7298</td>\n      <td>-111.4312</td>\n      <td>252768</td>\n      <td>6087</td>\n      <td>42317.0</td>\n      <td>2.408137</td>\n    </tr>\n    <tr>\n      <th>4</th>\n      <td>Arkansas</td>\n      <td>34.9697</td>\n      <td>-92.3731</td>\n      <td>117360</td>\n      <td>2037</td>\n      <td>104816.0</td>\n      <td>1.735685</td>\n    </tr>\n  </tbody>\n</table>\n</div>"
     },
     "metadata": {},
     "execution_count": 17
    }
   ],
   "source": [
    "# select relevant columns\n",
    "us_covid_df = us_covid_df[[\"Province_State\", \"Lat\", \"Long_\", \"Confirmed\", \"Deaths\", \"Recovered\", \"Mortality_Rate\"]]\n",
    "us_covid_df.head()"
   ]
  },
  {
   "cell_type": "code",
   "execution_count": 18,
   "metadata": {},
   "outputs": [
    {
     "output_type": "execute_result",
     "data": {
      "text/plain": [
       "   Province_State      Lat     Long_  Confirmed  Deaths  Recovered  \\\n",
       "0         Alabama  32.3182  -86.9023     199158    3026    84471.0   \n",
       "1          Alaska  61.3707 -152.4044      18174      84     7125.0   \n",
       "2  American Samoa -14.2710 -170.1320          0       0        NaN   \n",
       "3         Arizona  33.7298 -111.4312     252768    6087    42317.0   \n",
       "4        Arkansas  34.9697  -92.3731     117360    2037   104816.0   \n",
       "\n",
       "   Mortality_Rate State  \n",
       "0        1.519397        \n",
       "1        0.462199        \n",
       "2             NaN        \n",
       "3        2.408137        \n",
       "4        1.735685        "
      ],
      "text/html": "<div>\n<style scoped>\n    .dataframe tbody tr th:only-of-type {\n        vertical-align: middle;\n    }\n\n    .dataframe tbody tr th {\n        vertical-align: top;\n    }\n\n    .dataframe thead th {\n        text-align: right;\n    }\n</style>\n<table border=\"1\" class=\"dataframe\">\n  <thead>\n    <tr style=\"text-align: right;\">\n      <th></th>\n      <th>Province_State</th>\n      <th>Lat</th>\n      <th>Long_</th>\n      <th>Confirmed</th>\n      <th>Deaths</th>\n      <th>Recovered</th>\n      <th>Mortality_Rate</th>\n      <th>State</th>\n    </tr>\n  </thead>\n  <tbody>\n    <tr>\n      <th>0</th>\n      <td>Alabama</td>\n      <td>32.3182</td>\n      <td>-86.9023</td>\n      <td>199158</td>\n      <td>3026</td>\n      <td>84471.0</td>\n      <td>1.519397</td>\n      <td></td>\n    </tr>\n    <tr>\n      <th>1</th>\n      <td>Alaska</td>\n      <td>61.3707</td>\n      <td>-152.4044</td>\n      <td>18174</td>\n      <td>84</td>\n      <td>7125.0</td>\n      <td>0.462199</td>\n      <td></td>\n    </tr>\n    <tr>\n      <th>2</th>\n      <td>American Samoa</td>\n      <td>-14.2710</td>\n      <td>-170.1320</td>\n      <td>0</td>\n      <td>0</td>\n      <td>NaN</td>\n      <td>NaN</td>\n      <td></td>\n    </tr>\n    <tr>\n      <th>3</th>\n      <td>Arizona</td>\n      <td>33.7298</td>\n      <td>-111.4312</td>\n      <td>252768</td>\n      <td>6087</td>\n      <td>42317.0</td>\n      <td>2.408137</td>\n      <td></td>\n    </tr>\n    <tr>\n      <th>4</th>\n      <td>Arkansas</td>\n      <td>34.9697</td>\n      <td>-92.3731</td>\n      <td>117360</td>\n      <td>2037</td>\n      <td>104816.0</td>\n      <td>1.735685</td>\n      <td></td>\n    </tr>\n  </tbody>\n</table>\n</div>"
     },
     "metadata": {},
     "execution_count": 18
    }
   ],
   "source": [
    "# add state column to be filled with state abbreviation\n",
    "us_covid_df[\"State\"] = \"\" \n",
    "us_covid_df.head()"
   ]
  },
  {
   "cell_type": "code",
   "execution_count": 19,
   "metadata": {},
   "outputs": [],
   "source": [
    "# upload States and their abbreviation\n",
    "us_state_abbrev = {\n",
    "    \n",
    "    'Alabama': 'AL',\n",
    "    'Alaska': 'AK',\n",
    "    'American Samoa': 'AS',\n",
    "    'Arizona': 'AZ',\n",
    "    'Arkansas': 'AR',\n",
    "    'California': 'CA',\n",
    "    'Colorado': 'CO',\n",
    "    'Connecticut': 'CT',\n",
    "    'Delaware': 'DE',\n",
    "    'Diamond Princess': 'DP',\n",
    "    'District of Columbia': 'DC',\n",
    "    'Florida': 'FL',\n",
    "    'Georgia': 'GA',\n",
    "    'Grand Princess': 'GP',\n",
    "    'Guam': 'GU',\n",
    "    'Hawaii': 'HI',\n",
    "    'Idaho': 'ID',\n",
    "    'Illinois': 'IL',\n",
    "    'Indiana': 'IN',\n",
    "    'Iowa': 'IA',\n",
    "    'Kansas': 'KS',\n",
    "    'Kentucky': 'KY',\n",
    "    'Louisiana': 'LA',\n",
    "    'Maine': 'ME',\n",
    "    'Maryland': 'MD',\n",
    "    'Massachusetts': 'MA',\n",
    "    'Michigan': 'MI',\n",
    "    'Minnesota': 'MN',\n",
    "    'Mississippi': 'MS',\n",
    "    'Missouri': 'MO',\n",
    "    'Montana': 'MT',\n",
    "    'Nebraska': 'NE',\n",
    "    'Nevada': 'NV',\n",
    "    'New Hampshire': 'NH',\n",
    "    'New Jersey': 'NJ',\n",
    "    'New Mexico': 'NM',\n",
    "    'New York': 'NY',\n",
    "    'North Carolina': 'NC',\n",
    "    'North Dakota': 'ND',\n",
    "    'Northern Mariana Islands':'MP',\n",
    "    'Ohio': 'OH',\n",
    "    'Oklahoma': 'OK',\n",
    "    'Oregon': 'OR',\n",
    "    'Pennsylvania': 'PA',\n",
    "    'Puerto Rico': 'PR',\n",
    "    'Rhode Island': 'RI',\n",
    "    'South Carolina': 'SC',\n",
    "    'South Dakota': 'SD',\n",
    "    'Tennessee': 'TN',\n",
    "    'Texas': 'TX',\n",
    "    'Utah': 'UT',\n",
    "    'Vermont': 'VT',\n",
    "    'Virgin Islands': 'VI',\n",
    "    'Virginia': 'VA',\n",
    "    'Washington': 'WA',\n",
    "    'West Virginia': 'WV',\n",
    "    'Wisconsin': 'WI',\n",
    "    'Wyoming': 'WY'\n",
    "}\n",
    "abbrev_us_state = dict(map(reversed, us_state_abbrev.items()))"
   ]
  },
  {
   "cell_type": "code",
   "execution_count": 20,
   "metadata": {},
   "outputs": [
    {
     "output_type": "execute_result",
     "data": {
      "text/plain": [
       "   Province_State      Lat     Long_  Confirmed  Deaths  Recovered  \\\n",
       "0         Alabama  32.3182  -86.9023     199158    3026    84471.0   \n",
       "1          Alaska  61.3707 -152.4044      18174      84     7125.0   \n",
       "2  American Samoa -14.2710 -170.1320          0       0        NaN   \n",
       "3         Arizona  33.7298 -111.4312     252768    6087    42317.0   \n",
       "4        Arkansas  34.9697  -92.3731     117360    2037   104816.0   \n",
       "\n",
       "   Mortality_Rate State  \n",
       "0        1.519397    AL  \n",
       "1        0.462199    AK  \n",
       "2             NaN    AS  \n",
       "3        2.408137    AZ  \n",
       "4        1.735685    AR  "
      ],
      "text/html": "<div>\n<style scoped>\n    .dataframe tbody tr th:only-of-type {\n        vertical-align: middle;\n    }\n\n    .dataframe tbody tr th {\n        vertical-align: top;\n    }\n\n    .dataframe thead th {\n        text-align: right;\n    }\n</style>\n<table border=\"1\" class=\"dataframe\">\n  <thead>\n    <tr style=\"text-align: right;\">\n      <th></th>\n      <th>Province_State</th>\n      <th>Lat</th>\n      <th>Long_</th>\n      <th>Confirmed</th>\n      <th>Deaths</th>\n      <th>Recovered</th>\n      <th>Mortality_Rate</th>\n      <th>State</th>\n    </tr>\n  </thead>\n  <tbody>\n    <tr>\n      <th>0</th>\n      <td>Alabama</td>\n      <td>32.3182</td>\n      <td>-86.9023</td>\n      <td>199158</td>\n      <td>3026</td>\n      <td>84471.0</td>\n      <td>1.519397</td>\n      <td>AL</td>\n    </tr>\n    <tr>\n      <th>1</th>\n      <td>Alaska</td>\n      <td>61.3707</td>\n      <td>-152.4044</td>\n      <td>18174</td>\n      <td>84</td>\n      <td>7125.0</td>\n      <td>0.462199</td>\n      <td>AK</td>\n    </tr>\n    <tr>\n      <th>2</th>\n      <td>American Samoa</td>\n      <td>-14.2710</td>\n      <td>-170.1320</td>\n      <td>0</td>\n      <td>0</td>\n      <td>NaN</td>\n      <td>NaN</td>\n      <td>AS</td>\n    </tr>\n    <tr>\n      <th>3</th>\n      <td>Arizona</td>\n      <td>33.7298</td>\n      <td>-111.4312</td>\n      <td>252768</td>\n      <td>6087</td>\n      <td>42317.0</td>\n      <td>2.408137</td>\n      <td>AZ</td>\n    </tr>\n    <tr>\n      <th>4</th>\n      <td>Arkansas</td>\n      <td>34.9697</td>\n      <td>-92.3731</td>\n      <td>117360</td>\n      <td>2037</td>\n      <td>104816.0</td>\n      <td>1.735685</td>\n      <td>AR</td>\n    </tr>\n  </tbody>\n</table>\n</div>"
     },
     "metadata": {},
     "execution_count": 20
    }
   ],
   "source": [
    "# loop through and assign abbreviation acoordinely\n",
    "for index, row in us_covid_df.iterrows():\n",
    "    us_covid_df.loc[index, \"State\"] = us_state_abbrev[row[0]]\n",
    "\n",
    "us_covid_df.head()"
   ]
  },
  {
   "cell_type": "code",
   "execution_count": 21,
   "metadata": {},
   "outputs": [
    {
     "output_type": "execute_result",
     "data": {
      "text/plain": [
       "  State      Lat      Long  Death_percent  Recovery_percent\n",
       "0    AL  32.3182  -86.9023       1.519397          0.424141\n",
       "1    AK  61.3707 -152.4044       0.462199          0.392044\n",
       "2    AS -14.2710 -170.1320       0.000000          0.000000\n",
       "3    AZ  33.7298 -111.4312       2.408137          0.167414\n",
       "4    AR  34.9697  -92.3731       1.735685          0.893115"
      ],
      "text/html": "<div>\n<style scoped>\n    .dataframe tbody tr th:only-of-type {\n        vertical-align: middle;\n    }\n\n    .dataframe tbody tr th {\n        vertical-align: top;\n    }\n\n    .dataframe thead th {\n        text-align: right;\n    }\n</style>\n<table border=\"1\" class=\"dataframe\">\n  <thead>\n    <tr style=\"text-align: right;\">\n      <th></th>\n      <th>State</th>\n      <th>Lat</th>\n      <th>Long</th>\n      <th>Death_percent</th>\n      <th>Recovery_percent</th>\n    </tr>\n  </thead>\n  <tbody>\n    <tr>\n      <th>0</th>\n      <td>AL</td>\n      <td>32.3182</td>\n      <td>-86.9023</td>\n      <td>1.519397</td>\n      <td>0.424141</td>\n    </tr>\n    <tr>\n      <th>1</th>\n      <td>AK</td>\n      <td>61.3707</td>\n      <td>-152.4044</td>\n      <td>0.462199</td>\n      <td>0.392044</td>\n    </tr>\n    <tr>\n      <th>2</th>\n      <td>AS</td>\n      <td>-14.2710</td>\n      <td>-170.1320</td>\n      <td>0.000000</td>\n      <td>0.000000</td>\n    </tr>\n    <tr>\n      <th>3</th>\n      <td>AZ</td>\n      <td>33.7298</td>\n      <td>-111.4312</td>\n      <td>2.408137</td>\n      <td>0.167414</td>\n    </tr>\n    <tr>\n      <th>4</th>\n      <td>AR</td>\n      <td>34.9697</td>\n      <td>-92.3731</td>\n      <td>1.735685</td>\n      <td>0.893115</td>\n    </tr>\n  </tbody>\n</table>\n</div>"
     },
     "metadata": {},
     "execution_count": 21
    }
   ],
   "source": [
    "# rename columns and add recovery percent column\n",
    "us_covid_df = us_covid_df.rename(columns={\"Long_\": \"Long\", \"Mortality_Rate\":\"Death_percent\"})\n",
    "us_covid_df[\"Recovery_percent\"]=us_covid_df.Recovered/us_covid_df.Confirmed\n",
    "us_covid_df = us_covid_df[[\"State\", \"Lat\", \"Long\", \"Death_percent\", \"Recovery_percent\"]].fillna(0)\n",
    "us_covid_df.head()"
   ]
  },
  {
   "cell_type": "code",
   "execution_count": 22,
   "metadata": {},
   "outputs": [
    {
     "output_type": "execute_result",
     "data": {
      "text/plain": [
       "  State  Total_cases  Case_rate_per_100k  Total_deaths  Death_rate_per_100k  \\\n",
       "0    AK        17072                2315            84                   11   \n",
       "1    AL       199158                4074          3026                   61   \n",
       "2    AR       117360                3894          2037                   67   \n",
       "3    AS            0                   0             0                    0   \n",
       "4    AZ       252768                3524          6087                   84   \n",
       "\n",
       "       Lat      Long  Death_percent  Recovery_percent  \n",
       "0  61.3707 -152.4044       0.462199          0.392044  \n",
       "1  32.3182  -86.9023       1.519397          0.424141  \n",
       "2  34.9697  -92.3731       1.735685          0.893115  \n",
       "3 -14.2710 -170.1320       0.000000          0.000000  \n",
       "4  33.7298 -111.4312       2.408137          0.167414  "
      ],
      "text/html": "<div>\n<style scoped>\n    .dataframe tbody tr th:only-of-type {\n        vertical-align: middle;\n    }\n\n    .dataframe tbody tr th {\n        vertical-align: top;\n    }\n\n    .dataframe thead th {\n        text-align: right;\n    }\n</style>\n<table border=\"1\" class=\"dataframe\">\n  <thead>\n    <tr style=\"text-align: right;\">\n      <th></th>\n      <th>State</th>\n      <th>Total_cases</th>\n      <th>Case_rate_per_100k</th>\n      <th>Total_deaths</th>\n      <th>Death_rate_per_100k</th>\n      <th>Lat</th>\n      <th>Long</th>\n      <th>Death_percent</th>\n      <th>Recovery_percent</th>\n    </tr>\n  </thead>\n  <tbody>\n    <tr>\n      <th>0</th>\n      <td>AK</td>\n      <td>17072</td>\n      <td>2315</td>\n      <td>84</td>\n      <td>11</td>\n      <td>61.3707</td>\n      <td>-152.4044</td>\n      <td>0.462199</td>\n      <td>0.392044</td>\n    </tr>\n    <tr>\n      <th>1</th>\n      <td>AL</td>\n      <td>199158</td>\n      <td>4074</td>\n      <td>3026</td>\n      <td>61</td>\n      <td>32.3182</td>\n      <td>-86.9023</td>\n      <td>1.519397</td>\n      <td>0.424141</td>\n    </tr>\n    <tr>\n      <th>2</th>\n      <td>AR</td>\n      <td>117360</td>\n      <td>3894</td>\n      <td>2037</td>\n      <td>67</td>\n      <td>34.9697</td>\n      <td>-92.3731</td>\n      <td>1.735685</td>\n      <td>0.893115</td>\n    </tr>\n    <tr>\n      <th>3</th>\n      <td>AS</td>\n      <td>0</td>\n      <td>0</td>\n      <td>0</td>\n      <td>0</td>\n      <td>-14.2710</td>\n      <td>-170.1320</td>\n      <td>0.000000</td>\n      <td>0.000000</td>\n    </tr>\n    <tr>\n      <th>4</th>\n      <td>AZ</td>\n      <td>252768</td>\n      <td>3524</td>\n      <td>6087</td>\n      <td>84</td>\n      <td>33.7298</td>\n      <td>-111.4312</td>\n      <td>2.408137</td>\n      <td>0.167414</td>\n    </tr>\n  </tbody>\n</table>\n</div>"
     },
     "metadata": {},
     "execution_count": 22
    }
   ],
   "source": [
    "# merge two df into one dataframe using left joint.\n",
    "us_covid_combine_df = pd.merge(covid_stats_df, us_covid_df, how='left', on=['State','State'])\n",
    "us_covid_combine_df.head()"
   ]
  },
  {
   "cell_type": "code",
   "execution_count": 23,
   "metadata": {},
   "outputs": [],
   "source": [
    "# save to a csv file\n",
    "us_covid_combine_df.to_csv('../Data/states.csv')"
   ]
  },
  {
   "source": [
    "## World COVID-19 Data by Country"
   ],
   "cell_type": "markdown",
   "metadata": {}
  },
  {
   "cell_type": "code",
   "execution_count": 24,
   "metadata": {},
   "outputs": [
    {
     "output_type": "execute_result",
     "data": {
      "text/plain": [
       "   FIPS Admin2 Province_State Country_Region          Last_Update       Lat  \\\n",
       "0   NaN    NaN            NaN    Afghanistan  2020-11-06 05:24:55  33.93911   \n",
       "1   NaN    NaN            NaN        Albania  2020-11-06 05:24:55  41.15330   \n",
       "2   NaN    NaN            NaN        Algeria  2020-11-06 05:24:55  28.03390   \n",
       "3   NaN    NaN            NaN        Andorra  2020-11-06 05:24:55  42.50630   \n",
       "4   NaN    NaN            NaN         Angola  2020-11-06 05:24:55 -11.20270   \n",
       "\n",
       "       Long_  Confirmed  Deaths  Recovered   Active Combined_Key  \\\n",
       "0  67.709953      41935    1554      34440   5941.0  Afghanistan   \n",
       "1  20.168300      22721     543      11696  10482.0      Albania   \n",
       "2   1.659600      60169    2011      41244  16914.0      Algeria   \n",
       "3   1.521800       5135      75       3858   1202.0      Andorra   \n",
       "4  17.873900      12102     299       5350   6453.0       Angola   \n",
       "\n",
       "   Incidence_Rate  Case-Fatality_Ratio  \n",
       "0      107.723573             3.705735  \n",
       "1      789.526722             2.389860  \n",
       "2      137.212244             3.342253  \n",
       "3     6645.958714             1.460565  \n",
       "4       36.821948             2.470666  "
      ],
      "text/html": "<div>\n<style scoped>\n    .dataframe tbody tr th:only-of-type {\n        vertical-align: middle;\n    }\n\n    .dataframe tbody tr th {\n        vertical-align: top;\n    }\n\n    .dataframe thead th {\n        text-align: right;\n    }\n</style>\n<table border=\"1\" class=\"dataframe\">\n  <thead>\n    <tr style=\"text-align: right;\">\n      <th></th>\n      <th>FIPS</th>\n      <th>Admin2</th>\n      <th>Province_State</th>\n      <th>Country_Region</th>\n      <th>Last_Update</th>\n      <th>Lat</th>\n      <th>Long_</th>\n      <th>Confirmed</th>\n      <th>Deaths</th>\n      <th>Recovered</th>\n      <th>Active</th>\n      <th>Combined_Key</th>\n      <th>Incidence_Rate</th>\n      <th>Case-Fatality_Ratio</th>\n    </tr>\n  </thead>\n  <tbody>\n    <tr>\n      <th>0</th>\n      <td>NaN</td>\n      <td>NaN</td>\n      <td>NaN</td>\n      <td>Afghanistan</td>\n      <td>2020-11-06 05:24:55</td>\n      <td>33.93911</td>\n      <td>67.709953</td>\n      <td>41935</td>\n      <td>1554</td>\n      <td>34440</td>\n      <td>5941.0</td>\n      <td>Afghanistan</td>\n      <td>107.723573</td>\n      <td>3.705735</td>\n    </tr>\n    <tr>\n      <th>1</th>\n      <td>NaN</td>\n      <td>NaN</td>\n      <td>NaN</td>\n      <td>Albania</td>\n      <td>2020-11-06 05:24:55</td>\n      <td>41.15330</td>\n      <td>20.168300</td>\n      <td>22721</td>\n      <td>543</td>\n      <td>11696</td>\n      <td>10482.0</td>\n      <td>Albania</td>\n      <td>789.526722</td>\n      <td>2.389860</td>\n    </tr>\n    <tr>\n      <th>2</th>\n      <td>NaN</td>\n      <td>NaN</td>\n      <td>NaN</td>\n      <td>Algeria</td>\n      <td>2020-11-06 05:24:55</td>\n      <td>28.03390</td>\n      <td>1.659600</td>\n      <td>60169</td>\n      <td>2011</td>\n      <td>41244</td>\n      <td>16914.0</td>\n      <td>Algeria</td>\n      <td>137.212244</td>\n      <td>3.342253</td>\n    </tr>\n    <tr>\n      <th>3</th>\n      <td>NaN</td>\n      <td>NaN</td>\n      <td>NaN</td>\n      <td>Andorra</td>\n      <td>2020-11-06 05:24:55</td>\n      <td>42.50630</td>\n      <td>1.521800</td>\n      <td>5135</td>\n      <td>75</td>\n      <td>3858</td>\n      <td>1202.0</td>\n      <td>Andorra</td>\n      <td>6645.958714</td>\n      <td>1.460565</td>\n    </tr>\n    <tr>\n      <th>4</th>\n      <td>NaN</td>\n      <td>NaN</td>\n      <td>NaN</td>\n      <td>Angola</td>\n      <td>2020-11-06 05:24:55</td>\n      <td>-11.20270</td>\n      <td>17.873900</td>\n      <td>12102</td>\n      <td>299</td>\n      <td>5350</td>\n      <td>6453.0</td>\n      <td>Angola</td>\n      <td>36.821948</td>\n      <td>2.470666</td>\n    </tr>\n  </tbody>\n</table>\n</div>"
     },
     "metadata": {},
     "execution_count": 24
    }
   ],
   "source": [
    "# upload file and read into a pandas dataframe\n",
    "file = \"../Data/World_COVID-19_Stats.csv\"\n",
    "world_covid_df = pd.read_csv(file)\n",
    "world_covid_df.head()"
   ]
  },
  {
   "cell_type": "code",
   "execution_count": 25,
   "metadata": {},
   "outputs": [
    {
     "output_type": "execute_result",
     "data": {
      "text/plain": [
       "  Country_Region       Lat      Long_  Confirmed  Deaths  Recovered  \\\n",
       "0    Afghanistan  33.93911  67.709953      41935    1554      34440   \n",
       "1        Albania  41.15330  20.168300      22721     543      11696   \n",
       "2        Algeria  28.03390   1.659600      60169    2011      41244   \n",
       "3        Andorra  42.50630   1.521800       5135      75       3858   \n",
       "4         Angola -11.20270  17.873900      12102     299       5350   \n",
       "\n",
       "   Case-Fatality_Ratio  \n",
       "0             3.705735  \n",
       "1             2.389860  \n",
       "2             3.342253  \n",
       "3             1.460565  \n",
       "4             2.470666  "
      ],
      "text/html": "<div>\n<style scoped>\n    .dataframe tbody tr th:only-of-type {\n        vertical-align: middle;\n    }\n\n    .dataframe tbody tr th {\n        vertical-align: top;\n    }\n\n    .dataframe thead th {\n        text-align: right;\n    }\n</style>\n<table border=\"1\" class=\"dataframe\">\n  <thead>\n    <tr style=\"text-align: right;\">\n      <th></th>\n      <th>Country_Region</th>\n      <th>Lat</th>\n      <th>Long_</th>\n      <th>Confirmed</th>\n      <th>Deaths</th>\n      <th>Recovered</th>\n      <th>Case-Fatality_Ratio</th>\n    </tr>\n  </thead>\n  <tbody>\n    <tr>\n      <th>0</th>\n      <td>Afghanistan</td>\n      <td>33.93911</td>\n      <td>67.709953</td>\n      <td>41935</td>\n      <td>1554</td>\n      <td>34440</td>\n      <td>3.705735</td>\n    </tr>\n    <tr>\n      <th>1</th>\n      <td>Albania</td>\n      <td>41.15330</td>\n      <td>20.168300</td>\n      <td>22721</td>\n      <td>543</td>\n      <td>11696</td>\n      <td>2.389860</td>\n    </tr>\n    <tr>\n      <th>2</th>\n      <td>Algeria</td>\n      <td>28.03390</td>\n      <td>1.659600</td>\n      <td>60169</td>\n      <td>2011</td>\n      <td>41244</td>\n      <td>3.342253</td>\n    </tr>\n    <tr>\n      <th>3</th>\n      <td>Andorra</td>\n      <td>42.50630</td>\n      <td>1.521800</td>\n      <td>5135</td>\n      <td>75</td>\n      <td>3858</td>\n      <td>1.460565</td>\n    </tr>\n    <tr>\n      <th>4</th>\n      <td>Angola</td>\n      <td>-11.20270</td>\n      <td>17.873900</td>\n      <td>12102</td>\n      <td>299</td>\n      <td>5350</td>\n      <td>2.470666</td>\n    </tr>\n  </tbody>\n</table>\n</div>"
     },
     "metadata": {},
     "execution_count": 25
    }
   ],
   "source": [
    "# select relevant columns only\n",
    "world_covid_df = world_covid_df[[\"Country_Region\", \"Lat\", \"Long_\", \"Confirmed\", \"Deaths\", \"Recovered\", \"Case-Fatality_Ratio\"]]\n",
    "world_covid_df.head()"
   ]
  },
  {
   "cell_type": "code",
   "execution_count": 26,
   "metadata": {},
   "outputs": [
    {
     "output_type": "execute_result",
     "data": {
      "text/plain": [
       "       Country       Lat       Long  Confirmed  Deaths  Recovered  \\\n",
       "0  Afghanistan  33.93911  67.709953      41935    1554      34440   \n",
       "1      Albania  41.15330  20.168300      22721     543      11696   \n",
       "2      Algeria  28.03390   1.659600      60169    2011      41244   \n",
       "3      Andorra  42.50630   1.521800       5135      75       3858   \n",
       "4       Angola -11.20270  17.873900      12102     299       5350   \n",
       "\n",
       "   Death_percent  Recovery_percent  \n",
       "0       3.705735          0.821271  \n",
       "1       2.389860          0.514766  \n",
       "2       3.342253          0.685469  \n",
       "3       1.460565          0.751315  \n",
       "4       2.470666          0.442076  "
      ],
      "text/html": "<div>\n<style scoped>\n    .dataframe tbody tr th:only-of-type {\n        vertical-align: middle;\n    }\n\n    .dataframe tbody tr th {\n        vertical-align: top;\n    }\n\n    .dataframe thead th {\n        text-align: right;\n    }\n</style>\n<table border=\"1\" class=\"dataframe\">\n  <thead>\n    <tr style=\"text-align: right;\">\n      <th></th>\n      <th>Country</th>\n      <th>Lat</th>\n      <th>Long</th>\n      <th>Confirmed</th>\n      <th>Deaths</th>\n      <th>Recovered</th>\n      <th>Death_percent</th>\n      <th>Recovery_percent</th>\n    </tr>\n  </thead>\n  <tbody>\n    <tr>\n      <th>0</th>\n      <td>Afghanistan</td>\n      <td>33.93911</td>\n      <td>67.709953</td>\n      <td>41935</td>\n      <td>1554</td>\n      <td>34440</td>\n      <td>3.705735</td>\n      <td>0.821271</td>\n    </tr>\n    <tr>\n      <th>1</th>\n      <td>Albania</td>\n      <td>41.15330</td>\n      <td>20.168300</td>\n      <td>22721</td>\n      <td>543</td>\n      <td>11696</td>\n      <td>2.389860</td>\n      <td>0.514766</td>\n    </tr>\n    <tr>\n      <th>2</th>\n      <td>Algeria</td>\n      <td>28.03390</td>\n      <td>1.659600</td>\n      <td>60169</td>\n      <td>2011</td>\n      <td>41244</td>\n      <td>3.342253</td>\n      <td>0.685469</td>\n    </tr>\n    <tr>\n      <th>3</th>\n      <td>Andorra</td>\n      <td>42.50630</td>\n      <td>1.521800</td>\n      <td>5135</td>\n      <td>75</td>\n      <td>3858</td>\n      <td>1.460565</td>\n      <td>0.751315</td>\n    </tr>\n    <tr>\n      <th>4</th>\n      <td>Angola</td>\n      <td>-11.20270</td>\n      <td>17.873900</td>\n      <td>12102</td>\n      <td>299</td>\n      <td>5350</td>\n      <td>2.470666</td>\n      <td>0.442076</td>\n    </tr>\n  </tbody>\n</table>\n</div>"
     },
     "metadata": {},
     "execution_count": 26
    }
   ],
   "source": [
    "# rename columns and add a recovery percent column\n",
    "world_covid_df = world_covid_df.rename(columns={\"Long_\": \"Long\", \"Case-Fatality_Ratio\":\"Death_percent\", \"Country_Region\": \"Country\"})\n",
    "world_covid_df[\"Recovery_percent\"]=world_covid_df.Recovered/world_covid_df.Confirmed\n",
    "world_covid_df.head()"
   ]
  },
  {
   "cell_type": "code",
   "execution_count": 27,
   "metadata": {},
   "outputs": [
    {
     "output_type": "execute_result",
     "data": {
      "text/plain": [
       "                 Country        Lat       Long  Confirmed  Deaths  Recovered  \\\n",
       "0            Afghanistan  33.939110  67.709953      41935    1554      34440   \n",
       "1                Albania  41.153300  20.168300      22721     543      11696   \n",
       "2                Algeria  28.033900   1.659600      60169    2011      41244   \n",
       "3                Andorra  42.506300   1.521800       5135      75       3858   \n",
       "4                 Angola -11.202700  17.873900      12102     299       5350   \n",
       "...                  ...        ...        ...        ...     ...        ...   \n",
       "3955  West Bank and Gaza  31.952200  35.233200      56672     508      48680   \n",
       "3956      Western Sahara  24.215500 -12.885800         10       1          8   \n",
       "3957               Yemen  15.552727  48.516388       2063     601       1375   \n",
       "3958              Zambia -13.133897  27.849332      16770     349      15827   \n",
       "3959            Zimbabwe -19.015438  29.154857       8444     248       7975   \n",
       "\n",
       "      Death_percent  Recovery_percent  \n",
       "0          3.705735          0.821271  \n",
       "1          2.389860          0.514766  \n",
       "2          3.342253          0.685469  \n",
       "3          1.460565          0.751315  \n",
       "4          2.470666          0.442076  \n",
       "...             ...               ...  \n",
       "3955       0.896386          0.858978  \n",
       "3956      10.000000          0.800000  \n",
       "3957      29.132332          0.666505  \n",
       "3958       2.081097          0.943769  \n",
       "3959       2.936997          0.944458  \n",
       "\n",
       "[3960 rows x 8 columns]"
      ],
      "text/html": "<div>\n<style scoped>\n    .dataframe tbody tr th:only-of-type {\n        vertical-align: middle;\n    }\n\n    .dataframe tbody tr th {\n        vertical-align: top;\n    }\n\n    .dataframe thead th {\n        text-align: right;\n    }\n</style>\n<table border=\"1\" class=\"dataframe\">\n  <thead>\n    <tr style=\"text-align: right;\">\n      <th></th>\n      <th>Country</th>\n      <th>Lat</th>\n      <th>Long</th>\n      <th>Confirmed</th>\n      <th>Deaths</th>\n      <th>Recovered</th>\n      <th>Death_percent</th>\n      <th>Recovery_percent</th>\n    </tr>\n  </thead>\n  <tbody>\n    <tr>\n      <th>0</th>\n      <td>Afghanistan</td>\n      <td>33.939110</td>\n      <td>67.709953</td>\n      <td>41935</td>\n      <td>1554</td>\n      <td>34440</td>\n      <td>3.705735</td>\n      <td>0.821271</td>\n    </tr>\n    <tr>\n      <th>1</th>\n      <td>Albania</td>\n      <td>41.153300</td>\n      <td>20.168300</td>\n      <td>22721</td>\n      <td>543</td>\n      <td>11696</td>\n      <td>2.389860</td>\n      <td>0.514766</td>\n    </tr>\n    <tr>\n      <th>2</th>\n      <td>Algeria</td>\n      <td>28.033900</td>\n      <td>1.659600</td>\n      <td>60169</td>\n      <td>2011</td>\n      <td>41244</td>\n      <td>3.342253</td>\n      <td>0.685469</td>\n    </tr>\n    <tr>\n      <th>3</th>\n      <td>Andorra</td>\n      <td>42.506300</td>\n      <td>1.521800</td>\n      <td>5135</td>\n      <td>75</td>\n      <td>3858</td>\n      <td>1.460565</td>\n      <td>0.751315</td>\n    </tr>\n    <tr>\n      <th>4</th>\n      <td>Angola</td>\n      <td>-11.202700</td>\n      <td>17.873900</td>\n      <td>12102</td>\n      <td>299</td>\n      <td>5350</td>\n      <td>2.470666</td>\n      <td>0.442076</td>\n    </tr>\n    <tr>\n      <th>...</th>\n      <td>...</td>\n      <td>...</td>\n      <td>...</td>\n      <td>...</td>\n      <td>...</td>\n      <td>...</td>\n      <td>...</td>\n      <td>...</td>\n    </tr>\n    <tr>\n      <th>3955</th>\n      <td>West Bank and Gaza</td>\n      <td>31.952200</td>\n      <td>35.233200</td>\n      <td>56672</td>\n      <td>508</td>\n      <td>48680</td>\n      <td>0.896386</td>\n      <td>0.858978</td>\n    </tr>\n    <tr>\n      <th>3956</th>\n      <td>Western Sahara</td>\n      <td>24.215500</td>\n      <td>-12.885800</td>\n      <td>10</td>\n      <td>1</td>\n      <td>8</td>\n      <td>10.000000</td>\n      <td>0.800000</td>\n    </tr>\n    <tr>\n      <th>3957</th>\n      <td>Yemen</td>\n      <td>15.552727</td>\n      <td>48.516388</td>\n      <td>2063</td>\n      <td>601</td>\n      <td>1375</td>\n      <td>29.132332</td>\n      <td>0.666505</td>\n    </tr>\n    <tr>\n      <th>3958</th>\n      <td>Zambia</td>\n      <td>-13.133897</td>\n      <td>27.849332</td>\n      <td>16770</td>\n      <td>349</td>\n      <td>15827</td>\n      <td>2.081097</td>\n      <td>0.943769</td>\n    </tr>\n    <tr>\n      <th>3959</th>\n      <td>Zimbabwe</td>\n      <td>-19.015438</td>\n      <td>29.154857</td>\n      <td>8444</td>\n      <td>248</td>\n      <td>7975</td>\n      <td>2.936997</td>\n      <td>0.944458</td>\n    </tr>\n  </tbody>\n</table>\n<p>3960 rows × 8 columns</p>\n</div>"
     },
     "metadata": {},
     "execution_count": 27
    }
   ],
   "source": [
    "# add missing geoinfo to country\n",
    "for index, row in world_covid_df.iterrows(): \n",
    "    if row[\"Country\"] == \"Canada\":\n",
    "        world_covid_df.loc[index, \"Lat\"] = 56.1304\n",
    "        world_covid_df.loc[index, \"Long\"] = 106.3468\n",
    "world_covid_df"
   ]
  },
  {
   "cell_type": "code",
   "execution_count": 28,
   "metadata": {},
   "outputs": [],
   "source": [
    "# save file as a csv\n",
    "world_covid_df.to_csv('../Data/world.csv')"
   ]
  },
  {
   "source": [
    "## build SQlite DataBase"
   ],
   "cell_type": "markdown",
   "metadata": {}
  },
  {
   "cell_type": "code",
   "execution_count": 29,
   "metadata": {},
   "outputs": [],
   "source": [
    "# import modules\n",
    "import sqlite3\n",
    "from sqlite3 import Error\n",
    "\n",
    "# series of functions to  build database tables in sqlite database.\n",
    "\n",
    "def create_connection(db_file):\n",
    "    \"\"\" create a database connection to the SQLite database\n",
    "        specified by db_file\n",
    "    :param db_file: database file\n",
    "    :return: Connection object or None\n",
    "    \"\"\"\n",
    "    conn = None\n",
    "    try:\n",
    "        conn = sqlite3.connect(db_file)\n",
    "        return conn\n",
    "    except Error as e:\n",
    "        print(e)\n",
    "    return conn\n",
    "def create_table(conn, create_table_sql):\n",
    "    \"\"\" create a table from the create_table_sql statement\n",
    "    :param conn: Connection object\n",
    "    :param create_table_sql: a CREATE TABLE statement\n",
    "    :return:\n",
    "    \"\"\"\n",
    "    try:\n",
    "        c = conn.cursor()\n",
    "        c.execute(create_table_sql)\n",
    "    except Error as e:\n",
    "        print(e)\n",
    "\n",
    "def drop_table(conn, drop_table_sql):\n",
    "    \"\"\" drop a table from the drop_table_sql statement\n",
    "    :param conn: Connection object\n",
    "    :param drop_table_sql: a drop TABLE statement\n",
    "    :return:\n",
    "    \"\"\"\n",
    "    try:\n",
    "        c = conn.cursor()\n",
    "        c.execute(drop_table_sql)\n",
    "    except Error as e:\n",
    "        print(e)\n",
    "\n",
    "# build empty tables with correct columns names\n",
    "def main():\n",
    "    database = r\"../DataBase/covid-19.db\"\n",
    "    sql_create_monthly_table = \"\"\"CREATE TABLE monthly(\n",
    "                                        id INTEGER PRIMARY KEY AUTOINCREMENT, \n",
    "                                        Date text NOT NULL,\n",
    "                                        State text,\n",
    "                                        Average_cases float,\n",
    "                                        Average_death float,\n",
    "                                        Average_recovery float,\n",
    "                                        Death_percent float,\n",
    "                                        Recovery_percent float\n",
    "                                    ); \"\"\"\n",
    "\n",
    "    sql_drop_monthly_table = \"\"\"DROP TABLE if exists monthly;\"\"\"\n",
    "    \n",
    "    sql_create_states_table = \"\"\"CREATE TABLE states(\n",
    "                                        id INTEGER PRIMARY KEY AUTOINCREMENT,\n",
    "                                        State text,\n",
    "                                        Total_cases float,\n",
    "                                        Case_rate_per_100k float,\n",
    "                                        Total_deaths float,\n",
    "                                        Death_rate_per_100k float,\n",
    "                                        Lat float,\n",
    "                                        Long float,\n",
    "                                        Death_percent float,\n",
    "                                        Recovery_percent float\n",
    "                                );\"\"\"\n",
    "\n",
    "    sql_drop_states_table = \"\"\"DROP TABLE if exists states;\"\"\"    \n",
    "\n",
    "    sql_create_world_table = \"\"\"CREATE TABLE world(\n",
    "                                        id INTEGER PRIMARY KEY AUTOINCREMENT,\n",
    "                                        Country text,\n",
    "                                        Lat float,\n",
    "                                        Long float,\n",
    "                                        Confirmed float,\n",
    "                                        Deaths float,\n",
    "                                        Recovered float,\n",
    "                                        Recovery_percent float,\n",
    "                                        Death_percent float\n",
    "                                );\"\"\"\n",
    "\n",
    "    sql_drop_world_table = \"\"\"DROP TABLE if exists world;\"\"\"\n",
    "\n",
    "    # create a database connection\n",
    "    conn = create_connection(database)\n",
    "    \n",
    "    # create tables\n",
    "    if conn is not None:\n",
    "        # create covid_monthly table\n",
    "        drop_table(conn, sql_drop_monthly_table)\n",
    "        create_table(conn, sql_create_monthly_table)\n",
    "\n",
    "        # create covid_states table\n",
    "        drop_table(conn, sql_drop_states_table)\n",
    "        create_table(conn, sql_create_states_table)\n",
    "\n",
    "        #create covid_world table\n",
    "        drop_table(conn, sql_drop_world_table)\n",
    "        create_table(conn, sql_create_world_table)\n",
    "        \n",
    "    # error handling\n",
    "    else:\n",
    "        print(\"Error! cannot create the database connection.\")\n",
    "if __name__ == '__main__':\n",
    "    main()"
   ]
  },
  {
   "cell_type": "code",
   "execution_count": 30,
   "metadata": {},
   "outputs": [],
   "source": [
    "# create engine connection to database\n",
    "engine = create_engine('sqlite:///../DataBase/covid-19.db')\n",
    "\n",
    "# populate tables with information from dataframes\n",
    "covid_monthly_df.to_sql(name='monthly', con=engine, if_exists = \"append\", index=False)\n",
    "world_covid_df.to_sql(name='world', con=engine, if_exists = \"append\", index= False)\n",
    "us_covid_combine_df.to_sql(name='states', con=engine, if_exists = \"append\", index=False)"
   ]
  },
  {
   "cell_type": "code",
   "execution_count": 31,
   "metadata": {},
   "outputs": [
    {
     "output_type": "execute_result",
     "data": {
      "text/plain": [
       "      id     Date State  Average_cases  Average_death  Average_recovery  \\\n",
       "0      1  2020-01    AK           0.00           0.00              0.00   \n",
       "1      2  2020-01    AL           0.00           0.00              0.00   \n",
       "2      3  2020-01    AR           0.00           0.00              0.00   \n",
       "3      4  2020-01    AS           0.00           0.00              0.00   \n",
       "4      5  2020-01    AZ           0.60           0.00              0.60   \n",
       "..   ...      ...   ...            ...            ...               ...   \n",
       "775  776  2021-01    VT        9806.13         160.65           9645.48   \n",
       "776  777  2021-01    WA      284219.81        3885.90         280333.90   \n",
       "777  778  2021-01    WI      561850.90        5840.84         556010.06   \n",
       "778  779  2021-01    WV      106453.87        1717.39         104736.48   \n",
       "779  780  2021-01    WY       48685.35         525.45          48159.90   \n",
       "\n",
       "     Death_percent  Recovery_percent  \n",
       "0             0.00              0.00  \n",
       "1             0.00              0.00  \n",
       "2             0.00              0.00  \n",
       "3             0.00              0.00  \n",
       "4             0.00            100.00  \n",
       "..             ...               ...  \n",
       "775           1.64             98.36  \n",
       "776           1.37             98.63  \n",
       "777           1.04             98.96  \n",
       "778           1.61             98.39  \n",
       "779           1.08             98.92  \n",
       "\n",
       "[780 rows x 8 columns]"
      ],
      "text/html": "<div>\n<style scoped>\n    .dataframe tbody tr th:only-of-type {\n        vertical-align: middle;\n    }\n\n    .dataframe tbody tr th {\n        vertical-align: top;\n    }\n\n    .dataframe thead th {\n        text-align: right;\n    }\n</style>\n<table border=\"1\" class=\"dataframe\">\n  <thead>\n    <tr style=\"text-align: right;\">\n      <th></th>\n      <th>id</th>\n      <th>Date</th>\n      <th>State</th>\n      <th>Average_cases</th>\n      <th>Average_death</th>\n      <th>Average_recovery</th>\n      <th>Death_percent</th>\n      <th>Recovery_percent</th>\n    </tr>\n  </thead>\n  <tbody>\n    <tr>\n      <th>0</th>\n      <td>1</td>\n      <td>2020-01</td>\n      <td>AK</td>\n      <td>0.00</td>\n      <td>0.00</td>\n      <td>0.00</td>\n      <td>0.00</td>\n      <td>0.00</td>\n    </tr>\n    <tr>\n      <th>1</th>\n      <td>2</td>\n      <td>2020-01</td>\n      <td>AL</td>\n      <td>0.00</td>\n      <td>0.00</td>\n      <td>0.00</td>\n      <td>0.00</td>\n      <td>0.00</td>\n    </tr>\n    <tr>\n      <th>2</th>\n      <td>3</td>\n      <td>2020-01</td>\n      <td>AR</td>\n      <td>0.00</td>\n      <td>0.00</td>\n      <td>0.00</td>\n      <td>0.00</td>\n      <td>0.00</td>\n    </tr>\n    <tr>\n      <th>3</th>\n      <td>4</td>\n      <td>2020-01</td>\n      <td>AS</td>\n      <td>0.00</td>\n      <td>0.00</td>\n      <td>0.00</td>\n      <td>0.00</td>\n      <td>0.00</td>\n    </tr>\n    <tr>\n      <th>4</th>\n      <td>5</td>\n      <td>2020-01</td>\n      <td>AZ</td>\n      <td>0.60</td>\n      <td>0.00</td>\n      <td>0.60</td>\n      <td>0.00</td>\n      <td>100.00</td>\n    </tr>\n    <tr>\n      <th>...</th>\n      <td>...</td>\n      <td>...</td>\n      <td>...</td>\n      <td>...</td>\n      <td>...</td>\n      <td>...</td>\n      <td>...</td>\n      <td>...</td>\n    </tr>\n    <tr>\n      <th>775</th>\n      <td>776</td>\n      <td>2021-01</td>\n      <td>VT</td>\n      <td>9806.13</td>\n      <td>160.65</td>\n      <td>9645.48</td>\n      <td>1.64</td>\n      <td>98.36</td>\n    </tr>\n    <tr>\n      <th>776</th>\n      <td>777</td>\n      <td>2021-01</td>\n      <td>WA</td>\n      <td>284219.81</td>\n      <td>3885.90</td>\n      <td>280333.90</td>\n      <td>1.37</td>\n      <td>98.63</td>\n    </tr>\n    <tr>\n      <th>777</th>\n      <td>778</td>\n      <td>2021-01</td>\n      <td>WI</td>\n      <td>561850.90</td>\n      <td>5840.84</td>\n      <td>556010.06</td>\n      <td>1.04</td>\n      <td>98.96</td>\n    </tr>\n    <tr>\n      <th>778</th>\n      <td>779</td>\n      <td>2021-01</td>\n      <td>WV</td>\n      <td>106453.87</td>\n      <td>1717.39</td>\n      <td>104736.48</td>\n      <td>1.61</td>\n      <td>98.39</td>\n    </tr>\n    <tr>\n      <th>779</th>\n      <td>780</td>\n      <td>2021-01</td>\n      <td>WY</td>\n      <td>48685.35</td>\n      <td>525.45</td>\n      <td>48159.90</td>\n      <td>1.08</td>\n      <td>98.92</td>\n    </tr>\n  </tbody>\n</table>\n<p>780 rows × 8 columns</p>\n</div>"
     },
     "metadata": {},
     "execution_count": 31
    }
   ],
   "source": [
    "# querry monthly data from database. to test and make sure tables are working\n",
    "pd.read_sql('select * from monthly', engine)"
   ]
  },
  {
   "cell_type": "code",
   "execution_count": 37,
   "metadata": {},
   "outputs": [
    {
     "output_type": "error",
     "ename": "ConnectionError",
     "evalue": "HTTPConnectionPool(host='127.0.0.1', port=5000): Max retries exceeded with url: /api/v1.0/monthly (Caused by NewConnectionError('<urllib3.connection.HTTPConnection object at 0x0000021039070240>: Failed to establish a new connection: [WinError 10061] No connection could be made because the target machine actively refused it',))",
     "traceback": [
      "\u001b[1;31m---------------------------------------------------------------------------\u001b[0m",
      "\u001b[1;31mConnectionRefusedError\u001b[0m                    Traceback (most recent call last)",
      "\u001b[1;32m~\\anaconda3\\envs\\PythonData\\lib\\site-packages\\urllib3\\connection.py\u001b[0m in \u001b[0;36m_new_conn\u001b[1;34m(self)\u001b[0m\n\u001b[0;32m    159\u001b[0m             conn = connection.create_connection(\n\u001b[1;32m--> 160\u001b[1;33m                 \u001b[1;33m(\u001b[0m\u001b[0mself\u001b[0m\u001b[1;33m.\u001b[0m\u001b[0m_dns_host\u001b[0m\u001b[1;33m,\u001b[0m \u001b[0mself\u001b[0m\u001b[1;33m.\u001b[0m\u001b[0mport\u001b[0m\u001b[1;33m)\u001b[0m\u001b[1;33m,\u001b[0m \u001b[0mself\u001b[0m\u001b[1;33m.\u001b[0m\u001b[0mtimeout\u001b[0m\u001b[1;33m,\u001b[0m \u001b[1;33m**\u001b[0m\u001b[0mextra_kw\u001b[0m\u001b[1;33m\u001b[0m\u001b[1;33m\u001b[0m\u001b[0m\n\u001b[0m\u001b[0;32m    161\u001b[0m             )\n",
      "\u001b[1;32m~\\anaconda3\\envs\\PythonData\\lib\\site-packages\\urllib3\\util\\connection.py\u001b[0m in \u001b[0;36mcreate_connection\u001b[1;34m(address, timeout, source_address, socket_options)\u001b[0m\n\u001b[0;32m     83\u001b[0m     \u001b[1;32mif\u001b[0m \u001b[0merr\u001b[0m \u001b[1;32mis\u001b[0m \u001b[1;32mnot\u001b[0m \u001b[1;32mNone\u001b[0m\u001b[1;33m:\u001b[0m\u001b[1;33m\u001b[0m\u001b[1;33m\u001b[0m\u001b[0m\n\u001b[1;32m---> 84\u001b[1;33m         \u001b[1;32mraise\u001b[0m \u001b[0merr\u001b[0m\u001b[1;33m\u001b[0m\u001b[1;33m\u001b[0m\u001b[0m\n\u001b[0m\u001b[0;32m     85\u001b[0m \u001b[1;33m\u001b[0m\u001b[0m\n",
      "\u001b[1;32m~\\anaconda3\\envs\\PythonData\\lib\\site-packages\\urllib3\\util\\connection.py\u001b[0m in \u001b[0;36mcreate_connection\u001b[1;34m(address, timeout, source_address, socket_options)\u001b[0m\n\u001b[0;32m     73\u001b[0m                 \u001b[0msock\u001b[0m\u001b[1;33m.\u001b[0m\u001b[0mbind\u001b[0m\u001b[1;33m(\u001b[0m\u001b[0msource_address\u001b[0m\u001b[1;33m)\u001b[0m\u001b[1;33m\u001b[0m\u001b[1;33m\u001b[0m\u001b[0m\n\u001b[1;32m---> 74\u001b[1;33m             \u001b[0msock\u001b[0m\u001b[1;33m.\u001b[0m\u001b[0mconnect\u001b[0m\u001b[1;33m(\u001b[0m\u001b[0msa\u001b[0m\u001b[1;33m)\u001b[0m\u001b[1;33m\u001b[0m\u001b[1;33m\u001b[0m\u001b[0m\n\u001b[0m\u001b[0;32m     75\u001b[0m             \u001b[1;32mreturn\u001b[0m \u001b[0msock\u001b[0m\u001b[1;33m\u001b[0m\u001b[1;33m\u001b[0m\u001b[0m\n",
      "\u001b[1;31mConnectionRefusedError\u001b[0m: [WinError 10061] No connection could be made because the target machine actively refused it",
      "\nDuring handling of the above exception, another exception occurred:\n",
      "\u001b[1;31mNewConnectionError\u001b[0m                        Traceback (most recent call last)",
      "\u001b[1;32m~\\anaconda3\\envs\\PythonData\\lib\\site-packages\\urllib3\\connectionpool.py\u001b[0m in \u001b[0;36murlopen\u001b[1;34m(self, method, url, body, headers, retries, redirect, assert_same_host, timeout, pool_timeout, release_conn, chunked, body_pos, **response_kw)\u001b[0m\n\u001b[0;32m    676\u001b[0m                 \u001b[0mheaders\u001b[0m\u001b[1;33m=\u001b[0m\u001b[0mheaders\u001b[0m\u001b[1;33m,\u001b[0m\u001b[1;33m\u001b[0m\u001b[1;33m\u001b[0m\u001b[0m\n\u001b[1;32m--> 677\u001b[1;33m                 \u001b[0mchunked\u001b[0m\u001b[1;33m=\u001b[0m\u001b[0mchunked\u001b[0m\u001b[1;33m,\u001b[0m\u001b[1;33m\u001b[0m\u001b[1;33m\u001b[0m\u001b[0m\n\u001b[0m\u001b[0;32m    678\u001b[0m             )\n",
      "\u001b[1;32m~\\anaconda3\\envs\\PythonData\\lib\\site-packages\\urllib3\\connectionpool.py\u001b[0m in \u001b[0;36m_make_request\u001b[1;34m(self, conn, method, url, timeout, chunked, **httplib_request_kw)\u001b[0m\n\u001b[0;32m    391\u001b[0m         \u001b[1;32melse\u001b[0m\u001b[1;33m:\u001b[0m\u001b[1;33m\u001b[0m\u001b[1;33m\u001b[0m\u001b[0m\n\u001b[1;32m--> 392\u001b[1;33m             \u001b[0mconn\u001b[0m\u001b[1;33m.\u001b[0m\u001b[0mrequest\u001b[0m\u001b[1;33m(\u001b[0m\u001b[0mmethod\u001b[0m\u001b[1;33m,\u001b[0m \u001b[0murl\u001b[0m\u001b[1;33m,\u001b[0m \u001b[1;33m**\u001b[0m\u001b[0mhttplib_request_kw\u001b[0m\u001b[1;33m)\u001b[0m\u001b[1;33m\u001b[0m\u001b[1;33m\u001b[0m\u001b[0m\n\u001b[0m\u001b[0;32m    393\u001b[0m \u001b[1;33m\u001b[0m\u001b[0m\n",
      "\u001b[1;32m~\\anaconda3\\envs\\PythonData\\lib\\http\\client.py\u001b[0m in \u001b[0;36mrequest\u001b[1;34m(self, method, url, body, headers, encode_chunked)\u001b[0m\n\u001b[0;32m   1261\u001b[0m         \u001b[1;34m\"\"\"Send a complete request to the server.\"\"\"\u001b[0m\u001b[1;33m\u001b[0m\u001b[1;33m\u001b[0m\u001b[0m\n\u001b[1;32m-> 1262\u001b[1;33m         \u001b[0mself\u001b[0m\u001b[1;33m.\u001b[0m\u001b[0m_send_request\u001b[0m\u001b[1;33m(\u001b[0m\u001b[0mmethod\u001b[0m\u001b[1;33m,\u001b[0m \u001b[0murl\u001b[0m\u001b[1;33m,\u001b[0m \u001b[0mbody\u001b[0m\u001b[1;33m,\u001b[0m \u001b[0mheaders\u001b[0m\u001b[1;33m,\u001b[0m \u001b[0mencode_chunked\u001b[0m\u001b[1;33m)\u001b[0m\u001b[1;33m\u001b[0m\u001b[1;33m\u001b[0m\u001b[0m\n\u001b[0m\u001b[0;32m   1263\u001b[0m \u001b[1;33m\u001b[0m\u001b[0m\n",
      "\u001b[1;32m~\\anaconda3\\envs\\PythonData\\lib\\http\\client.py\u001b[0m in \u001b[0;36m_send_request\u001b[1;34m(self, method, url, body, headers, encode_chunked)\u001b[0m\n\u001b[0;32m   1307\u001b[0m             \u001b[0mbody\u001b[0m \u001b[1;33m=\u001b[0m \u001b[0m_encode\u001b[0m\u001b[1;33m(\u001b[0m\u001b[0mbody\u001b[0m\u001b[1;33m,\u001b[0m \u001b[1;34m'body'\u001b[0m\u001b[1;33m)\u001b[0m\u001b[1;33m\u001b[0m\u001b[1;33m\u001b[0m\u001b[0m\n\u001b[1;32m-> 1308\u001b[1;33m         \u001b[0mself\u001b[0m\u001b[1;33m.\u001b[0m\u001b[0mendheaders\u001b[0m\u001b[1;33m(\u001b[0m\u001b[0mbody\u001b[0m\u001b[1;33m,\u001b[0m \u001b[0mencode_chunked\u001b[0m\u001b[1;33m=\u001b[0m\u001b[0mencode_chunked\u001b[0m\u001b[1;33m)\u001b[0m\u001b[1;33m\u001b[0m\u001b[1;33m\u001b[0m\u001b[0m\n\u001b[0m\u001b[0;32m   1309\u001b[0m \u001b[1;33m\u001b[0m\u001b[0m\n",
      "\u001b[1;32m~\\anaconda3\\envs\\PythonData\\lib\\http\\client.py\u001b[0m in \u001b[0;36mendheaders\u001b[1;34m(self, message_body, encode_chunked)\u001b[0m\n\u001b[0;32m   1256\u001b[0m             \u001b[1;32mraise\u001b[0m \u001b[0mCannotSendHeader\u001b[0m\u001b[1;33m(\u001b[0m\u001b[1;33m)\u001b[0m\u001b[1;33m\u001b[0m\u001b[1;33m\u001b[0m\u001b[0m\n\u001b[1;32m-> 1257\u001b[1;33m         \u001b[0mself\u001b[0m\u001b[1;33m.\u001b[0m\u001b[0m_send_output\u001b[0m\u001b[1;33m(\u001b[0m\u001b[0mmessage_body\u001b[0m\u001b[1;33m,\u001b[0m \u001b[0mencode_chunked\u001b[0m\u001b[1;33m=\u001b[0m\u001b[0mencode_chunked\u001b[0m\u001b[1;33m)\u001b[0m\u001b[1;33m\u001b[0m\u001b[1;33m\u001b[0m\u001b[0m\n\u001b[0m\u001b[0;32m   1258\u001b[0m \u001b[1;33m\u001b[0m\u001b[0m\n",
      "\u001b[1;32m~\\anaconda3\\envs\\PythonData\\lib\\http\\client.py\u001b[0m in \u001b[0;36m_send_output\u001b[1;34m(self, message_body, encode_chunked)\u001b[0m\n\u001b[0;32m   1035\u001b[0m         \u001b[1;32mdel\u001b[0m \u001b[0mself\u001b[0m\u001b[1;33m.\u001b[0m\u001b[0m_buffer\u001b[0m\u001b[1;33m[\u001b[0m\u001b[1;33m:\u001b[0m\u001b[1;33m]\u001b[0m\u001b[1;33m\u001b[0m\u001b[1;33m\u001b[0m\u001b[0m\n\u001b[1;32m-> 1036\u001b[1;33m         \u001b[0mself\u001b[0m\u001b[1;33m.\u001b[0m\u001b[0msend\u001b[0m\u001b[1;33m(\u001b[0m\u001b[0mmsg\u001b[0m\u001b[1;33m)\u001b[0m\u001b[1;33m\u001b[0m\u001b[1;33m\u001b[0m\u001b[0m\n\u001b[0m\u001b[0;32m   1037\u001b[0m \u001b[1;33m\u001b[0m\u001b[0m\n",
      "\u001b[1;32m~\\anaconda3\\envs\\PythonData\\lib\\http\\client.py\u001b[0m in \u001b[0;36msend\u001b[1;34m(self, data)\u001b[0m\n\u001b[0;32m    973\u001b[0m             \u001b[1;32mif\u001b[0m \u001b[0mself\u001b[0m\u001b[1;33m.\u001b[0m\u001b[0mauto_open\u001b[0m\u001b[1;33m:\u001b[0m\u001b[1;33m\u001b[0m\u001b[1;33m\u001b[0m\u001b[0m\n\u001b[1;32m--> 974\u001b[1;33m                 \u001b[0mself\u001b[0m\u001b[1;33m.\u001b[0m\u001b[0mconnect\u001b[0m\u001b[1;33m(\u001b[0m\u001b[1;33m)\u001b[0m\u001b[1;33m\u001b[0m\u001b[1;33m\u001b[0m\u001b[0m\n\u001b[0m\u001b[0;32m    975\u001b[0m             \u001b[1;32melse\u001b[0m\u001b[1;33m:\u001b[0m\u001b[1;33m\u001b[0m\u001b[1;33m\u001b[0m\u001b[0m\n",
      "\u001b[1;32m~\\anaconda3\\envs\\PythonData\\lib\\site-packages\\urllib3\\connection.py\u001b[0m in \u001b[0;36mconnect\u001b[1;34m(self)\u001b[0m\n\u001b[0;32m    186\u001b[0m     \u001b[1;32mdef\u001b[0m \u001b[0mconnect\u001b[0m\u001b[1;33m(\u001b[0m\u001b[0mself\u001b[0m\u001b[1;33m)\u001b[0m\u001b[1;33m:\u001b[0m\u001b[1;33m\u001b[0m\u001b[1;33m\u001b[0m\u001b[0m\n\u001b[1;32m--> 187\u001b[1;33m         \u001b[0mconn\u001b[0m \u001b[1;33m=\u001b[0m \u001b[0mself\u001b[0m\u001b[1;33m.\u001b[0m\u001b[0m_new_conn\u001b[0m\u001b[1;33m(\u001b[0m\u001b[1;33m)\u001b[0m\u001b[1;33m\u001b[0m\u001b[1;33m\u001b[0m\u001b[0m\n\u001b[0m\u001b[0;32m    188\u001b[0m         \u001b[0mself\u001b[0m\u001b[1;33m.\u001b[0m\u001b[0m_prepare_conn\u001b[0m\u001b[1;33m(\u001b[0m\u001b[0mconn\u001b[0m\u001b[1;33m)\u001b[0m\u001b[1;33m\u001b[0m\u001b[1;33m\u001b[0m\u001b[0m\n",
      "\u001b[1;32m~\\anaconda3\\envs\\PythonData\\lib\\site-packages\\urllib3\\connection.py\u001b[0m in \u001b[0;36m_new_conn\u001b[1;34m(self)\u001b[0m\n\u001b[0;32m    171\u001b[0m             raise NewConnectionError(\n\u001b[1;32m--> 172\u001b[1;33m                 \u001b[0mself\u001b[0m\u001b[1;33m,\u001b[0m \u001b[1;34m\"Failed to establish a new connection: %s\"\u001b[0m \u001b[1;33m%\u001b[0m \u001b[0me\u001b[0m\u001b[1;33m\u001b[0m\u001b[1;33m\u001b[0m\u001b[0m\n\u001b[0m\u001b[0;32m    173\u001b[0m             )\n",
      "\u001b[1;31mNewConnectionError\u001b[0m: <urllib3.connection.HTTPConnection object at 0x0000021039070240>: Failed to establish a new connection: [WinError 10061] No connection could be made because the target machine actively refused it",
      "\nDuring handling of the above exception, another exception occurred:\n",
      "\u001b[1;31mMaxRetryError\u001b[0m                             Traceback (most recent call last)",
      "\u001b[1;32m~\\anaconda3\\envs\\PythonData\\lib\\site-packages\\requests\\adapters.py\u001b[0m in \u001b[0;36msend\u001b[1;34m(self, request, stream, timeout, verify, cert, proxies)\u001b[0m\n\u001b[0;32m    448\u001b[0m                     \u001b[0mretries\u001b[0m\u001b[1;33m=\u001b[0m\u001b[0mself\u001b[0m\u001b[1;33m.\u001b[0m\u001b[0mmax_retries\u001b[0m\u001b[1;33m,\u001b[0m\u001b[1;33m\u001b[0m\u001b[1;33m\u001b[0m\u001b[0m\n\u001b[1;32m--> 449\u001b[1;33m                     \u001b[0mtimeout\u001b[0m\u001b[1;33m=\u001b[0m\u001b[0mtimeout\u001b[0m\u001b[1;33m\u001b[0m\u001b[1;33m\u001b[0m\u001b[0m\n\u001b[0m\u001b[0;32m    450\u001b[0m                 )\n",
      "\u001b[1;32m~\\anaconda3\\envs\\PythonData\\lib\\site-packages\\urllib3\\connectionpool.py\u001b[0m in \u001b[0;36murlopen\u001b[1;34m(self, method, url, body, headers, retries, redirect, assert_same_host, timeout, pool_timeout, release_conn, chunked, body_pos, **response_kw)\u001b[0m\n\u001b[0;32m    726\u001b[0m             retries = retries.increment(\n\u001b[1;32m--> 727\u001b[1;33m                 \u001b[0mmethod\u001b[0m\u001b[1;33m,\u001b[0m \u001b[0murl\u001b[0m\u001b[1;33m,\u001b[0m \u001b[0merror\u001b[0m\u001b[1;33m=\u001b[0m\u001b[0me\u001b[0m\u001b[1;33m,\u001b[0m \u001b[0m_pool\u001b[0m\u001b[1;33m=\u001b[0m\u001b[0mself\u001b[0m\u001b[1;33m,\u001b[0m \u001b[0m_stacktrace\u001b[0m\u001b[1;33m=\u001b[0m\u001b[0msys\u001b[0m\u001b[1;33m.\u001b[0m\u001b[0mexc_info\u001b[0m\u001b[1;33m(\u001b[0m\u001b[1;33m)\u001b[0m\u001b[1;33m[\u001b[0m\u001b[1;36m2\u001b[0m\u001b[1;33m]\u001b[0m\u001b[1;33m\u001b[0m\u001b[1;33m\u001b[0m\u001b[0m\n\u001b[0m\u001b[0;32m    728\u001b[0m             )\n",
      "\u001b[1;32m~\\anaconda3\\envs\\PythonData\\lib\\site-packages\\urllib3\\util\\retry.py\u001b[0m in \u001b[0;36mincrement\u001b[1;34m(self, method, url, response, error, _pool, _stacktrace)\u001b[0m\n\u001b[0;32m    438\u001b[0m         \u001b[1;32mif\u001b[0m \u001b[0mnew_retry\u001b[0m\u001b[1;33m.\u001b[0m\u001b[0mis_exhausted\u001b[0m\u001b[1;33m(\u001b[0m\u001b[1;33m)\u001b[0m\u001b[1;33m:\u001b[0m\u001b[1;33m\u001b[0m\u001b[1;33m\u001b[0m\u001b[0m\n\u001b[1;32m--> 439\u001b[1;33m             \u001b[1;32mraise\u001b[0m \u001b[0mMaxRetryError\u001b[0m\u001b[1;33m(\u001b[0m\u001b[0m_pool\u001b[0m\u001b[1;33m,\u001b[0m \u001b[0murl\u001b[0m\u001b[1;33m,\u001b[0m \u001b[0merror\u001b[0m \u001b[1;32mor\u001b[0m \u001b[0mResponseError\u001b[0m\u001b[1;33m(\u001b[0m\u001b[0mcause\u001b[0m\u001b[1;33m)\u001b[0m\u001b[1;33m)\u001b[0m\u001b[1;33m\u001b[0m\u001b[1;33m\u001b[0m\u001b[0m\n\u001b[0m\u001b[0;32m    440\u001b[0m \u001b[1;33m\u001b[0m\u001b[0m\n",
      "\u001b[1;31mMaxRetryError\u001b[0m: HTTPConnectionPool(host='127.0.0.1', port=5000): Max retries exceeded with url: /api/v1.0/monthly (Caused by NewConnectionError('<urllib3.connection.HTTPConnection object at 0x0000021039070240>: Failed to establish a new connection: [WinError 10061] No connection could be made because the target machine actively refused it',))",
      "\nDuring handling of the above exception, another exception occurred:\n",
      "\u001b[1;31mConnectionError\u001b[0m                           Traceback (most recent call last)",
      "\u001b[1;32m<ipython-input-37-69d6ca4a1a39>\u001b[0m in \u001b[0;36m<module>\u001b[1;34m\u001b[0m\n\u001b[0;32m      2\u001b[0m \u001b[1;32mimport\u001b[0m \u001b[0mrequests\u001b[0m\u001b[1;33m\u001b[0m\u001b[1;33m\u001b[0m\u001b[0m\n\u001b[0;32m      3\u001b[0m \u001b[0murl\u001b[0m\u001b[1;33m=\u001b[0m\u001b[1;34m\"http://127.0.0.1:5000/api/v1.0/monthly\"\u001b[0m\u001b[1;33m\u001b[0m\u001b[1;33m\u001b[0m\u001b[0m\n\u001b[1;32m----> 4\u001b[1;33m \u001b[0mresp\u001b[0m\u001b[1;33m=\u001b[0m\u001b[0mrequests\u001b[0m\u001b[1;33m.\u001b[0m\u001b[0mget\u001b[0m\u001b[1;33m(\u001b[0m\u001b[0murl\u001b[0m\u001b[1;33m)\u001b[0m\u001b[1;33m\u001b[0m\u001b[1;33m\u001b[0m\u001b[0m\n\u001b[0m\u001b[0;32m      5\u001b[0m \u001b[0mresp\u001b[0m\u001b[1;33m\u001b[0m\u001b[1;33m\u001b[0m\u001b[0m\n",
      "\u001b[1;32m~\\anaconda3\\envs\\PythonData\\lib\\site-packages\\requests\\api.py\u001b[0m in \u001b[0;36mget\u001b[1;34m(url, params, **kwargs)\u001b[0m\n\u001b[0;32m     74\u001b[0m \u001b[1;33m\u001b[0m\u001b[0m\n\u001b[0;32m     75\u001b[0m     \u001b[0mkwargs\u001b[0m\u001b[1;33m.\u001b[0m\u001b[0msetdefault\u001b[0m\u001b[1;33m(\u001b[0m\u001b[1;34m'allow_redirects'\u001b[0m\u001b[1;33m,\u001b[0m \u001b[1;32mTrue\u001b[0m\u001b[1;33m)\u001b[0m\u001b[1;33m\u001b[0m\u001b[1;33m\u001b[0m\u001b[0m\n\u001b[1;32m---> 76\u001b[1;33m     \u001b[1;32mreturn\u001b[0m \u001b[0mrequest\u001b[0m\u001b[1;33m(\u001b[0m\u001b[1;34m'get'\u001b[0m\u001b[1;33m,\u001b[0m \u001b[0murl\u001b[0m\u001b[1;33m,\u001b[0m \u001b[0mparams\u001b[0m\u001b[1;33m=\u001b[0m\u001b[0mparams\u001b[0m\u001b[1;33m,\u001b[0m \u001b[1;33m**\u001b[0m\u001b[0mkwargs\u001b[0m\u001b[1;33m)\u001b[0m\u001b[1;33m\u001b[0m\u001b[1;33m\u001b[0m\u001b[0m\n\u001b[0m\u001b[0;32m     77\u001b[0m \u001b[1;33m\u001b[0m\u001b[0m\n\u001b[0;32m     78\u001b[0m \u001b[1;33m\u001b[0m\u001b[0m\n",
      "\u001b[1;32m~\\anaconda3\\envs\\PythonData\\lib\\site-packages\\requests\\api.py\u001b[0m in \u001b[0;36mrequest\u001b[1;34m(method, url, **kwargs)\u001b[0m\n\u001b[0;32m     59\u001b[0m     \u001b[1;31m# cases, and look like a memory leak in others.\u001b[0m\u001b[1;33m\u001b[0m\u001b[1;33m\u001b[0m\u001b[1;33m\u001b[0m\u001b[0m\n\u001b[0;32m     60\u001b[0m     \u001b[1;32mwith\u001b[0m \u001b[0msessions\u001b[0m\u001b[1;33m.\u001b[0m\u001b[0mSession\u001b[0m\u001b[1;33m(\u001b[0m\u001b[1;33m)\u001b[0m \u001b[1;32mas\u001b[0m \u001b[0msession\u001b[0m\u001b[1;33m:\u001b[0m\u001b[1;33m\u001b[0m\u001b[1;33m\u001b[0m\u001b[0m\n\u001b[1;32m---> 61\u001b[1;33m         \u001b[1;32mreturn\u001b[0m \u001b[0msession\u001b[0m\u001b[1;33m.\u001b[0m\u001b[0mrequest\u001b[0m\u001b[1;33m(\u001b[0m\u001b[0mmethod\u001b[0m\u001b[1;33m=\u001b[0m\u001b[0mmethod\u001b[0m\u001b[1;33m,\u001b[0m \u001b[0murl\u001b[0m\u001b[1;33m=\u001b[0m\u001b[0murl\u001b[0m\u001b[1;33m,\u001b[0m \u001b[1;33m**\u001b[0m\u001b[0mkwargs\u001b[0m\u001b[1;33m)\u001b[0m\u001b[1;33m\u001b[0m\u001b[1;33m\u001b[0m\u001b[0m\n\u001b[0m\u001b[0;32m     62\u001b[0m \u001b[1;33m\u001b[0m\u001b[0m\n\u001b[0;32m     63\u001b[0m \u001b[1;33m\u001b[0m\u001b[0m\n",
      "\u001b[1;32m~\\anaconda3\\envs\\PythonData\\lib\\site-packages\\requests\\sessions.py\u001b[0m in \u001b[0;36mrequest\u001b[1;34m(self, method, url, params, data, headers, cookies, files, auth, timeout, allow_redirects, proxies, hooks, stream, verify, cert, json)\u001b[0m\n\u001b[0;32m    528\u001b[0m         }\n\u001b[0;32m    529\u001b[0m         \u001b[0msend_kwargs\u001b[0m\u001b[1;33m.\u001b[0m\u001b[0mupdate\u001b[0m\u001b[1;33m(\u001b[0m\u001b[0msettings\u001b[0m\u001b[1;33m)\u001b[0m\u001b[1;33m\u001b[0m\u001b[1;33m\u001b[0m\u001b[0m\n\u001b[1;32m--> 530\u001b[1;33m         \u001b[0mresp\u001b[0m \u001b[1;33m=\u001b[0m \u001b[0mself\u001b[0m\u001b[1;33m.\u001b[0m\u001b[0msend\u001b[0m\u001b[1;33m(\u001b[0m\u001b[0mprep\u001b[0m\u001b[1;33m,\u001b[0m \u001b[1;33m**\u001b[0m\u001b[0msend_kwargs\u001b[0m\u001b[1;33m)\u001b[0m\u001b[1;33m\u001b[0m\u001b[1;33m\u001b[0m\u001b[0m\n\u001b[0m\u001b[0;32m    531\u001b[0m \u001b[1;33m\u001b[0m\u001b[0m\n\u001b[0;32m    532\u001b[0m         \u001b[1;32mreturn\u001b[0m \u001b[0mresp\u001b[0m\u001b[1;33m\u001b[0m\u001b[1;33m\u001b[0m\u001b[0m\n",
      "\u001b[1;32m~\\anaconda3\\envs\\PythonData\\lib\\site-packages\\requests\\sessions.py\u001b[0m in \u001b[0;36msend\u001b[1;34m(self, request, **kwargs)\u001b[0m\n\u001b[0;32m    641\u001b[0m \u001b[1;33m\u001b[0m\u001b[0m\n\u001b[0;32m    642\u001b[0m         \u001b[1;31m# Send the request\u001b[0m\u001b[1;33m\u001b[0m\u001b[1;33m\u001b[0m\u001b[1;33m\u001b[0m\u001b[0m\n\u001b[1;32m--> 643\u001b[1;33m         \u001b[0mr\u001b[0m \u001b[1;33m=\u001b[0m \u001b[0madapter\u001b[0m\u001b[1;33m.\u001b[0m\u001b[0msend\u001b[0m\u001b[1;33m(\u001b[0m\u001b[0mrequest\u001b[0m\u001b[1;33m,\u001b[0m \u001b[1;33m**\u001b[0m\u001b[0mkwargs\u001b[0m\u001b[1;33m)\u001b[0m\u001b[1;33m\u001b[0m\u001b[1;33m\u001b[0m\u001b[0m\n\u001b[0m\u001b[0;32m    644\u001b[0m \u001b[1;33m\u001b[0m\u001b[0m\n\u001b[0;32m    645\u001b[0m         \u001b[1;31m# Total elapsed time of the request (approximately)\u001b[0m\u001b[1;33m\u001b[0m\u001b[1;33m\u001b[0m\u001b[1;33m\u001b[0m\u001b[0m\n",
      "\u001b[1;32m~\\anaconda3\\envs\\PythonData\\lib\\site-packages\\requests\\adapters.py\u001b[0m in \u001b[0;36msend\u001b[1;34m(self, request, stream, timeout, verify, cert, proxies)\u001b[0m\n\u001b[0;32m    514\u001b[0m                 \u001b[1;32mraise\u001b[0m \u001b[0mSSLError\u001b[0m\u001b[1;33m(\u001b[0m\u001b[0me\u001b[0m\u001b[1;33m,\u001b[0m \u001b[0mrequest\u001b[0m\u001b[1;33m=\u001b[0m\u001b[0mrequest\u001b[0m\u001b[1;33m)\u001b[0m\u001b[1;33m\u001b[0m\u001b[1;33m\u001b[0m\u001b[0m\n\u001b[0;32m    515\u001b[0m \u001b[1;33m\u001b[0m\u001b[0m\n\u001b[1;32m--> 516\u001b[1;33m             \u001b[1;32mraise\u001b[0m \u001b[0mConnectionError\u001b[0m\u001b[1;33m(\u001b[0m\u001b[0me\u001b[0m\u001b[1;33m,\u001b[0m \u001b[0mrequest\u001b[0m\u001b[1;33m=\u001b[0m\u001b[0mrequest\u001b[0m\u001b[1;33m)\u001b[0m\u001b[1;33m\u001b[0m\u001b[1;33m\u001b[0m\u001b[0m\n\u001b[0m\u001b[0;32m    517\u001b[0m \u001b[1;33m\u001b[0m\u001b[0m\n\u001b[0;32m    518\u001b[0m         \u001b[1;32mexcept\u001b[0m \u001b[0mClosedPoolError\u001b[0m \u001b[1;32mas\u001b[0m \u001b[0me\u001b[0m\u001b[1;33m:\u001b[0m\u001b[1;33m\u001b[0m\u001b[1;33m\u001b[0m\u001b[0m\n",
      "\u001b[1;31mConnectionError\u001b[0m: HTTPConnectionPool(host='127.0.0.1', port=5000): Max retries exceeded with url: /api/v1.0/monthly (Caused by NewConnectionError('<urllib3.connection.HTTPConnection object at 0x0000021039070240>: Failed to establish a new connection: [WinError 10061] No connection could be made because the target machine actively refused it',))"
     ]
    }
   ],
   "source": [
    "# make an API call to make sure Flask app is working \n",
    "import requests\n",
    "url=\"http://127.0.0.1:5000/api/v1.0/monthly\"\n",
    "resp=requests.get(url)\n",
    "resp"
   ]
  },
  {
   "cell_type": "code",
   "execution_count": 36,
   "metadata": {},
   "outputs": [
    {
     "output_type": "error",
     "ename": "NameError",
     "evalue": "name 'resp' is not defined",
     "traceback": [
      "\u001b[1;31m---------------------------------------------------------------------------\u001b[0m",
      "\u001b[1;31mNameError\u001b[0m                                 Traceback (most recent call last)",
      "\u001b[1;32m<ipython-input-36-ce892cc7c954>\u001b[0m in \u001b[0;36m<module>\u001b[1;34m\u001b[0m\n\u001b[1;32m----> 1\u001b[1;33m \u001b[0mdata\u001b[0m \u001b[1;33m=\u001b[0m \u001b[0mresp\u001b[0m\u001b[1;33m.\u001b[0m\u001b[0mjson\u001b[0m\u001b[1;33m(\u001b[0m\u001b[1;33m)\u001b[0m\u001b[1;33m\u001b[0m\u001b[1;33m\u001b[0m\u001b[0m\n\u001b[0m\u001b[0;32m      2\u001b[0m \u001b[0mdata\u001b[0m\u001b[1;33m\u001b[0m\u001b[1;33m\u001b[0m\u001b[0m\n",
      "\u001b[1;31mNameError\u001b[0m: name 'resp' is not defined"
     ]
    }
   ],
   "source": [
    "data = resp.json()\n",
    "data"
   ]
  },
  {
   "cell_type": "code",
   "execution_count": null,
   "metadata": {},
   "outputs": [],
   "source": []
  }
 ]
}