{
 "metadata": {
  "language_info": {
   "codemirror_mode": {
    "name": "ipython",
    "version": 3
   },
   "file_extension": ".py",
   "mimetype": "text/x-python",
   "name": "python",
   "nbconvert_exporter": "python",
   "pygments_lexer": "ipython3",
   "version": "3.6.10-final"
  },
  "orig_nbformat": 2,
  "kernelspec": {
   "name": "python3",
   "display_name": "Python 3",
   "language": "python"
  }
 },
 "nbformat": 4,
 "nbformat_minor": 2,
 "cells": [
  {
   "source": [
    "### Link To CDC for Raw Data\n",
    "### url: https://data.cdc.gov/Case-Surveillance/United-States-COVID-19-Cases-and-Deaths-by-State-o/9mfq-cb36"
   ],
   "cell_type": "markdown",
   "metadata": {}
  },
  {
   "cell_type": "code",
   "execution_count": 30,
   "metadata": {},
   "outputs": [],
   "source": [
    "# import dependencies\n",
    "import pandas as pd\n",
    "import datetime as dt\n",
    "import sqlite3\n",
    "from sqlite3 import Error\n",
    "from sqlalchemy import create_engine, inspect, func\n",
    "import psycopg2\n",
    "import requests\n",
    "from sodapy import Socrata\n",
    "\n",
    "# import cdc key for API\n",
    "from cdc_token import my_token"
   ]
  },
  {
   "source": [
    "## USA Monthly Cases by State "
   ],
   "cell_type": "markdown",
   "metadata": {}
  },
  {
   "cell_type": "code",
   "execution_count": 31,
   "metadata": {},
   "outputs": [
    {
     "output_type": "execute_result",
     "data": {
      "text/plain": [
       "               submission_date state tot_cases conf_cases prob_cases new_case  \\\n",
       "26215  2020-12-19T00:00:00.000   RMI         4        4.0          0      0.0   \n",
       "26216  2020-04-09T00:00:00.000    UT      2061        NaN        NaN    145.0   \n",
       "26217  2020-10-19T00:00:00.000    KS     72968    67935.0       5033   2113.0   \n",
       "26218  2020-12-05T00:00:00.000    NY    368246        NaN        NaN   7532.0   \n",
       "26219  2020-03-31T00:00:00.000    IA       497        NaN        NaN     73.0   \n",
       "\n",
       "      pnew_case tot_death conf_death prob_death new_death pnew_death  \\\n",
       "26215         0         0        0.0          0       0.0          0   \n",
       "26216       NaN        15        NaN        NaN       2.0        NaN   \n",
       "26217       179       872        NaN        NaN      13.0          0   \n",
       "26218         0     10274        NaN        NaN      57.0          0   \n",
       "26219       NaN         7        NaN        NaN       1.0        NaN   \n",
       "\n",
       "                    created_at consent_cases consent_deaths  \n",
       "26215  2020-12-20T14:32:33.200         Agree          Agree  \n",
       "26216  2020-04-08T16:22:39.452         Agree          Agree  \n",
       "26217  2020-10-20T14:59:27.967         Agree            N/A  \n",
       "26218  2020-12-06T14:51:16.617     Not agree      Not agree  \n",
       "26219  2020-03-30T16:22:39.452     Not agree      Not agree  "
      ],
      "text/html": "<div>\n<style scoped>\n    .dataframe tbody tr th:only-of-type {\n        vertical-align: middle;\n    }\n\n    .dataframe tbody tr th {\n        vertical-align: top;\n    }\n\n    .dataframe thead th {\n        text-align: right;\n    }\n</style>\n<table border=\"1\" class=\"dataframe\">\n  <thead>\n    <tr style=\"text-align: right;\">\n      <th></th>\n      <th>submission_date</th>\n      <th>state</th>\n      <th>tot_cases</th>\n      <th>conf_cases</th>\n      <th>prob_cases</th>\n      <th>new_case</th>\n      <th>pnew_case</th>\n      <th>tot_death</th>\n      <th>conf_death</th>\n      <th>prob_death</th>\n      <th>new_death</th>\n      <th>pnew_death</th>\n      <th>created_at</th>\n      <th>consent_cases</th>\n      <th>consent_deaths</th>\n    </tr>\n  </thead>\n  <tbody>\n    <tr>\n      <th>26215</th>\n      <td>2020-12-19T00:00:00.000</td>\n      <td>RMI</td>\n      <td>4</td>\n      <td>4.0</td>\n      <td>0</td>\n      <td>0.0</td>\n      <td>0</td>\n      <td>0</td>\n      <td>0.0</td>\n      <td>0</td>\n      <td>0.0</td>\n      <td>0</td>\n      <td>2020-12-20T14:32:33.200</td>\n      <td>Agree</td>\n      <td>Agree</td>\n    </tr>\n    <tr>\n      <th>26216</th>\n      <td>2020-04-09T00:00:00.000</td>\n      <td>UT</td>\n      <td>2061</td>\n      <td>NaN</td>\n      <td>NaN</td>\n      <td>145.0</td>\n      <td>NaN</td>\n      <td>15</td>\n      <td>NaN</td>\n      <td>NaN</td>\n      <td>2.0</td>\n      <td>NaN</td>\n      <td>2020-04-08T16:22:39.452</td>\n      <td>Agree</td>\n      <td>Agree</td>\n    </tr>\n    <tr>\n      <th>26217</th>\n      <td>2020-10-19T00:00:00.000</td>\n      <td>KS</td>\n      <td>72968</td>\n      <td>67935.0</td>\n      <td>5033</td>\n      <td>2113.0</td>\n      <td>179</td>\n      <td>872</td>\n      <td>NaN</td>\n      <td>NaN</td>\n      <td>13.0</td>\n      <td>0</td>\n      <td>2020-10-20T14:59:27.967</td>\n      <td>Agree</td>\n      <td>N/A</td>\n    </tr>\n    <tr>\n      <th>26218</th>\n      <td>2020-12-05T00:00:00.000</td>\n      <td>NY</td>\n      <td>368246</td>\n      <td>NaN</td>\n      <td>NaN</td>\n      <td>7532.0</td>\n      <td>0</td>\n      <td>10274</td>\n      <td>NaN</td>\n      <td>NaN</td>\n      <td>57.0</td>\n      <td>0</td>\n      <td>2020-12-06T14:51:16.617</td>\n      <td>Not agree</td>\n      <td>Not agree</td>\n    </tr>\n    <tr>\n      <th>26219</th>\n      <td>2020-03-31T00:00:00.000</td>\n      <td>IA</td>\n      <td>497</td>\n      <td>NaN</td>\n      <td>NaN</td>\n      <td>73.0</td>\n      <td>NaN</td>\n      <td>7</td>\n      <td>NaN</td>\n      <td>NaN</td>\n      <td>1.0</td>\n      <td>NaN</td>\n      <td>2020-03-30T16:22:39.452</td>\n      <td>Not agree</td>\n      <td>Not agree</td>\n    </tr>\n  </tbody>\n</table>\n</div>"
     },
     "metadata": {},
     "execution_count": 31
    }
   ],
   "source": [
    "# set a client with a token\n",
    "client = Socrata(\"data.cdc.gov\", my_token)\n",
    "\n",
    "# results returned as JSON from API / converted to Python list of\n",
    "# dictionaries by sodapy.\n",
    "results = client.get(\"9mfq-cb36\", limit=50000)\n",
    "\n",
    "# Convert to pandas DataFrame and display\n",
    "covid_df = pd.DataFrame.from_records(results)\n",
    "covid_df.tail()"
   ]
  },
  {
   "cell_type": "code",
   "execution_count": 32,
   "metadata": {},
   "outputs": [
    {
     "output_type": "execute_result",
     "data": {
      "text/plain": [
       "               submission_date state tot_cases conf_cases prob_cases new_case  \\\n",
       "26215  2020-12-19T00:00:00.000   RMI         4        4.0          0      0.0   \n",
       "26216  2020-04-09T00:00:00.000    UT      2061        NaN        NaN    145.0   \n",
       "26217  2020-10-19T00:00:00.000    KS     72968    67935.0       5033   2113.0   \n",
       "26218  2020-12-05T00:00:00.000    NY    368246        NaN        NaN   7532.0   \n",
       "26219  2020-03-31T00:00:00.000    IA       497        NaN        NaN     73.0   \n",
       "\n",
       "      pnew_case tot_death conf_death prob_death new_death pnew_death  \\\n",
       "26215         0         0        0.0          0       0.0          0   \n",
       "26216       NaN        15        NaN        NaN       2.0        NaN   \n",
       "26217       179       872        NaN        NaN      13.0          0   \n",
       "26218         0     10274        NaN        NaN      57.0          0   \n",
       "26219       NaN         7        NaN        NaN       1.0        NaN   \n",
       "\n",
       "                    created_at consent_cases consent_deaths     date  \n",
       "26215  2020-12-20T14:32:33.200         Agree          Agree  2020-12  \n",
       "26216  2020-04-08T16:22:39.452         Agree          Agree  2020-04  \n",
       "26217  2020-10-20T14:59:27.967         Agree            N/A  2020-10  \n",
       "26218  2020-12-06T14:51:16.617     Not agree      Not agree  2020-12  \n",
       "26219  2020-03-30T16:22:39.452     Not agree      Not agree  2020-03  "
      ],
      "text/html": "<div>\n<style scoped>\n    .dataframe tbody tr th:only-of-type {\n        vertical-align: middle;\n    }\n\n    .dataframe tbody tr th {\n        vertical-align: top;\n    }\n\n    .dataframe thead th {\n        text-align: right;\n    }\n</style>\n<table border=\"1\" class=\"dataframe\">\n  <thead>\n    <tr style=\"text-align: right;\">\n      <th></th>\n      <th>submission_date</th>\n      <th>state</th>\n      <th>tot_cases</th>\n      <th>conf_cases</th>\n      <th>prob_cases</th>\n      <th>new_case</th>\n      <th>pnew_case</th>\n      <th>tot_death</th>\n      <th>conf_death</th>\n      <th>prob_death</th>\n      <th>new_death</th>\n      <th>pnew_death</th>\n      <th>created_at</th>\n      <th>consent_cases</th>\n      <th>consent_deaths</th>\n      <th>date</th>\n    </tr>\n  </thead>\n  <tbody>\n    <tr>\n      <th>26215</th>\n      <td>2020-12-19T00:00:00.000</td>\n      <td>RMI</td>\n      <td>4</td>\n      <td>4.0</td>\n      <td>0</td>\n      <td>0.0</td>\n      <td>0</td>\n      <td>0</td>\n      <td>0.0</td>\n      <td>0</td>\n      <td>0.0</td>\n      <td>0</td>\n      <td>2020-12-20T14:32:33.200</td>\n      <td>Agree</td>\n      <td>Agree</td>\n      <td>2020-12</td>\n    </tr>\n    <tr>\n      <th>26216</th>\n      <td>2020-04-09T00:00:00.000</td>\n      <td>UT</td>\n      <td>2061</td>\n      <td>NaN</td>\n      <td>NaN</td>\n      <td>145.0</td>\n      <td>NaN</td>\n      <td>15</td>\n      <td>NaN</td>\n      <td>NaN</td>\n      <td>2.0</td>\n      <td>NaN</td>\n      <td>2020-04-08T16:22:39.452</td>\n      <td>Agree</td>\n      <td>Agree</td>\n      <td>2020-04</td>\n    </tr>\n    <tr>\n      <th>26217</th>\n      <td>2020-10-19T00:00:00.000</td>\n      <td>KS</td>\n      <td>72968</td>\n      <td>67935.0</td>\n      <td>5033</td>\n      <td>2113.0</td>\n      <td>179</td>\n      <td>872</td>\n      <td>NaN</td>\n      <td>NaN</td>\n      <td>13.0</td>\n      <td>0</td>\n      <td>2020-10-20T14:59:27.967</td>\n      <td>Agree</td>\n      <td>N/A</td>\n      <td>2020-10</td>\n    </tr>\n    <tr>\n      <th>26218</th>\n      <td>2020-12-05T00:00:00.000</td>\n      <td>NY</td>\n      <td>368246</td>\n      <td>NaN</td>\n      <td>NaN</td>\n      <td>7532.0</td>\n      <td>0</td>\n      <td>10274</td>\n      <td>NaN</td>\n      <td>NaN</td>\n      <td>57.0</td>\n      <td>0</td>\n      <td>2020-12-06T14:51:16.617</td>\n      <td>Not agree</td>\n      <td>Not agree</td>\n      <td>2020-12</td>\n    </tr>\n    <tr>\n      <th>26219</th>\n      <td>2020-03-31T00:00:00.000</td>\n      <td>IA</td>\n      <td>497</td>\n      <td>NaN</td>\n      <td>NaN</td>\n      <td>73.0</td>\n      <td>NaN</td>\n      <td>7</td>\n      <td>NaN</td>\n      <td>NaN</td>\n      <td>1.0</td>\n      <td>NaN</td>\n      <td>2020-03-30T16:22:39.452</td>\n      <td>Not agree</td>\n      <td>Not agree</td>\n      <td>2020-03</td>\n    </tr>\n  </tbody>\n</table>\n</div>"
     },
     "metadata": {},
     "execution_count": 32
    }
   ],
   "source": [
    "# add date columns which only has year and month for use with groupby later on.. \n",
    "covid_df['date'] = pd.to_datetime(covid_df['submission_date']).dt.to_period('M').astype(str)\n",
    "covid_df.tail()"
   ]
  },
  {
   "cell_type": "code",
   "execution_count": 33,
   "metadata": {},
   "outputs": [
    {
     "output_type": "execute_result",
     "data": {
      "text/plain": [
       "submission_date    object\n",
       "state              object\n",
       "tot_cases          object\n",
       "conf_cases         object\n",
       "prob_cases         object\n",
       "new_case           object\n",
       "pnew_case          object\n",
       "tot_death          object\n",
       "conf_death         object\n",
       "prob_death         object\n",
       "new_death          object\n",
       "pnew_death         object\n",
       "created_at         object\n",
       "consent_cases      object\n",
       "consent_deaths     object\n",
       "date               object\n",
       "dtype: object"
      ]
     },
     "metadata": {},
     "execution_count": 33
    }
   ],
   "source": [
    "covid_df.dtypes"
   ]
  },
  {
   "cell_type": "code",
   "execution_count": 34,
   "metadata": {},
   "outputs": [
    {
     "output_type": "execute_result",
     "data": {
      "text/plain": [
       "          date state  tot_cases  tot_death\n",
       "26215  2020-12   RMI        4.0        0.0\n",
       "26216  2020-04    UT     2061.0       15.0\n",
       "26217  2020-10    KS    72968.0      872.0\n",
       "26218  2020-12    NY   368246.0    10274.0\n",
       "26219  2020-03    IA      497.0        7.0"
      ],
      "text/html": "<div>\n<style scoped>\n    .dataframe tbody tr th:only-of-type {\n        vertical-align: middle;\n    }\n\n    .dataframe tbody tr th {\n        vertical-align: top;\n    }\n\n    .dataframe thead th {\n        text-align: right;\n    }\n</style>\n<table border=\"1\" class=\"dataframe\">\n  <thead>\n    <tr style=\"text-align: right;\">\n      <th></th>\n      <th>date</th>\n      <th>state</th>\n      <th>tot_cases</th>\n      <th>tot_death</th>\n    </tr>\n  </thead>\n  <tbody>\n    <tr>\n      <th>26215</th>\n      <td>2020-12</td>\n      <td>RMI</td>\n      <td>4.0</td>\n      <td>0.0</td>\n    </tr>\n    <tr>\n      <th>26216</th>\n      <td>2020-04</td>\n      <td>UT</td>\n      <td>2061.0</td>\n      <td>15.0</td>\n    </tr>\n    <tr>\n      <th>26217</th>\n      <td>2020-10</td>\n      <td>KS</td>\n      <td>72968.0</td>\n      <td>872.0</td>\n    </tr>\n    <tr>\n      <th>26218</th>\n      <td>2020-12</td>\n      <td>NY</td>\n      <td>368246.0</td>\n      <td>10274.0</td>\n    </tr>\n    <tr>\n      <th>26219</th>\n      <td>2020-03</td>\n      <td>IA</td>\n      <td>497.0</td>\n      <td>7.0</td>\n    </tr>\n  </tbody>\n</table>\n</div>"
     },
     "metadata": {},
     "execution_count": 34
    }
   ],
   "source": [
    "# convert objects to float\n",
    "covid_df[\"tot_cases\"] =  covid_df.tot_cases.astype(float)\n",
    "covid_df[\"tot_death\"] = covid_df.tot_death.astype(float)\n",
    "\n",
    "# select only the columns we gonna use and display df\n",
    "covid_df = covid_df[[\"date\", \"state\", \"tot_cases\", \"tot_death\"]]\n",
    "covid_df.tail()"
   ]
  },
  {
   "cell_type": "code",
   "execution_count": 86,
   "metadata": {},
   "outputs": [
    {
     "output_type": "execute_result",
     "data": {
      "text/plain": [
       "        date state  tot_cases  tot_death  Total_recovered\n",
       "0    2020-01    AK        0.0        0.0              0.0\n",
       "1    2020-01    AL        0.0        0.0              0.0\n",
       "2    2020-01    AR        0.0        0.0              0.0\n",
       "3    2020-01    AS        0.0        0.0              0.0\n",
       "4    2020-01    AZ        6.0        0.0              6.0\n",
       "..       ...   ...        ...        ...              ...\n",
       "955  2021-04    VT    39278.0      455.0          38823.0\n",
       "956  2021-04    WA   732877.0    10540.0         722337.0\n",
       "957  2021-04    WI  1274709.0    14662.0        1260047.0\n",
       "958  2021-04    WV   284886.0     5371.0         279515.0\n",
       "959  2021-04    WY   112836.0     1400.0         111436.0\n",
       "\n",
       "[960 rows x 5 columns]"
      ],
      "text/html": "<div>\n<style scoped>\n    .dataframe tbody tr th:only-of-type {\n        vertical-align: middle;\n    }\n\n    .dataframe tbody tr th {\n        vertical-align: top;\n    }\n\n    .dataframe thead th {\n        text-align: right;\n    }\n</style>\n<table border=\"1\" class=\"dataframe\">\n  <thead>\n    <tr style=\"text-align: right;\">\n      <th></th>\n      <th>date</th>\n      <th>state</th>\n      <th>tot_cases</th>\n      <th>tot_death</th>\n      <th>Total_recovered</th>\n    </tr>\n  </thead>\n  <tbody>\n    <tr>\n      <th>0</th>\n      <td>2020-01</td>\n      <td>AK</td>\n      <td>0.0</td>\n      <td>0.0</td>\n      <td>0.0</td>\n    </tr>\n    <tr>\n      <th>1</th>\n      <td>2020-01</td>\n      <td>AL</td>\n      <td>0.0</td>\n      <td>0.0</td>\n      <td>0.0</td>\n    </tr>\n    <tr>\n      <th>2</th>\n      <td>2020-01</td>\n      <td>AR</td>\n      <td>0.0</td>\n      <td>0.0</td>\n      <td>0.0</td>\n    </tr>\n    <tr>\n      <th>3</th>\n      <td>2020-01</td>\n      <td>AS</td>\n      <td>0.0</td>\n      <td>0.0</td>\n      <td>0.0</td>\n    </tr>\n    <tr>\n      <th>4</th>\n      <td>2020-01</td>\n      <td>AZ</td>\n      <td>6.0</td>\n      <td>0.0</td>\n      <td>6.0</td>\n    </tr>\n    <tr>\n      <th>...</th>\n      <td>...</td>\n      <td>...</td>\n      <td>...</td>\n      <td>...</td>\n      <td>...</td>\n    </tr>\n    <tr>\n      <th>955</th>\n      <td>2021-04</td>\n      <td>VT</td>\n      <td>39278.0</td>\n      <td>455.0</td>\n      <td>38823.0</td>\n    </tr>\n    <tr>\n      <th>956</th>\n      <td>2021-04</td>\n      <td>WA</td>\n      <td>732877.0</td>\n      <td>10540.0</td>\n      <td>722337.0</td>\n    </tr>\n    <tr>\n      <th>957</th>\n      <td>2021-04</td>\n      <td>WI</td>\n      <td>1274709.0</td>\n      <td>14662.0</td>\n      <td>1260047.0</td>\n    </tr>\n    <tr>\n      <th>958</th>\n      <td>2021-04</td>\n      <td>WV</td>\n      <td>284886.0</td>\n      <td>5371.0</td>\n      <td>279515.0</td>\n    </tr>\n    <tr>\n      <th>959</th>\n      <td>2021-04</td>\n      <td>WY</td>\n      <td>112836.0</td>\n      <td>1400.0</td>\n      <td>111436.0</td>\n    </tr>\n  </tbody>\n</table>\n<p>960 rows × 5 columns</p>\n</div>"
     },
     "metadata": {},
     "execution_count": 86
    }
   ],
   "source": [
    "# group by states to be used later\n",
    "state_df = covid_df.groupby(['date', 'state']).sum().reset_index()\n",
    "state_df"
   ]
  },
  {
   "cell_type": "code",
   "execution_count": 87,
   "metadata": {},
   "outputs": [
    {
     "output_type": "execute_result",
     "data": {
      "text/plain": [
       "   state    tot_cases  tot_death  Total_recovered\n",
       "0     AK    7685258.0    39256.0        7646002.0\n",
       "1     AL   75341361.0  1308745.0       74032616.0\n",
       "2     AR   46173819.0   745332.0       45428487.0\n",
       "3     AS        452.0        0.0            452.0\n",
       "4     AZ  117187972.0  2352839.0      114835133.0\n",
       "5     CA  471170482.0  7196424.0      463974058.0\n",
       "6     CO   61107651.0  1065917.0       60041734.0\n",
       "7     CT   41392844.0  1788435.0       39604409.0\n",
       "8     DC    7174618.0   234363.0        6940255.0\n",
       "9     DE   12638669.0   263031.0       12375638.0\n",
       "10    FL  297914252.0  5255197.0      292659055.0\n",
       "11   FSM         85.0        0.0             85.0\n",
       "12    GA  152027059.0  2828137.0      149198922.0\n",
       "13    GU    1319205.0    22071.0        1297134.0\n",
       "14    HI    4480993.0    64113.0        4416880.0\n",
       "15    IA   53118603.0   800140.0       52318463.0\n",
       "16    ID   25829028.0   271946.0       25557082.0\n",
       "17    IL  187297095.0  4207713.0      183089382.0\n",
       "18    IN   93883175.0  1965974.0       91917201.0\n",
       "19    KS   41409269.0   573363.0       40835906.0\n",
       "20    KY   52903908.0   663802.0       52240106.0\n",
       "21    LA   72506823.0  2025343.0       70481480.0\n",
       "22    MA   86117256.0  3614950.0       82502306.0\n",
       "23    MD   62836077.0  1600976.0       61235101.0\n",
       "24    ME    5368905.0    93301.0        5275604.0\n",
       "25    MI  100402899.0  3293406.0       97109493.0\n",
       "26    MN   73470433.0  1119488.0       72350945.0\n",
       "27    MO   81290905.0  1186017.0       80104888.0\n",
       "28    MP      28412.0      720.0          27692.0\n",
       "29    MS   46430296.0  1154944.0       45275352.0\n",
       "30    MT   13856710.0   176107.0       13680603.0\n",
       "31    NC  119127214.0  1655684.0      117471530.0\n",
       "32    ND   15846570.0   218162.0       15628408.0\n",
       "33    NE   31009718.0   313457.0       30696261.0\n",
       "34    NH    9075760.0   202650.0        8873110.0\n",
       "35    NJ  127646530.0  5868660.0      121777870.0\n",
       "36    NM   25858525.0   533032.0       25325493.0\n",
       "37    NV   44162650.0   738726.0       43423924.0\n",
       "38    NY  138375657.0  3846974.0      134528683.0\n",
       "39   NYC  126851134.0  8609397.0      118241737.0\n",
       "40    OH  129116576.0  2384218.0      126732358.0\n",
       "41    OK   58259734.0   600980.0       57658754.0\n",
       "42    OR   21888258.0   317610.0       21570648.0\n",
       "43    PA  126790528.0  4029856.0      122760672.0\n",
       "44    PR   16836528.0   311521.0       16525007.0\n",
       "45    PW          0.0        0.0              0.0\n",
       "46    RI   18321995.0   474349.0       17847646.0\n",
       "47   RMI        575.0        0.0            575.0\n",
       "48    SC   74155699.0  1385415.0       72770284.0\n",
       "49    SD   17355762.0   252016.0       17103746.0\n",
       "50    TN  112950244.0  1491192.0      111459052.0\n",
       "51    TX  382589532.0  6459091.0      376130441.0\n",
       "52    UT   52529737.0   274958.0       52254779.0\n",
       "53    VA   81906345.0  1384157.0       80522188.0\n",
       "54    VI     450144.0     5774.0         444370.0\n",
       "55    VT    1820150.0    33914.0        1786236.0\n",
       "56    WA   50730651.0   908288.0       49822363.0\n",
       "57    WI   93075455.0  1017729.0       92057726.0\n",
       "58    WV   16056459.0   281580.0       15774879.0\n",
       "59    WY    7421311.0    77970.0        7343341.0"
      ],
      "text/html": "<div>\n<style scoped>\n    .dataframe tbody tr th:only-of-type {\n        vertical-align: middle;\n    }\n\n    .dataframe tbody tr th {\n        vertical-align: top;\n    }\n\n    .dataframe thead th {\n        text-align: right;\n    }\n</style>\n<table border=\"1\" class=\"dataframe\">\n  <thead>\n    <tr style=\"text-align: right;\">\n      <th></th>\n      <th>state</th>\n      <th>tot_cases</th>\n      <th>tot_death</th>\n      <th>Total_recovered</th>\n    </tr>\n  </thead>\n  <tbody>\n    <tr>\n      <th>0</th>\n      <td>AK</td>\n      <td>7685258.0</td>\n      <td>39256.0</td>\n      <td>7646002.0</td>\n    </tr>\n    <tr>\n      <th>1</th>\n      <td>AL</td>\n      <td>75341361.0</td>\n      <td>1308745.0</td>\n      <td>74032616.0</td>\n    </tr>\n    <tr>\n      <th>2</th>\n      <td>AR</td>\n      <td>46173819.0</td>\n      <td>745332.0</td>\n      <td>45428487.0</td>\n    </tr>\n    <tr>\n      <th>3</th>\n      <td>AS</td>\n      <td>452.0</td>\n      <td>0.0</td>\n      <td>452.0</td>\n    </tr>\n    <tr>\n      <th>4</th>\n      <td>AZ</td>\n      <td>117187972.0</td>\n      <td>2352839.0</td>\n      <td>114835133.0</td>\n    </tr>\n    <tr>\n      <th>5</th>\n      <td>CA</td>\n      <td>471170482.0</td>\n      <td>7196424.0</td>\n      <td>463974058.0</td>\n    </tr>\n    <tr>\n      <th>6</th>\n      <td>CO</td>\n      <td>61107651.0</td>\n      <td>1065917.0</td>\n      <td>60041734.0</td>\n    </tr>\n    <tr>\n      <th>7</th>\n      <td>CT</td>\n      <td>41392844.0</td>\n      <td>1788435.0</td>\n      <td>39604409.0</td>\n    </tr>\n    <tr>\n      <th>8</th>\n      <td>DC</td>\n      <td>7174618.0</td>\n      <td>234363.0</td>\n      <td>6940255.0</td>\n    </tr>\n    <tr>\n      <th>9</th>\n      <td>DE</td>\n      <td>12638669.0</td>\n      <td>263031.0</td>\n      <td>12375638.0</td>\n    </tr>\n    <tr>\n      <th>10</th>\n      <td>FL</td>\n      <td>297914252.0</td>\n      <td>5255197.0</td>\n      <td>292659055.0</td>\n    </tr>\n    <tr>\n      <th>11</th>\n      <td>FSM</td>\n      <td>85.0</td>\n      <td>0.0</td>\n      <td>85.0</td>\n    </tr>\n    <tr>\n      <th>12</th>\n      <td>GA</td>\n      <td>152027059.0</td>\n      <td>2828137.0</td>\n      <td>149198922.0</td>\n    </tr>\n    <tr>\n      <th>13</th>\n      <td>GU</td>\n      <td>1319205.0</td>\n      <td>22071.0</td>\n      <td>1297134.0</td>\n    </tr>\n    <tr>\n      <th>14</th>\n      <td>HI</td>\n      <td>4480993.0</td>\n      <td>64113.0</td>\n      <td>4416880.0</td>\n    </tr>\n    <tr>\n      <th>15</th>\n      <td>IA</td>\n      <td>53118603.0</td>\n      <td>800140.0</td>\n      <td>52318463.0</td>\n    </tr>\n    <tr>\n      <th>16</th>\n      <td>ID</td>\n      <td>25829028.0</td>\n      <td>271946.0</td>\n      <td>25557082.0</td>\n    </tr>\n    <tr>\n      <th>17</th>\n      <td>IL</td>\n      <td>187297095.0</td>\n      <td>4207713.0</td>\n      <td>183089382.0</td>\n    </tr>\n    <tr>\n      <th>18</th>\n      <td>IN</td>\n      <td>93883175.0</td>\n      <td>1965974.0</td>\n      <td>91917201.0</td>\n    </tr>\n    <tr>\n      <th>19</th>\n      <td>KS</td>\n      <td>41409269.0</td>\n      <td>573363.0</td>\n      <td>40835906.0</td>\n    </tr>\n    <tr>\n      <th>20</th>\n      <td>KY</td>\n      <td>52903908.0</td>\n      <td>663802.0</td>\n      <td>52240106.0</td>\n    </tr>\n    <tr>\n      <th>21</th>\n      <td>LA</td>\n      <td>72506823.0</td>\n      <td>2025343.0</td>\n      <td>70481480.0</td>\n    </tr>\n    <tr>\n      <th>22</th>\n      <td>MA</td>\n      <td>86117256.0</td>\n      <td>3614950.0</td>\n      <td>82502306.0</td>\n    </tr>\n    <tr>\n      <th>23</th>\n      <td>MD</td>\n      <td>62836077.0</td>\n      <td>1600976.0</td>\n      <td>61235101.0</td>\n    </tr>\n    <tr>\n      <th>24</th>\n      <td>ME</td>\n      <td>5368905.0</td>\n      <td>93301.0</td>\n      <td>5275604.0</td>\n    </tr>\n    <tr>\n      <th>25</th>\n      <td>MI</td>\n      <td>100402899.0</td>\n      <td>3293406.0</td>\n      <td>97109493.0</td>\n    </tr>\n    <tr>\n      <th>26</th>\n      <td>MN</td>\n      <td>73470433.0</td>\n      <td>1119488.0</td>\n      <td>72350945.0</td>\n    </tr>\n    <tr>\n      <th>27</th>\n      <td>MO</td>\n      <td>81290905.0</td>\n      <td>1186017.0</td>\n      <td>80104888.0</td>\n    </tr>\n    <tr>\n      <th>28</th>\n      <td>MP</td>\n      <td>28412.0</td>\n      <td>720.0</td>\n      <td>27692.0</td>\n    </tr>\n    <tr>\n      <th>29</th>\n      <td>MS</td>\n      <td>46430296.0</td>\n      <td>1154944.0</td>\n      <td>45275352.0</td>\n    </tr>\n    <tr>\n      <th>30</th>\n      <td>MT</td>\n      <td>13856710.0</td>\n      <td>176107.0</td>\n      <td>13680603.0</td>\n    </tr>\n    <tr>\n      <th>31</th>\n      <td>NC</td>\n      <td>119127214.0</td>\n      <td>1655684.0</td>\n      <td>117471530.0</td>\n    </tr>\n    <tr>\n      <th>32</th>\n      <td>ND</td>\n      <td>15846570.0</td>\n      <td>218162.0</td>\n      <td>15628408.0</td>\n    </tr>\n    <tr>\n      <th>33</th>\n      <td>NE</td>\n      <td>31009718.0</td>\n      <td>313457.0</td>\n      <td>30696261.0</td>\n    </tr>\n    <tr>\n      <th>34</th>\n      <td>NH</td>\n      <td>9075760.0</td>\n      <td>202650.0</td>\n      <td>8873110.0</td>\n    </tr>\n    <tr>\n      <th>35</th>\n      <td>NJ</td>\n      <td>127646530.0</td>\n      <td>5868660.0</td>\n      <td>121777870.0</td>\n    </tr>\n    <tr>\n      <th>36</th>\n      <td>NM</td>\n      <td>25858525.0</td>\n      <td>533032.0</td>\n      <td>25325493.0</td>\n    </tr>\n    <tr>\n      <th>37</th>\n      <td>NV</td>\n      <td>44162650.0</td>\n      <td>738726.0</td>\n      <td>43423924.0</td>\n    </tr>\n    <tr>\n      <th>38</th>\n      <td>NY</td>\n      <td>138375657.0</td>\n      <td>3846974.0</td>\n      <td>134528683.0</td>\n    </tr>\n    <tr>\n      <th>39</th>\n      <td>NYC</td>\n      <td>126851134.0</td>\n      <td>8609397.0</td>\n      <td>118241737.0</td>\n    </tr>\n    <tr>\n      <th>40</th>\n      <td>OH</td>\n      <td>129116576.0</td>\n      <td>2384218.0</td>\n      <td>126732358.0</td>\n    </tr>\n    <tr>\n      <th>41</th>\n      <td>OK</td>\n      <td>58259734.0</td>\n      <td>600980.0</td>\n      <td>57658754.0</td>\n    </tr>\n    <tr>\n      <th>42</th>\n      <td>OR</td>\n      <td>21888258.0</td>\n      <td>317610.0</td>\n      <td>21570648.0</td>\n    </tr>\n    <tr>\n      <th>43</th>\n      <td>PA</td>\n      <td>126790528.0</td>\n      <td>4029856.0</td>\n      <td>122760672.0</td>\n    </tr>\n    <tr>\n      <th>44</th>\n      <td>PR</td>\n      <td>16836528.0</td>\n      <td>311521.0</td>\n      <td>16525007.0</td>\n    </tr>\n    <tr>\n      <th>45</th>\n      <td>PW</td>\n      <td>0.0</td>\n      <td>0.0</td>\n      <td>0.0</td>\n    </tr>\n    <tr>\n      <th>46</th>\n      <td>RI</td>\n      <td>18321995.0</td>\n      <td>474349.0</td>\n      <td>17847646.0</td>\n    </tr>\n    <tr>\n      <th>47</th>\n      <td>RMI</td>\n      <td>575.0</td>\n      <td>0.0</td>\n      <td>575.0</td>\n    </tr>\n    <tr>\n      <th>48</th>\n      <td>SC</td>\n      <td>74155699.0</td>\n      <td>1385415.0</td>\n      <td>72770284.0</td>\n    </tr>\n    <tr>\n      <th>49</th>\n      <td>SD</td>\n      <td>17355762.0</td>\n      <td>252016.0</td>\n      <td>17103746.0</td>\n    </tr>\n    <tr>\n      <th>50</th>\n      <td>TN</td>\n      <td>112950244.0</td>\n      <td>1491192.0</td>\n      <td>111459052.0</td>\n    </tr>\n    <tr>\n      <th>51</th>\n      <td>TX</td>\n      <td>382589532.0</td>\n      <td>6459091.0</td>\n      <td>376130441.0</td>\n    </tr>\n    <tr>\n      <th>52</th>\n      <td>UT</td>\n      <td>52529737.0</td>\n      <td>274958.0</td>\n      <td>52254779.0</td>\n    </tr>\n    <tr>\n      <th>53</th>\n      <td>VA</td>\n      <td>81906345.0</td>\n      <td>1384157.0</td>\n      <td>80522188.0</td>\n    </tr>\n    <tr>\n      <th>54</th>\n      <td>VI</td>\n      <td>450144.0</td>\n      <td>5774.0</td>\n      <td>444370.0</td>\n    </tr>\n    <tr>\n      <th>55</th>\n      <td>VT</td>\n      <td>1820150.0</td>\n      <td>33914.0</td>\n      <td>1786236.0</td>\n    </tr>\n    <tr>\n      <th>56</th>\n      <td>WA</td>\n      <td>50730651.0</td>\n      <td>908288.0</td>\n      <td>49822363.0</td>\n    </tr>\n    <tr>\n      <th>57</th>\n      <td>WI</td>\n      <td>93075455.0</td>\n      <td>1017729.0</td>\n      <td>92057726.0</td>\n    </tr>\n    <tr>\n      <th>58</th>\n      <td>WV</td>\n      <td>16056459.0</td>\n      <td>281580.0</td>\n      <td>15774879.0</td>\n    </tr>\n    <tr>\n      <th>59</th>\n      <td>WY</td>\n      <td>7421311.0</td>\n      <td>77970.0</td>\n      <td>7343341.0</td>\n    </tr>\n  </tbody>\n</table>\n</div>"
     },
     "metadata": {},
     "execution_count": 87
    }
   ],
   "source": [
    "# group by states to be used later\n",
    "state_df = covid_df.groupby('state').sum().reset_index()\n",
    "state_df"
   ]
  },
  {
   "cell_type": "code",
   "execution_count": 83,
   "metadata": {},
   "outputs": [
    {
     "output_type": "execute_result",
     "data": {
      "text/plain": [
       "   state     tot_cases     tot_death  Total_recovered\n",
       "0     AK  1.758640e+04     89.830664     1.749657e+04\n",
       "1     AL  1.724059e+05   2994.839817     1.694110e+05\n",
       "2     AR  1.056609e+05   1705.565217     1.039553e+05\n",
       "3     AS  1.034325e+00      0.000000     1.034325e+00\n",
       "4     AZ  2.681647e+05   5384.070938     2.627806e+05\n",
       "5     CA  1.078193e+06  16467.789474     1.061726e+06\n",
       "6     CO  1.398344e+05   2439.169336     1.373953e+05\n",
       "7     CT  9.472047e+04   4092.528604     9.062794e+04\n",
       "8     DC  1.641789e+04    536.299771     1.588159e+04\n",
       "9     DE  2.892144e+04    601.901602     2.831954e+04\n",
       "10    FL  6.817260e+05  12025.622426     6.697004e+05\n",
       "11   FSM  1.945080e-01      0.000000     1.945080e-01\n",
       "12    GA  3.478880e+05   6471.709382     3.414163e+05\n",
       "13    GU  3.018776e+03     50.505721     2.968270e+03\n",
       "14    HI  1.025399e+04    146.711670     1.010728e+04\n",
       "15    IA  1.215529e+05   1830.983982     1.197219e+05\n",
       "16    ID  5.910533e+04    622.302059     5.848303e+04\n",
       "17    IL  4.285975e+05   9628.633867     4.189688e+05\n",
       "18    IN  2.148356e+05   4498.796339     2.103368e+05\n",
       "19    KS  9.475805e+04   1312.043478     9.344601e+04\n",
       "20    KY  1.210616e+05   1518.997712     1.195426e+05\n",
       "21    LA  1.659195e+05   4634.652174     1.612849e+05\n",
       "22    MA  1.970647e+05   8272.196796     1.887925e+05\n",
       "23    MD  1.437896e+05   3663.560641     1.401261e+05\n",
       "24    ME  1.228582e+04    213.503432     1.207232e+04\n",
       "25    MI  2.297549e+05   7536.398169     2.222185e+05\n",
       "26    MN  1.681246e+05   2561.757437     1.655628e+05\n",
       "27    MO  1.860204e+05   2713.997712     1.833064e+05\n",
       "28    MP  6.501602e+01      1.647597     6.336842e+01\n",
       "29    MS  1.062478e+05   2642.892449     1.036049e+05\n",
       "30    MT  3.170872e+04    402.990847     3.130573e+04\n",
       "31    NC  2.726023e+05   3788.750572     2.688136e+05\n",
       "32    ND  3.626217e+04    499.226545     3.576295e+04\n",
       "33    NE  7.096045e+04    717.292906     7.024316e+04\n",
       "34    NH  2.076833e+04    463.729977     2.030460e+04\n",
       "35    NJ  2.920973e+05  13429.427918     2.786679e+05\n",
       "36    NM  5.917283e+04   1219.752860     5.795307e+04\n",
       "37    NV  1.010587e+05   1690.448513     9.936825e+04\n",
       "38    NY  3.166491e+05   8803.144165     3.078460e+05\n",
       "39   NYC  2.902772e+05  19701.137300     2.705761e+05\n",
       "40    OH  2.954613e+05   5455.876430     2.900054e+05\n",
       "41    OK  1.333175e+05   1375.240275     1.319422e+05\n",
       "42    OR  5.008755e+04    726.796339     4.936075e+04\n",
       "43    PA  2.901385e+05   9221.638444     2.809169e+05\n",
       "44    PR  3.852752e+04    712.862700     3.781466e+04\n",
       "45    PW  0.000000e+00      0.000000     0.000000e+00\n",
       "46    RI  4.192676e+04   1085.466819     4.084130e+04\n",
       "47   RMI  1.315789e+00      0.000000     1.315789e+00\n",
       "48    SC  1.696927e+05   3170.286041     1.665224e+05\n",
       "49    SD  3.971570e+04    576.695652     3.913901e+04\n",
       "50    TN  2.584674e+05   3412.338673     2.550550e+05\n",
       "51    TX  8.754909e+05  14780.528604     8.607104e+05\n",
       "52    UT  1.202053e+05    629.194508     1.195762e+05\n",
       "53    VA  1.874287e+05   3167.407323     1.842613e+05\n",
       "54    VI  1.030078e+03     13.212815     1.016865e+03\n",
       "55    VT  4.165103e+03     77.606407     4.087497e+03\n",
       "56    WA  1.160884e+05   2078.462243     1.140100e+05\n",
       "57    WI  2.129873e+05   2328.899314     2.106584e+05\n",
       "58    WV  3.674247e+04    644.347826     3.609812e+04\n",
       "59    WY  1.698241e+04    178.421053     1.680398e+04"
      ],
      "text/html": "<div>\n<style scoped>\n    .dataframe tbody tr th:only-of-type {\n        vertical-align: middle;\n    }\n\n    .dataframe tbody tr th {\n        vertical-align: top;\n    }\n\n    .dataframe thead th {\n        text-align: right;\n    }\n</style>\n<table border=\"1\" class=\"dataframe\">\n  <thead>\n    <tr style=\"text-align: right;\">\n      <th></th>\n      <th>state</th>\n      <th>tot_cases</th>\n      <th>tot_death</th>\n      <th>Total_recovered</th>\n    </tr>\n  </thead>\n  <tbody>\n    <tr>\n      <th>0</th>\n      <td>AK</td>\n      <td>1.758640e+04</td>\n      <td>89.830664</td>\n      <td>1.749657e+04</td>\n    </tr>\n    <tr>\n      <th>1</th>\n      <td>AL</td>\n      <td>1.724059e+05</td>\n      <td>2994.839817</td>\n      <td>1.694110e+05</td>\n    </tr>\n    <tr>\n      <th>2</th>\n      <td>AR</td>\n      <td>1.056609e+05</td>\n      <td>1705.565217</td>\n      <td>1.039553e+05</td>\n    </tr>\n    <tr>\n      <th>3</th>\n      <td>AS</td>\n      <td>1.034325e+00</td>\n      <td>0.000000</td>\n      <td>1.034325e+00</td>\n    </tr>\n    <tr>\n      <th>4</th>\n      <td>AZ</td>\n      <td>2.681647e+05</td>\n      <td>5384.070938</td>\n      <td>2.627806e+05</td>\n    </tr>\n    <tr>\n      <th>5</th>\n      <td>CA</td>\n      <td>1.078193e+06</td>\n      <td>16467.789474</td>\n      <td>1.061726e+06</td>\n    </tr>\n    <tr>\n      <th>6</th>\n      <td>CO</td>\n      <td>1.398344e+05</td>\n      <td>2439.169336</td>\n      <td>1.373953e+05</td>\n    </tr>\n    <tr>\n      <th>7</th>\n      <td>CT</td>\n      <td>9.472047e+04</td>\n      <td>4092.528604</td>\n      <td>9.062794e+04</td>\n    </tr>\n    <tr>\n      <th>8</th>\n      <td>DC</td>\n      <td>1.641789e+04</td>\n      <td>536.299771</td>\n      <td>1.588159e+04</td>\n    </tr>\n    <tr>\n      <th>9</th>\n      <td>DE</td>\n      <td>2.892144e+04</td>\n      <td>601.901602</td>\n      <td>2.831954e+04</td>\n    </tr>\n    <tr>\n      <th>10</th>\n      <td>FL</td>\n      <td>6.817260e+05</td>\n      <td>12025.622426</td>\n      <td>6.697004e+05</td>\n    </tr>\n    <tr>\n      <th>11</th>\n      <td>FSM</td>\n      <td>1.945080e-01</td>\n      <td>0.000000</td>\n      <td>1.945080e-01</td>\n    </tr>\n    <tr>\n      <th>12</th>\n      <td>GA</td>\n      <td>3.478880e+05</td>\n      <td>6471.709382</td>\n      <td>3.414163e+05</td>\n    </tr>\n    <tr>\n      <th>13</th>\n      <td>GU</td>\n      <td>3.018776e+03</td>\n      <td>50.505721</td>\n      <td>2.968270e+03</td>\n    </tr>\n    <tr>\n      <th>14</th>\n      <td>HI</td>\n      <td>1.025399e+04</td>\n      <td>146.711670</td>\n      <td>1.010728e+04</td>\n    </tr>\n    <tr>\n      <th>15</th>\n      <td>IA</td>\n      <td>1.215529e+05</td>\n      <td>1830.983982</td>\n      <td>1.197219e+05</td>\n    </tr>\n    <tr>\n      <th>16</th>\n      <td>ID</td>\n      <td>5.910533e+04</td>\n      <td>622.302059</td>\n      <td>5.848303e+04</td>\n    </tr>\n    <tr>\n      <th>17</th>\n      <td>IL</td>\n      <td>4.285975e+05</td>\n      <td>9628.633867</td>\n      <td>4.189688e+05</td>\n    </tr>\n    <tr>\n      <th>18</th>\n      <td>IN</td>\n      <td>2.148356e+05</td>\n      <td>4498.796339</td>\n      <td>2.103368e+05</td>\n    </tr>\n    <tr>\n      <th>19</th>\n      <td>KS</td>\n      <td>9.475805e+04</td>\n      <td>1312.043478</td>\n      <td>9.344601e+04</td>\n    </tr>\n    <tr>\n      <th>20</th>\n      <td>KY</td>\n      <td>1.210616e+05</td>\n      <td>1518.997712</td>\n      <td>1.195426e+05</td>\n    </tr>\n    <tr>\n      <th>21</th>\n      <td>LA</td>\n      <td>1.659195e+05</td>\n      <td>4634.652174</td>\n      <td>1.612849e+05</td>\n    </tr>\n    <tr>\n      <th>22</th>\n      <td>MA</td>\n      <td>1.970647e+05</td>\n      <td>8272.196796</td>\n      <td>1.887925e+05</td>\n    </tr>\n    <tr>\n      <th>23</th>\n      <td>MD</td>\n      <td>1.437896e+05</td>\n      <td>3663.560641</td>\n      <td>1.401261e+05</td>\n    </tr>\n    <tr>\n      <th>24</th>\n      <td>ME</td>\n      <td>1.228582e+04</td>\n      <td>213.503432</td>\n      <td>1.207232e+04</td>\n    </tr>\n    <tr>\n      <th>25</th>\n      <td>MI</td>\n      <td>2.297549e+05</td>\n      <td>7536.398169</td>\n      <td>2.222185e+05</td>\n    </tr>\n    <tr>\n      <th>26</th>\n      <td>MN</td>\n      <td>1.681246e+05</td>\n      <td>2561.757437</td>\n      <td>1.655628e+05</td>\n    </tr>\n    <tr>\n      <th>27</th>\n      <td>MO</td>\n      <td>1.860204e+05</td>\n      <td>2713.997712</td>\n      <td>1.833064e+05</td>\n    </tr>\n    <tr>\n      <th>28</th>\n      <td>MP</td>\n      <td>6.501602e+01</td>\n      <td>1.647597</td>\n      <td>6.336842e+01</td>\n    </tr>\n    <tr>\n      <th>29</th>\n      <td>MS</td>\n      <td>1.062478e+05</td>\n      <td>2642.892449</td>\n      <td>1.036049e+05</td>\n    </tr>\n    <tr>\n      <th>30</th>\n      <td>MT</td>\n      <td>3.170872e+04</td>\n      <td>402.990847</td>\n      <td>3.130573e+04</td>\n    </tr>\n    <tr>\n      <th>31</th>\n      <td>NC</td>\n      <td>2.726023e+05</td>\n      <td>3788.750572</td>\n      <td>2.688136e+05</td>\n    </tr>\n    <tr>\n      <th>32</th>\n      <td>ND</td>\n      <td>3.626217e+04</td>\n      <td>499.226545</td>\n      <td>3.576295e+04</td>\n    </tr>\n    <tr>\n      <th>33</th>\n      <td>NE</td>\n      <td>7.096045e+04</td>\n      <td>717.292906</td>\n      <td>7.024316e+04</td>\n    </tr>\n    <tr>\n      <th>34</th>\n      <td>NH</td>\n      <td>2.076833e+04</td>\n      <td>463.729977</td>\n      <td>2.030460e+04</td>\n    </tr>\n    <tr>\n      <th>35</th>\n      <td>NJ</td>\n      <td>2.920973e+05</td>\n      <td>13429.427918</td>\n      <td>2.786679e+05</td>\n    </tr>\n    <tr>\n      <th>36</th>\n      <td>NM</td>\n      <td>5.917283e+04</td>\n      <td>1219.752860</td>\n      <td>5.795307e+04</td>\n    </tr>\n    <tr>\n      <th>37</th>\n      <td>NV</td>\n      <td>1.010587e+05</td>\n      <td>1690.448513</td>\n      <td>9.936825e+04</td>\n    </tr>\n    <tr>\n      <th>38</th>\n      <td>NY</td>\n      <td>3.166491e+05</td>\n      <td>8803.144165</td>\n      <td>3.078460e+05</td>\n    </tr>\n    <tr>\n      <th>39</th>\n      <td>NYC</td>\n      <td>2.902772e+05</td>\n      <td>19701.137300</td>\n      <td>2.705761e+05</td>\n    </tr>\n    <tr>\n      <th>40</th>\n      <td>OH</td>\n      <td>2.954613e+05</td>\n      <td>5455.876430</td>\n      <td>2.900054e+05</td>\n    </tr>\n    <tr>\n      <th>41</th>\n      <td>OK</td>\n      <td>1.333175e+05</td>\n      <td>1375.240275</td>\n      <td>1.319422e+05</td>\n    </tr>\n    <tr>\n      <th>42</th>\n      <td>OR</td>\n      <td>5.008755e+04</td>\n      <td>726.796339</td>\n      <td>4.936075e+04</td>\n    </tr>\n    <tr>\n      <th>43</th>\n      <td>PA</td>\n      <td>2.901385e+05</td>\n      <td>9221.638444</td>\n      <td>2.809169e+05</td>\n    </tr>\n    <tr>\n      <th>44</th>\n      <td>PR</td>\n      <td>3.852752e+04</td>\n      <td>712.862700</td>\n      <td>3.781466e+04</td>\n    </tr>\n    <tr>\n      <th>45</th>\n      <td>PW</td>\n      <td>0.000000e+00</td>\n      <td>0.000000</td>\n      <td>0.000000e+00</td>\n    </tr>\n    <tr>\n      <th>46</th>\n      <td>RI</td>\n      <td>4.192676e+04</td>\n      <td>1085.466819</td>\n      <td>4.084130e+04</td>\n    </tr>\n    <tr>\n      <th>47</th>\n      <td>RMI</td>\n      <td>1.315789e+00</td>\n      <td>0.000000</td>\n      <td>1.315789e+00</td>\n    </tr>\n    <tr>\n      <th>48</th>\n      <td>SC</td>\n      <td>1.696927e+05</td>\n      <td>3170.286041</td>\n      <td>1.665224e+05</td>\n    </tr>\n    <tr>\n      <th>49</th>\n      <td>SD</td>\n      <td>3.971570e+04</td>\n      <td>576.695652</td>\n      <td>3.913901e+04</td>\n    </tr>\n    <tr>\n      <th>50</th>\n      <td>TN</td>\n      <td>2.584674e+05</td>\n      <td>3412.338673</td>\n      <td>2.550550e+05</td>\n    </tr>\n    <tr>\n      <th>51</th>\n      <td>TX</td>\n      <td>8.754909e+05</td>\n      <td>14780.528604</td>\n      <td>8.607104e+05</td>\n    </tr>\n    <tr>\n      <th>52</th>\n      <td>UT</td>\n      <td>1.202053e+05</td>\n      <td>629.194508</td>\n      <td>1.195762e+05</td>\n    </tr>\n    <tr>\n      <th>53</th>\n      <td>VA</td>\n      <td>1.874287e+05</td>\n      <td>3167.407323</td>\n      <td>1.842613e+05</td>\n    </tr>\n    <tr>\n      <th>54</th>\n      <td>VI</td>\n      <td>1.030078e+03</td>\n      <td>13.212815</td>\n      <td>1.016865e+03</td>\n    </tr>\n    <tr>\n      <th>55</th>\n      <td>VT</td>\n      <td>4.165103e+03</td>\n      <td>77.606407</td>\n      <td>4.087497e+03</td>\n    </tr>\n    <tr>\n      <th>56</th>\n      <td>WA</td>\n      <td>1.160884e+05</td>\n      <td>2078.462243</td>\n      <td>1.140100e+05</td>\n    </tr>\n    <tr>\n      <th>57</th>\n      <td>WI</td>\n      <td>2.129873e+05</td>\n      <td>2328.899314</td>\n      <td>2.106584e+05</td>\n    </tr>\n    <tr>\n      <th>58</th>\n      <td>WV</td>\n      <td>3.674247e+04</td>\n      <td>644.347826</td>\n      <td>3.609812e+04</td>\n    </tr>\n    <tr>\n      <th>59</th>\n      <td>WY</td>\n      <td>1.698241e+04</td>\n      <td>178.421053</td>\n      <td>1.680398e+04</td>\n    </tr>\n  </tbody>\n</table>\n</div>"
     },
     "metadata": {},
     "execution_count": 83
    }
   ],
   "source": [
    "# group by states to be used later\n",
    "state_df = covid_df.groupby('state').mean().reset_index()\n",
    "state_df"
   ]
  },
  {
   "cell_type": "code",
   "execution_count": 36,
   "metadata": {},
   "outputs": [
    {
     "output_type": "execute_result",
     "data": {
      "text/plain": [
       "          date state  tot_cases  tot_death  Total_recovered\n",
       "26215  2020-12   RMI        4.0        0.0              4.0\n",
       "26216  2020-04    UT     2061.0       15.0           2046.0\n",
       "26217  2020-10    KS    72968.0      872.0          72096.0\n",
       "26218  2020-12    NY   368246.0    10274.0         357972.0\n",
       "26219  2020-03    IA      497.0        7.0            490.0"
      ],
      "text/html": "<div>\n<style scoped>\n    .dataframe tbody tr th:only-of-type {\n        vertical-align: middle;\n    }\n\n    .dataframe tbody tr th {\n        vertical-align: top;\n    }\n\n    .dataframe thead th {\n        text-align: right;\n    }\n</style>\n<table border=\"1\" class=\"dataframe\">\n  <thead>\n    <tr style=\"text-align: right;\">\n      <th></th>\n      <th>date</th>\n      <th>state</th>\n      <th>tot_cases</th>\n      <th>tot_death</th>\n      <th>Total_recovered</th>\n    </tr>\n  </thead>\n  <tbody>\n    <tr>\n      <th>26215</th>\n      <td>2020-12</td>\n      <td>RMI</td>\n      <td>4.0</td>\n      <td>0.0</td>\n      <td>4.0</td>\n    </tr>\n    <tr>\n      <th>26216</th>\n      <td>2020-04</td>\n      <td>UT</td>\n      <td>2061.0</td>\n      <td>15.0</td>\n      <td>2046.0</td>\n    </tr>\n    <tr>\n      <th>26217</th>\n      <td>2020-10</td>\n      <td>KS</td>\n      <td>72968.0</td>\n      <td>872.0</td>\n      <td>72096.0</td>\n    </tr>\n    <tr>\n      <th>26218</th>\n      <td>2020-12</td>\n      <td>NY</td>\n      <td>368246.0</td>\n      <td>10274.0</td>\n      <td>357972.0</td>\n    </tr>\n    <tr>\n      <th>26219</th>\n      <td>2020-03</td>\n      <td>IA</td>\n      <td>497.0</td>\n      <td>7.0</td>\n      <td>490.0</td>\n    </tr>\n  </tbody>\n</table>\n</div>"
     },
     "metadata": {},
     "execution_count": 36
    }
   ],
   "source": [
    "# add total recovery columns to df\n",
    "covid_df[\"Total_recovered\"] = covid_df.tot_cases - covid_df.tot_death\n",
    "covid_df.tail()"
   ]
  },
  {
   "cell_type": "code",
   "execution_count": 85,
   "metadata": {},
   "outputs": [
    {
     "output_type": "execute_result",
     "data": {
      "text/plain": [
       "        date state  tot_cases  tot_death  Total_recovered\n",
       "0    2020-01    AK        0.0        0.0              0.0\n",
       "1    2020-01    AL        0.0        0.0              0.0\n",
       "2    2020-01    AR        0.0        0.0              0.0\n",
       "3    2020-01    AS        0.0        0.0              0.0\n",
       "4    2020-01    AZ        0.6        0.0              0.6\n",
       "..       ...   ...        ...        ...              ...\n",
       "955  2021-04    VT    19639.0      227.5          19411.5\n",
       "956  2021-04    WA   366438.5     5270.0         361168.5\n",
       "957  2021-04    WI   637354.5     7331.0         630023.5\n",
       "958  2021-04    WV   142443.0     2685.5         139757.5\n",
       "959  2021-04    WY    56418.0      700.0          55718.0\n",
       "\n",
       "[960 rows x 5 columns]"
      ],
      "text/html": "<div>\n<style scoped>\n    .dataframe tbody tr th:only-of-type {\n        vertical-align: middle;\n    }\n\n    .dataframe tbody tr th {\n        vertical-align: top;\n    }\n\n    .dataframe thead th {\n        text-align: right;\n    }\n</style>\n<table border=\"1\" class=\"dataframe\">\n  <thead>\n    <tr style=\"text-align: right;\">\n      <th></th>\n      <th>date</th>\n      <th>state</th>\n      <th>tot_cases</th>\n      <th>tot_death</th>\n      <th>Total_recovered</th>\n    </tr>\n  </thead>\n  <tbody>\n    <tr>\n      <th>0</th>\n      <td>2020-01</td>\n      <td>AK</td>\n      <td>0.0</td>\n      <td>0.0</td>\n      <td>0.0</td>\n    </tr>\n    <tr>\n      <th>1</th>\n      <td>2020-01</td>\n      <td>AL</td>\n      <td>0.0</td>\n      <td>0.0</td>\n      <td>0.0</td>\n    </tr>\n    <tr>\n      <th>2</th>\n      <td>2020-01</td>\n      <td>AR</td>\n      <td>0.0</td>\n      <td>0.0</td>\n      <td>0.0</td>\n    </tr>\n    <tr>\n      <th>3</th>\n      <td>2020-01</td>\n      <td>AS</td>\n      <td>0.0</td>\n      <td>0.0</td>\n      <td>0.0</td>\n    </tr>\n    <tr>\n      <th>4</th>\n      <td>2020-01</td>\n      <td>AZ</td>\n      <td>0.6</td>\n      <td>0.0</td>\n      <td>0.6</td>\n    </tr>\n    <tr>\n      <th>...</th>\n      <td>...</td>\n      <td>...</td>\n      <td>...</td>\n      <td>...</td>\n      <td>...</td>\n    </tr>\n    <tr>\n      <th>955</th>\n      <td>2021-04</td>\n      <td>VT</td>\n      <td>19639.0</td>\n      <td>227.5</td>\n      <td>19411.5</td>\n    </tr>\n    <tr>\n      <th>956</th>\n      <td>2021-04</td>\n      <td>WA</td>\n      <td>366438.5</td>\n      <td>5270.0</td>\n      <td>361168.5</td>\n    </tr>\n    <tr>\n      <th>957</th>\n      <td>2021-04</td>\n      <td>WI</td>\n      <td>637354.5</td>\n      <td>7331.0</td>\n      <td>630023.5</td>\n    </tr>\n    <tr>\n      <th>958</th>\n      <td>2021-04</td>\n      <td>WV</td>\n      <td>142443.0</td>\n      <td>2685.5</td>\n      <td>139757.5</td>\n    </tr>\n    <tr>\n      <th>959</th>\n      <td>2021-04</td>\n      <td>WY</td>\n      <td>56418.0</td>\n      <td>700.0</td>\n      <td>55718.0</td>\n    </tr>\n  </tbody>\n</table>\n<p>960 rows × 5 columns</p>\n</div>"
     },
     "metadata": {},
     "execution_count": 85
    }
   ],
   "source": [
    "# groupby date and state and take the mean value to get monthly average..\n",
    "covid_monthly_df = round(covid_df.groupby([\"date\", \"state\"]).mean().reset_index(), 2)\n",
    "covid_monthly_df"
   ]
  },
  {
   "cell_type": "code",
   "execution_count": 38,
   "metadata": {},
   "outputs": [
    {
     "output_type": "execute_result",
     "data": {
      "text/plain": [
       "        Date State  Average_cases  Average_death  Average_recovery\n",
       "0    2020-01    AK            0.0            0.0               0.0\n",
       "1    2020-01    AL            0.0            0.0               0.0\n",
       "2    2020-01    AR            0.0            0.0               0.0\n",
       "3    2020-01    AS            0.0            0.0               0.0\n",
       "4    2020-01    AZ            0.6            0.0               0.6\n",
       "..       ...   ...            ...            ...               ...\n",
       "955  2021-04    VT        19639.0          227.5           19411.5\n",
       "956  2021-04    WA       366438.5         5270.0          361168.5\n",
       "957  2021-04    WI       637354.5         7331.0          630023.5\n",
       "958  2021-04    WV       142443.0         2685.5          139757.5\n",
       "959  2021-04    WY        56418.0          700.0           55718.0\n",
       "\n",
       "[960 rows x 5 columns]"
      ],
      "text/html": "<div>\n<style scoped>\n    .dataframe tbody tr th:only-of-type {\n        vertical-align: middle;\n    }\n\n    .dataframe tbody tr th {\n        vertical-align: top;\n    }\n\n    .dataframe thead th {\n        text-align: right;\n    }\n</style>\n<table border=\"1\" class=\"dataframe\">\n  <thead>\n    <tr style=\"text-align: right;\">\n      <th></th>\n      <th>Date</th>\n      <th>State</th>\n      <th>Average_cases</th>\n      <th>Average_death</th>\n      <th>Average_recovery</th>\n    </tr>\n  </thead>\n  <tbody>\n    <tr>\n      <th>0</th>\n      <td>2020-01</td>\n      <td>AK</td>\n      <td>0.0</td>\n      <td>0.0</td>\n      <td>0.0</td>\n    </tr>\n    <tr>\n      <th>1</th>\n      <td>2020-01</td>\n      <td>AL</td>\n      <td>0.0</td>\n      <td>0.0</td>\n      <td>0.0</td>\n    </tr>\n    <tr>\n      <th>2</th>\n      <td>2020-01</td>\n      <td>AR</td>\n      <td>0.0</td>\n      <td>0.0</td>\n      <td>0.0</td>\n    </tr>\n    <tr>\n      <th>3</th>\n      <td>2020-01</td>\n      <td>AS</td>\n      <td>0.0</td>\n      <td>0.0</td>\n      <td>0.0</td>\n    </tr>\n    <tr>\n      <th>4</th>\n      <td>2020-01</td>\n      <td>AZ</td>\n      <td>0.6</td>\n      <td>0.0</td>\n      <td>0.6</td>\n    </tr>\n    <tr>\n      <th>...</th>\n      <td>...</td>\n      <td>...</td>\n      <td>...</td>\n      <td>...</td>\n      <td>...</td>\n    </tr>\n    <tr>\n      <th>955</th>\n      <td>2021-04</td>\n      <td>VT</td>\n      <td>19639.0</td>\n      <td>227.5</td>\n      <td>19411.5</td>\n    </tr>\n    <tr>\n      <th>956</th>\n      <td>2021-04</td>\n      <td>WA</td>\n      <td>366438.5</td>\n      <td>5270.0</td>\n      <td>361168.5</td>\n    </tr>\n    <tr>\n      <th>957</th>\n      <td>2021-04</td>\n      <td>WI</td>\n      <td>637354.5</td>\n      <td>7331.0</td>\n      <td>630023.5</td>\n    </tr>\n    <tr>\n      <th>958</th>\n      <td>2021-04</td>\n      <td>WV</td>\n      <td>142443.0</td>\n      <td>2685.5</td>\n      <td>139757.5</td>\n    </tr>\n    <tr>\n      <th>959</th>\n      <td>2021-04</td>\n      <td>WY</td>\n      <td>56418.0</td>\n      <td>700.0</td>\n      <td>55718.0</td>\n    </tr>\n  </tbody>\n</table>\n<p>960 rows × 5 columns</p>\n</div>"
     },
     "metadata": {},
     "execution_count": 38
    }
   ],
   "source": [
    "# rename columns. name gotta be compatable wth sqlite database naming potocol.\n",
    "covid_monthly_df = covid_monthly_df.rename(columns={\"date\": \"Date\", \"state\": \"State\", \"tot_cases\": \"Average_cases\", \"tot_death\": \"Average_death\", \"Total_recovered\": \"Average_recovery\"})\n",
    "covid_monthly_df"
   ]
  },
  {
   "cell_type": "code",
   "execution_count": 39,
   "metadata": {},
   "outputs": [
    {
     "output_type": "execute_result",
     "data": {
      "text/plain": [
       "        Date State  Average_cases  Average_death  Average_recovery  \\\n",
       "0    2020-01    AK            0.0            0.0               0.0   \n",
       "1    2020-01    AL            0.0            0.0               0.0   \n",
       "2    2020-01    AR            0.0            0.0               0.0   \n",
       "3    2020-01    AS            0.0            0.0               0.0   \n",
       "4    2020-01    AZ            0.6            0.0               0.6   \n",
       "..       ...   ...            ...            ...               ...   \n",
       "955  2021-04    VT        19639.0          227.5           19411.5   \n",
       "956  2021-04    WA       366438.5         5270.0          361168.5   \n",
       "957  2021-04    WI       637354.5         7331.0          630023.5   \n",
       "958  2021-04    WV       142443.0         2685.5          139757.5   \n",
       "959  2021-04    WY        56418.0          700.0           55718.0   \n",
       "\n",
       "     Death_percent  Recovery_percent  \n",
       "0             0.00              0.00  \n",
       "1             0.00              0.00  \n",
       "2             0.00              0.00  \n",
       "3             0.00              0.00  \n",
       "4             0.00            100.00  \n",
       "..             ...               ...  \n",
       "955           1.16             98.84  \n",
       "956           1.44             98.56  \n",
       "957           1.15             98.85  \n",
       "958           1.89             98.11  \n",
       "959           1.24             98.76  \n",
       "\n",
       "[960 rows x 7 columns]"
      ],
      "text/html": "<div>\n<style scoped>\n    .dataframe tbody tr th:only-of-type {\n        vertical-align: middle;\n    }\n\n    .dataframe tbody tr th {\n        vertical-align: top;\n    }\n\n    .dataframe thead th {\n        text-align: right;\n    }\n</style>\n<table border=\"1\" class=\"dataframe\">\n  <thead>\n    <tr style=\"text-align: right;\">\n      <th></th>\n      <th>Date</th>\n      <th>State</th>\n      <th>Average_cases</th>\n      <th>Average_death</th>\n      <th>Average_recovery</th>\n      <th>Death_percent</th>\n      <th>Recovery_percent</th>\n    </tr>\n  </thead>\n  <tbody>\n    <tr>\n      <th>0</th>\n      <td>2020-01</td>\n      <td>AK</td>\n      <td>0.0</td>\n      <td>0.0</td>\n      <td>0.0</td>\n      <td>0.00</td>\n      <td>0.00</td>\n    </tr>\n    <tr>\n      <th>1</th>\n      <td>2020-01</td>\n      <td>AL</td>\n      <td>0.0</td>\n      <td>0.0</td>\n      <td>0.0</td>\n      <td>0.00</td>\n      <td>0.00</td>\n    </tr>\n    <tr>\n      <th>2</th>\n      <td>2020-01</td>\n      <td>AR</td>\n      <td>0.0</td>\n      <td>0.0</td>\n      <td>0.0</td>\n      <td>0.00</td>\n      <td>0.00</td>\n    </tr>\n    <tr>\n      <th>3</th>\n      <td>2020-01</td>\n      <td>AS</td>\n      <td>0.0</td>\n      <td>0.0</td>\n      <td>0.0</td>\n      <td>0.00</td>\n      <td>0.00</td>\n    </tr>\n    <tr>\n      <th>4</th>\n      <td>2020-01</td>\n      <td>AZ</td>\n      <td>0.6</td>\n      <td>0.0</td>\n      <td>0.6</td>\n      <td>0.00</td>\n      <td>100.00</td>\n    </tr>\n    <tr>\n      <th>...</th>\n      <td>...</td>\n      <td>...</td>\n      <td>...</td>\n      <td>...</td>\n      <td>...</td>\n      <td>...</td>\n      <td>...</td>\n    </tr>\n    <tr>\n      <th>955</th>\n      <td>2021-04</td>\n      <td>VT</td>\n      <td>19639.0</td>\n      <td>227.5</td>\n      <td>19411.5</td>\n      <td>1.16</td>\n      <td>98.84</td>\n    </tr>\n    <tr>\n      <th>956</th>\n      <td>2021-04</td>\n      <td>WA</td>\n      <td>366438.5</td>\n      <td>5270.0</td>\n      <td>361168.5</td>\n      <td>1.44</td>\n      <td>98.56</td>\n    </tr>\n    <tr>\n      <th>957</th>\n      <td>2021-04</td>\n      <td>WI</td>\n      <td>637354.5</td>\n      <td>7331.0</td>\n      <td>630023.5</td>\n      <td>1.15</td>\n      <td>98.85</td>\n    </tr>\n    <tr>\n      <th>958</th>\n      <td>2021-04</td>\n      <td>WV</td>\n      <td>142443.0</td>\n      <td>2685.5</td>\n      <td>139757.5</td>\n      <td>1.89</td>\n      <td>98.11</td>\n    </tr>\n    <tr>\n      <th>959</th>\n      <td>2021-04</td>\n      <td>WY</td>\n      <td>56418.0</td>\n      <td>700.0</td>\n      <td>55718.0</td>\n      <td>1.24</td>\n      <td>98.76</td>\n    </tr>\n  </tbody>\n</table>\n<p>960 rows × 7 columns</p>\n</div>"
     },
     "metadata": {},
     "execution_count": 39
    }
   ],
   "source": [
    "# add death and recovery percentage columns. change NA values to zero\n",
    "covid_monthly_df['Death_percent'] = round((covid_monthly_df.Average_death/covid_monthly_df.Average_cases)*100, 2)\n",
    "covid_monthly_df['Recovery_percent'] = round((covid_monthly_df.Average_recovery/covid_monthly_df.Average_cases)*100, 2)\n",
    "covid_monthly_df=covid_monthly_df.fillna(0)\n",
    "covid_monthly_df"
   ]
  },
  {
   "cell_type": "code",
   "execution_count": 40,
   "metadata": {},
   "outputs": [],
   "source": [
    "# save df as a csv file\n",
    "covid_monthly_df.to_csv('../Data/monthly.csv')"
   ]
  },
  {
   "source": [
    "## USA Total Cases and Death by State"
   ],
   "cell_type": "markdown",
   "metadata": {}
  },
  {
   "cell_type": "code",
   "execution_count": 41,
   "metadata": {},
   "outputs": [
    {
     "output_type": "execute_result",
     "data": {
      "text/plain": [
       "  State/Territory  Total Cases  Confirmed Cases  Probable Cases  \\\n",
       "0          Alaska        17072              NaN             NaN   \n",
       "1         Alabama       199158         169266.0         29892.0   \n",
       "2        Arkansas       117360              NaN             NaN   \n",
       "3  American Samoa            0              NaN             NaN   \n",
       "4         Arizona       252768         246468.0          6300.0   \n",
       "\n",
       "   Cases in Last 7 Days  Case Rate per 100000  Total Deaths  Confirmed Deaths  \\\n",
       "0                  2616                  2315            84               NaN   \n",
       "1                 10009                  4074          3026            2818.0   \n",
       "2                  7648                  3894          2037               NaN   \n",
       "3                     0                     0             0               NaN   \n",
       "4                 10288                  3524          6087            5707.0   \n",
       "\n",
       "   Probable Deaths  Deaths in Last 7 Days  Death Rate per 100000  \\\n",
       "0              NaN                      7                     11   \n",
       "1            208.0                    112                     61   \n",
       "2              NaN                    143                     67   \n",
       "3              NaN                      0                      0   \n",
       "4            380.0                    169                     84   \n",
       "\n",
       "   Case Rate per 100000 in Last 7 Days  Death Rate per 100K in Last 7 Days  \n",
       "0                                 50.7                                 0.1  \n",
       "1                                 29.3                                 0.3  \n",
       "2                                 36.3                                 0.7  \n",
       "3                                  0.0                                 0.0  \n",
       "4                                 20.5                                 0.3  "
      ],
      "text/html": "<div>\n<style scoped>\n    .dataframe tbody tr th:only-of-type {\n        vertical-align: middle;\n    }\n\n    .dataframe tbody tr th {\n        vertical-align: top;\n    }\n\n    .dataframe thead th {\n        text-align: right;\n    }\n</style>\n<table border=\"1\" class=\"dataframe\">\n  <thead>\n    <tr style=\"text-align: right;\">\n      <th></th>\n      <th>State/Territory</th>\n      <th>Total Cases</th>\n      <th>Confirmed Cases</th>\n      <th>Probable Cases</th>\n      <th>Cases in Last 7 Days</th>\n      <th>Case Rate per 100000</th>\n      <th>Total Deaths</th>\n      <th>Confirmed Deaths</th>\n      <th>Probable Deaths</th>\n      <th>Deaths in Last 7 Days</th>\n      <th>Death Rate per 100000</th>\n      <th>Case Rate per 100000 in Last 7 Days</th>\n      <th>Death Rate per 100K in Last 7 Days</th>\n    </tr>\n  </thead>\n  <tbody>\n    <tr>\n      <th>0</th>\n      <td>Alaska</td>\n      <td>17072</td>\n      <td>NaN</td>\n      <td>NaN</td>\n      <td>2616</td>\n      <td>2315</td>\n      <td>84</td>\n      <td>NaN</td>\n      <td>NaN</td>\n      <td>7</td>\n      <td>11</td>\n      <td>50.7</td>\n      <td>0.1</td>\n    </tr>\n    <tr>\n      <th>1</th>\n      <td>Alabama</td>\n      <td>199158</td>\n      <td>169266.0</td>\n      <td>29892.0</td>\n      <td>10009</td>\n      <td>4074</td>\n      <td>3026</td>\n      <td>2818.0</td>\n      <td>208.0</td>\n      <td>112</td>\n      <td>61</td>\n      <td>29.3</td>\n      <td>0.3</td>\n    </tr>\n    <tr>\n      <th>2</th>\n      <td>Arkansas</td>\n      <td>117360</td>\n      <td>NaN</td>\n      <td>NaN</td>\n      <td>7648</td>\n      <td>3894</td>\n      <td>2037</td>\n      <td>NaN</td>\n      <td>NaN</td>\n      <td>143</td>\n      <td>67</td>\n      <td>36.3</td>\n      <td>0.7</td>\n    </tr>\n    <tr>\n      <th>3</th>\n      <td>American Samoa</td>\n      <td>0</td>\n      <td>NaN</td>\n      <td>NaN</td>\n      <td>0</td>\n      <td>0</td>\n      <td>0</td>\n      <td>NaN</td>\n      <td>NaN</td>\n      <td>0</td>\n      <td>0</td>\n      <td>0.0</td>\n      <td>0.0</td>\n    </tr>\n    <tr>\n      <th>4</th>\n      <td>Arizona</td>\n      <td>252768</td>\n      <td>246468.0</td>\n      <td>6300.0</td>\n      <td>10288</td>\n      <td>3524</td>\n      <td>6087</td>\n      <td>5707.0</td>\n      <td>380.0</td>\n      <td>169</td>\n      <td>84</td>\n      <td>20.5</td>\n      <td>0.3</td>\n    </tr>\n  </tbody>\n</table>\n</div>"
     },
     "metadata": {},
     "execution_count": 41
    }
   ],
   "source": [
    "# upload data file and read it ito a pandas dataframe\n",
    "file = \"../Data/US_COVID-19_Deaths.csv\"\n",
    "covid_stats_df = pd.read_csv(file)\n",
    "covid_stats_df.head()"
   ]
  },
  {
   "cell_type": "code",
   "execution_count": 42,
   "metadata": {},
   "outputs": [
    {
     "output_type": "execute_result",
     "data": {
      "text/plain": [
       "  State/Territory  Total Cases  Case Rate per 100000  Total Deaths  \\\n",
       "0          Alaska        17072                  2315            84   \n",
       "1         Alabama       199158                  4074          3026   \n",
       "2        Arkansas       117360                  3894          2037   \n",
       "3  American Samoa            0                     0             0   \n",
       "4         Arizona       252768                  3524          6087   \n",
       "\n",
       "   Death Rate per 100000  \n",
       "0                     11  \n",
       "1                     61  \n",
       "2                     67  \n",
       "3                      0  \n",
       "4                     84  "
      ],
      "text/html": "<div>\n<style scoped>\n    .dataframe tbody tr th:only-of-type {\n        vertical-align: middle;\n    }\n\n    .dataframe tbody tr th {\n        vertical-align: top;\n    }\n\n    .dataframe thead th {\n        text-align: right;\n    }\n</style>\n<table border=\"1\" class=\"dataframe\">\n  <thead>\n    <tr style=\"text-align: right;\">\n      <th></th>\n      <th>State/Territory</th>\n      <th>Total Cases</th>\n      <th>Case Rate per 100000</th>\n      <th>Total Deaths</th>\n      <th>Death Rate per 100000</th>\n    </tr>\n  </thead>\n  <tbody>\n    <tr>\n      <th>0</th>\n      <td>Alaska</td>\n      <td>17072</td>\n      <td>2315</td>\n      <td>84</td>\n      <td>11</td>\n    </tr>\n    <tr>\n      <th>1</th>\n      <td>Alabama</td>\n      <td>199158</td>\n      <td>4074</td>\n      <td>3026</td>\n      <td>61</td>\n    </tr>\n    <tr>\n      <th>2</th>\n      <td>Arkansas</td>\n      <td>117360</td>\n      <td>3894</td>\n      <td>2037</td>\n      <td>67</td>\n    </tr>\n    <tr>\n      <th>3</th>\n      <td>American Samoa</td>\n      <td>0</td>\n      <td>0</td>\n      <td>0</td>\n      <td>0</td>\n    </tr>\n    <tr>\n      <th>4</th>\n      <td>Arizona</td>\n      <td>252768</td>\n      <td>3524</td>\n      <td>6087</td>\n      <td>84</td>\n    </tr>\n  </tbody>\n</table>\n</div>"
     },
     "metadata": {},
     "execution_count": 42
    }
   ],
   "source": [
    "# select relevant columns only\n",
    "covid_stats_df = covid_stats_df[['State/Territory', 'Total Cases', 'Case Rate per 100000', 'Total Deaths', 'Death Rate per 100000']]\n",
    "covid_stats_df.head()"
   ]
  },
  {
   "cell_type": "code",
   "execution_count": 43,
   "metadata": {},
   "outputs": [
    {
     "output_type": "execute_result",
     "data": {
      "text/plain": [
       "  State/Territory  Total Cases  Case Rate per 100000  Total Deaths  \\\n",
       "0          Alaska        17072                  2315            84   \n",
       "1         Alabama       199158                  4074          3026   \n",
       "2        Arkansas       117360                  3894          2037   \n",
       "3  American Samoa            0                     0             0   \n",
       "4         Arizona       252768                  3524          6087   \n",
       "\n",
       "   Death Rate per 100000 State  \n",
       "0                     11    AK  \n",
       "1                     61    AL  \n",
       "2                     67    AR  \n",
       "3                      0    AS  \n",
       "4                     84    AZ  "
      ],
      "text/html": "<div>\n<style scoped>\n    .dataframe tbody tr th:only-of-type {\n        vertical-align: middle;\n    }\n\n    .dataframe tbody tr th {\n        vertical-align: top;\n    }\n\n    .dataframe thead th {\n        text-align: right;\n    }\n</style>\n<table border=\"1\" class=\"dataframe\">\n  <thead>\n    <tr style=\"text-align: right;\">\n      <th></th>\n      <th>State/Territory</th>\n      <th>Total Cases</th>\n      <th>Case Rate per 100000</th>\n      <th>Total Deaths</th>\n      <th>Death Rate per 100000</th>\n      <th>State</th>\n    </tr>\n  </thead>\n  <tbody>\n    <tr>\n      <th>0</th>\n      <td>Alaska</td>\n      <td>17072</td>\n      <td>2315</td>\n      <td>84</td>\n      <td>11</td>\n      <td>AK</td>\n    </tr>\n    <tr>\n      <th>1</th>\n      <td>Alabama</td>\n      <td>199158</td>\n      <td>4074</td>\n      <td>3026</td>\n      <td>61</td>\n      <td>AL</td>\n    </tr>\n    <tr>\n      <th>2</th>\n      <td>Arkansas</td>\n      <td>117360</td>\n      <td>3894</td>\n      <td>2037</td>\n      <td>67</td>\n      <td>AR</td>\n    </tr>\n    <tr>\n      <th>3</th>\n      <td>American Samoa</td>\n      <td>0</td>\n      <td>0</td>\n      <td>0</td>\n      <td>0</td>\n      <td>AS</td>\n    </tr>\n    <tr>\n      <th>4</th>\n      <td>Arizona</td>\n      <td>252768</td>\n      <td>3524</td>\n      <td>6087</td>\n      <td>84</td>\n      <td>AZ</td>\n    </tr>\n  </tbody>\n</table>\n</div>"
     },
     "metadata": {},
     "execution_count": 43
    }
   ],
   "source": [
    "# add a state abbreviation column\n",
    "covid_stats_df['State'] = state_df['state']\n",
    "covid_stats_df.head()"
   ]
  },
  {
   "cell_type": "code",
   "execution_count": 44,
   "metadata": {},
   "outputs": [
    {
     "output_type": "execute_result",
     "data": {
      "text/plain": [
       "   State  Total_cases  Case_rate_per_100k  Total_deaths  Death_rate_per_100k\n",
       "56    WA       112550                1494          2431                   32\n",
       "57    WI       263571                4534          2269                   39\n",
       "58    WV        26547                1470           480                   26\n",
       "59    WY        15409                2667           105                   18\n",
       "60     0      9581770                2895        234264                   71"
      ],
      "text/html": "<div>\n<style scoped>\n    .dataframe tbody tr th:only-of-type {\n        vertical-align: middle;\n    }\n\n    .dataframe tbody tr th {\n        vertical-align: top;\n    }\n\n    .dataframe thead th {\n        text-align: right;\n    }\n</style>\n<table border=\"1\" class=\"dataframe\">\n  <thead>\n    <tr style=\"text-align: right;\">\n      <th></th>\n      <th>State</th>\n      <th>Total_cases</th>\n      <th>Case_rate_per_100k</th>\n      <th>Total_deaths</th>\n      <th>Death_rate_per_100k</th>\n    </tr>\n  </thead>\n  <tbody>\n    <tr>\n      <th>56</th>\n      <td>WA</td>\n      <td>112550</td>\n      <td>1494</td>\n      <td>2431</td>\n      <td>32</td>\n    </tr>\n    <tr>\n      <th>57</th>\n      <td>WI</td>\n      <td>263571</td>\n      <td>4534</td>\n      <td>2269</td>\n      <td>39</td>\n    </tr>\n    <tr>\n      <th>58</th>\n      <td>WV</td>\n      <td>26547</td>\n      <td>1470</td>\n      <td>480</td>\n      <td>26</td>\n    </tr>\n    <tr>\n      <th>59</th>\n      <td>WY</td>\n      <td>15409</td>\n      <td>2667</td>\n      <td>105</td>\n      <td>18</td>\n    </tr>\n    <tr>\n      <th>60</th>\n      <td>0</td>\n      <td>9581770</td>\n      <td>2895</td>\n      <td>234264</td>\n      <td>71</td>\n    </tr>\n  </tbody>\n</table>\n</div>"
     },
     "metadata": {},
     "execution_count": 44
    }
   ],
   "source": [
    "# rename columns and drop any column with NA\n",
    "covid_stats_df = covid_stats_df.rename(columns={\"state\": \"State\", \"Total Cases\": \"Total_cases\", \"Case Rate per 100000\": \"Case_rate_per_100k\", \"Total Deaths\": \"Total_deaths\", \"Death Rate per 100000\": \"Death_rate_per_100k\"})\n",
    "covid_stats_df = covid_stats_df[[\"State\", \"Total_cases\", \"Case_rate_per_100k\", \"Total_deaths\", \"Death_rate_per_100k\"]].fillna(0)\n",
    "covid_stats_df.tail()"
   ]
  },
  {
   "source": [
    "## USA COVID-19 data with latitude and longtitude to create interactive map"
   ],
   "cell_type": "markdown",
   "metadata": {}
  },
  {
   "cell_type": "code",
   "execution_count": 52,
   "metadata": {},
   "outputs": [
    {
     "output_type": "execute_result",
     "data": {
      "text/plain": [
       "              Province_State Country_Region          Last_Update      Lat  \\\n",
       "0                    Alabama             US  2020-11-06 05:30:35  32.3182   \n",
       "1                     Alaska             US  2020-11-06 05:30:35  61.3707   \n",
       "2             American Samoa             US  2020-11-06 05:30:35 -14.2710   \n",
       "3                    Arizona             US  2020-11-06 05:30:35  33.7298   \n",
       "4                   Arkansas             US  2020-11-06 05:30:35  34.9697   \n",
       "5                 California             US  2020-11-06 05:30:35  36.1162   \n",
       "6                   Colorado             US  2020-11-06 05:30:35  39.0598   \n",
       "7                Connecticut             US  2020-11-06 05:30:35  41.5978   \n",
       "8                   Delaware             US  2020-11-06 05:30:35  39.3185   \n",
       "9           Diamond Princess             US  2020-11-06 05:30:35      NaN   \n",
       "10      District of Columbia             US  2020-11-06 05:30:35  38.8974   \n",
       "11                   Florida             US  2020-11-06 05:30:35  27.7663   \n",
       "12                   Georgia             US  2020-11-06 05:30:35  33.0406   \n",
       "13            Grand Princess             US  2020-11-06 05:30:35      NaN   \n",
       "14                      Guam             US  2020-11-06 05:30:35  13.4443   \n",
       "15                    Hawaii             US  2020-11-06 05:30:35  21.0943   \n",
       "16                     Idaho             US  2020-11-06 05:30:35  44.2405   \n",
       "17                  Illinois             US  2020-11-06 05:30:35  40.3495   \n",
       "18                   Indiana             US  2020-11-06 05:30:35  39.8494   \n",
       "19                      Iowa             US  2020-11-06 05:30:35  42.0115   \n",
       "20                    Kansas             US  2020-11-06 05:30:35  38.5266   \n",
       "21                  Kentucky             US  2020-11-06 05:30:35  37.6681   \n",
       "22                 Louisiana             US  2020-11-06 05:30:35  31.1695   \n",
       "23                     Maine             US  2020-11-06 05:30:35  44.6939   \n",
       "24                  Maryland             US  2020-11-06 05:30:35  39.0639   \n",
       "25             Massachusetts             US  2020-11-06 05:30:35  42.2302   \n",
       "26                  Michigan             US  2020-11-06 05:30:35  43.3266   \n",
       "27                 Minnesota             US  2020-11-06 05:30:35  45.6945   \n",
       "28               Mississippi             US  2020-11-06 05:30:35  32.7416   \n",
       "29                  Missouri             US  2020-11-06 05:30:35  38.4561   \n",
       "30                   Montana             US  2020-11-06 05:30:35  46.9219   \n",
       "31                  Nebraska             US  2020-11-06 05:30:35  41.1254   \n",
       "32                    Nevada             US  2020-11-06 05:30:35  38.3135   \n",
       "33             New Hampshire             US  2020-11-06 05:30:35  43.4525   \n",
       "34                New Jersey             US  2020-11-06 05:30:35  40.2989   \n",
       "35                New Mexico             US  2020-11-06 05:30:35  34.8405   \n",
       "36                  New York             US  2020-11-06 05:30:35  42.1657   \n",
       "37            North Carolina             US  2020-11-06 05:30:35  35.6301   \n",
       "38              North Dakota             US  2020-11-06 05:30:35  47.5289   \n",
       "39  Northern Mariana Islands             US  2020-11-06 05:30:35  15.0979   \n",
       "40                      Ohio             US  2020-11-06 05:30:35  40.3888   \n",
       "41                  Oklahoma             US  2020-11-06 05:30:35  35.5653   \n",
       "42                    Oregon             US  2020-11-06 05:30:35  44.5720   \n",
       "43              Pennsylvania             US  2020-11-06 05:30:35  40.5908   \n",
       "44               Puerto Rico             US  2020-11-06 05:30:35  18.2208   \n",
       "45              Rhode Island             US  2020-11-06 05:30:35  41.6809   \n",
       "46            South Carolina             US  2020-11-06 05:30:35  33.8569   \n",
       "47              South Dakota             US  2020-11-06 05:30:35  44.2998   \n",
       "48                 Tennessee             US  2020-11-06 05:30:35  35.7478   \n",
       "49                     Texas             US  2020-11-06 05:30:35  31.0545   \n",
       "50                      Utah             US  2020-11-06 05:30:35  40.1500   \n",
       "51                   Vermont             US  2020-11-06 05:30:35  44.0459   \n",
       "52            Virgin Islands             US  2020-11-06 05:30:35  18.3358   \n",
       "53                  Virginia             US  2020-11-06 05:30:35  37.7693   \n",
       "54                Washington             US  2020-11-06 05:30:35  47.4009   \n",
       "55             West Virginia             US  2020-11-06 05:30:35  38.4912   \n",
       "56                 Wisconsin             US  2020-11-06 05:30:35  44.2685   \n",
       "57                   Wyoming             US  2020-11-06 05:30:35  42.7560   \n",
       "\n",
       "       Long_  Confirmed  Deaths  Recovered    Active     FIPS  Incident_Rate  \\\n",
       "0   -86.9023     199158    3026    84471.0  111661.0      1.0    4061.808804   \n",
       "1  -152.4044      18174      84     7125.0   10965.0      2.0    2484.331107   \n",
       "2  -170.1320          0       0        NaN       0.0     60.0       0.000000   \n",
       "3  -111.4312     252768    6087    42317.0  204364.0      4.0    3472.699928   \n",
       "4   -92.3731     117360    2037   104816.0   10507.0      5.0    3888.920553   \n",
       "5  -119.6816     956854   17860        NaN  938994.0      6.0    2421.665822   \n",
       "6  -105.3111     121006    2353     8268.0  110385.0      8.0    2101.259721   \n",
       "7   -72.7554      77060    4656     9800.0   62604.0      9.0    2161.396824   \n",
       "8   -75.5071      25753     716    13685.0   11352.0     10.0    2644.685981   \n",
       "9        NaN         49       0        NaN      49.0  88888.0            NaN   \n",
       "10  -77.0268      17682     650    13653.0    3379.0     11.0    2505.423316   \n",
       "11  -81.6868     827380   16961        NaN  810419.0     12.0    3852.268049   \n",
       "12  -83.6431     368368    8126        NaN  360242.0     13.0    3469.467120   \n",
       "13       NaN        103       3        NaN     100.0  99999.0            NaN   \n",
       "14  144.7937       5004      85     3352.0    1567.0     66.0    3046.964909   \n",
       "15 -157.4983      15572     219    11958.0    3395.0     15.0    1099.816933   \n",
       "16 -114.4788      69579     671    31210.0   37698.0     16.0    3893.478973   \n",
       "17  -88.9861     453738   10313        NaN  443425.0     17.0    3580.685049   \n",
       "18  -86.2583     196176    4511   128674.0   62991.0     18.0    2913.987201   \n",
       "19  -93.2105     142491    1814    98037.0   42640.0     19.0    4516.254790   \n",
       "20  -96.7265      90220    1079     2753.0   86388.0     20.0    3096.816890   \n",
       "21  -84.6701     115277    1534    20304.0   93439.0     21.0    2580.247032   \n",
       "22  -91.8678     185825    5995   172210.0    7620.0     22.0    3997.273271   \n",
       "23  -69.3819       7260     150     5751.0    1359.0     23.0     540.093378   \n",
       "24  -76.8021     149964    4182     8255.0  137527.0     24.0    2480.515012   \n",
       "25  -71.5301     165161   10085   131646.0   23430.0     25.0    2396.241249   \n",
       "26  -84.5361     218263    7833   121093.0   89337.0     26.0    2185.502406   \n",
       "27  -93.9002     164865    2609   137824.0   24432.0     27.0    2923.329040   \n",
       "28  -89.6787     123887    3405   105839.0   14643.0     28.0    4162.661211   \n",
       "29  -92.2884     200042    3117        NaN  196925.0     29.0    3259.378358   \n",
       "30 -110.4544      36968     407    23300.0   13261.0     30.0    3458.903533   \n",
       "31  -98.2681      78012     674    45772.0   31566.0     31.0    4032.861733   \n",
       "32 -117.0554     105360    1824     2511.0  101025.0     32.0    3420.605969   \n",
       "33  -71.5639      11808     486     9776.0    1546.0     33.0     868.419833   \n",
       "34  -74.5210     247219   16403    37696.0  193120.0     34.0    2783.311323   \n",
       "35 -106.2485      51110    1082    22274.0   27754.0     35.0    2437.490134   \n",
       "36  -74.9481     518812   33657    80225.0  404930.0     36.0    2666.925608   \n",
       "37  -79.8064     285661    4548   246318.0   34795.0     37.0    2723.671931   \n",
       "38  -99.7840      49837     596    40017.0    9224.0     38.0    6539.756608   \n",
       "39  145.6739         98       2       29.0      67.0     69.0     177.716524   \n",
       "40  -82.7649     235170    5461   178646.0   51063.0     39.0    2011.874310   \n",
       "41  -96.9289     129873    1413   111695.0   16765.0     40.0    3282.131711   \n",
       "42 -122.0709      47839     710     5870.0   41259.0     41.0    1134.233832   \n",
       "43  -77.2098     225698    8923   165424.0   51351.0     42.0    1762.991673   \n",
       "44  -66.5901      69416     855    31182.0   37379.0     72.0    2366.394310   \n",
       "45  -71.5118      35750    1222     2881.0   31647.0     44.0    3374.675866   \n",
       "46  -80.9450     181639    3992    94333.0   83314.0     45.0    3527.851809   \n",
       "47  -99.4388      51151     482    37059.0   13610.0     46.0    5782.001879   \n",
       "48  -86.6923     271771    3509   243492.0   24770.0     47.0    3979.558875   \n",
       "49  -97.5635     969490   18907   802611.0  147972.0     48.0    3343.543864   \n",
       "50 -111.8624     124292     632    89837.0   33823.0     49.0    3876.906684   \n",
       "51  -72.7107       2303      58     1888.0     357.0     50.0     369.077019   \n",
       "52  -64.8963       1388      23     1332.0      33.0     78.0    1293.955327   \n",
       "53  -78.1700     187202    3688    21289.0  162225.0     51.0    2193.211684   \n",
       "54 -121.4905     112550    2431        NaN  110119.0     53.0    1478.024708   \n",
       "55  -80.9545      26547     482    20175.0    5890.0     54.0    1481.295898   \n",
       "56  -89.6165     249924    2194   193369.0   54361.0     55.0    4292.431653   \n",
       "57 -107.3025      15409     105     9709.0    5595.0     56.0    2662.420800   \n",
       "\n",
       "    People_Tested  People_Hospitalized  Mortality_Rate       UID ISO3  \\\n",
       "0       1379107.0                  NaN        1.519397  84000001  USA   \n",
       "1        781826.0                  NaN        0.462199  84000002  USA   \n",
       "2          1768.0                  NaN             NaN        16  ASM   \n",
       "3       1826629.0                  NaN        2.408137  84000004  USA   \n",
       "4       1392905.0                  NaN        1.735685  84000005  USA   \n",
       "5      19266363.0                  NaN        1.866533  84000006  USA   \n",
       "6       2109114.0                  NaN        1.944532  84000008  USA   \n",
       "7       2433409.0                  NaN        6.042045  84000009  USA   \n",
       "8        573791.0                  NaN        2.780259  84000010  USA   \n",
       "9             NaN                  NaN        0.000000  84088888  USA   \n",
       "10       540502.0                  NaN        3.676055  84000011  USA   \n",
       "11     10328997.0                  NaN        2.049965  84000012  USA   \n",
       "12      3672160.0                  NaN        2.205946  84000013  USA   \n",
       "13            NaN                  NaN        2.912621  84099999  USA   \n",
       "14        70467.0                  NaN        1.698641       316  GUM   \n",
       "15       547333.0                  NaN        1.406370  84000015  USA   \n",
       "16       395676.0                  NaN        0.964371  84000016  USA   \n",
       "17      8122987.0                  NaN        2.272898  84000017  USA   \n",
       "18      3073855.0                  NaN        2.299466  84000018  USA   \n",
       "19       916404.0                  NaN        1.273063  84000019  USA   \n",
       "20       663680.0                  NaN        1.195965  84000020  USA   \n",
       "21      2009317.0                  NaN        1.330708  84000021  USA   \n",
       "22      2847666.0                  NaN        3.226154  84000022  USA   \n",
       "23       667850.0                  NaN        2.066116  84000023  USA   \n",
       "24      3552331.0                  NaN        2.788669  84000024  USA   \n",
       "25      6461311.0                  NaN        6.106163  84000025  USA   \n",
       "26      5154882.0                  NaN        3.588790  84000026  USA   \n",
       "27      2947153.0                  NaN        1.582507  84000027  USA   \n",
       "28       961095.0                  NaN        2.748472  84000028  USA   \n",
       "29      2624970.0                  NaN        1.558173  84000029  USA   \n",
       "30       520024.0                  NaN        1.100952  84000030  USA   \n",
       "31       987498.0                  NaN        0.863970  84000031  USA   \n",
       "32      1299121.0                  NaN        1.731207  84000032  USA   \n",
       "33       644591.0                  NaN        4.115854  84000033  USA   \n",
       "34      4818052.0                  NaN        6.635008  84000034  USA   \n",
       "35      1218805.0                  NaN        2.117003  84000035  USA   \n",
       "36     15195176.0                  NaN        6.487321  84000036  USA   \n",
       "37      4226942.0                  NaN        1.592097  84000037  USA   \n",
       "38       873345.0                  NaN        1.195899  84000038  USA   \n",
       "39        16089.0                  NaN        2.040816       580  MNP   \n",
       "40      4695806.0                  NaN        2.322150  84000039  USA   \n",
       "41      1673557.0                  NaN        1.087986  84000040  USA   \n",
       "42       889027.0                  NaN        1.484145  84000041  USA   \n",
       "43      2611902.0                  NaN        3.953513  84000042  USA   \n",
       "44       375388.0                  NaN        1.231705       630  PRI   \n",
       "45      1200751.0                  NaN        3.418182  84000044  USA   \n",
       "46      1873285.0                  NaN        2.197766  84000045  USA   \n",
       "47       269136.0                  NaN        0.942308  84000046  USA   \n",
       "48      3780132.0                  NaN        1.291161  84000047  USA   \n",
       "49      8483728.0                  NaN        1.950201  84000048  USA   \n",
       "50      1447849.0                  NaN        0.508480  84000049  USA   \n",
       "51       424422.0                  NaN        2.518454  84000050  USA   \n",
       "52        24904.0                  NaN        1.657061       850  VIR   \n",
       "53      2719206.0                  NaN        1.970064  84000051  USA   \n",
       "54      2519494.0                  NaN        2.159929  84000053  USA   \n",
       "55       817092.0                  NaN        1.815648  84000054  USA   \n",
       "56      3440030.0                  NaN        0.877867  84000055  USA   \n",
       "57       138213.0                  NaN        0.681420  84000056  USA   \n",
       "\n",
       "     Testing_Rate  Hospitalization_Rate  \n",
       "0    28126.758423                   NaN  \n",
       "1   106873.261385                   NaN  \n",
       "2     3177.512985                   NaN  \n",
       "3    25095.480426                   NaN  \n",
       "4    46156.244740                   NaN  \n",
       "5    48760.513930                   NaN  \n",
       "6    36624.599565                   NaN  \n",
       "7    68252.822283                   NaN  \n",
       "8    58925.057817                   NaN  \n",
       "9             NaN                   NaN  \n",
       "10   76585.584960                   NaN  \n",
       "11   48091.644851                   NaN  \n",
       "12   34586.170298                   NaN  \n",
       "13            NaN                   NaN  \n",
       "14   42907.769030                   NaN  \n",
       "15   38656.954866                   NaN  \n",
       "16   22141.108466                   NaN  \n",
       "17   64102.759974                   NaN  \n",
       "18   45658.868198                   NaN  \n",
       "19   29045.441147                   NaN  \n",
       "20   22780.929210                   NaN  \n",
       "21   44974.576250                   NaN  \n",
       "22   61256.016076                   NaN  \n",
       "23   49683.383276                   NaN  \n",
       "24   58758.171124                   NaN  \n",
       "25   93744.043347                   NaN  \n",
       "26   51616.659776                   NaN  \n",
       "27   52257.895551                   NaN  \n",
       "28   32293.242039                   NaN  \n",
       "29   42769.870376                   NaN  \n",
       "30   48655.941646                   NaN  \n",
       "31   51049.106497                   NaN  \n",
       "32   42177.117003                   NaN  \n",
       "33   47406.470934                   NaN  \n",
       "34   54243.964608                   NaN  \n",
       "35   58126.103750                   NaN  \n",
       "36   78109.997445                   NaN  \n",
       "37   40302.327861                   NaN  \n",
       "38  114602.880081                   NaN  \n",
       "39   29176.338314                   NaN  \n",
       "40   40172.519698                   NaN  \n",
       "41   42293.890959                   NaN  \n",
       "42   21078.293881                   NaN  \n",
       "43   20402.314047                   NaN  \n",
       "44   12796.992440                   NaN  \n",
       "45  113346.725054                   NaN  \n",
       "46   36383.551310                   NaN  \n",
       "47   30422.569600                   NaN  \n",
       "48   55352.697120                   NaN  \n",
       "49   29258.390183                   NaN  \n",
       "50   45161.196747                   NaN  \n",
       "51   68017.545181                   NaN  \n",
       "52   23216.616325                   NaN  \n",
       "53   31857.535552                   NaN  \n",
       "54   33086.400557                   NaN  \n",
       "55   45592.911742                   NaN  \n",
       "56   59082.335669                   NaN  \n",
       "57   23880.924530                   NaN  "
      ],
      "text/html": "<div>\n<style scoped>\n    .dataframe tbody tr th:only-of-type {\n        vertical-align: middle;\n    }\n\n    .dataframe tbody tr th {\n        vertical-align: top;\n    }\n\n    .dataframe thead th {\n        text-align: right;\n    }\n</style>\n<table border=\"1\" class=\"dataframe\">\n  <thead>\n    <tr style=\"text-align: right;\">\n      <th></th>\n      <th>Province_State</th>\n      <th>Country_Region</th>\n      <th>Last_Update</th>\n      <th>Lat</th>\n      <th>Long_</th>\n      <th>Confirmed</th>\n      <th>Deaths</th>\n      <th>Recovered</th>\n      <th>Active</th>\n      <th>FIPS</th>\n      <th>Incident_Rate</th>\n      <th>People_Tested</th>\n      <th>People_Hospitalized</th>\n      <th>Mortality_Rate</th>\n      <th>UID</th>\n      <th>ISO3</th>\n      <th>Testing_Rate</th>\n      <th>Hospitalization_Rate</th>\n    </tr>\n  </thead>\n  <tbody>\n    <tr>\n      <th>0</th>\n      <td>Alabama</td>\n      <td>US</td>\n      <td>2020-11-06 05:30:35</td>\n      <td>32.3182</td>\n      <td>-86.9023</td>\n      <td>199158</td>\n      <td>3026</td>\n      <td>84471.0</td>\n      <td>111661.0</td>\n      <td>1.0</td>\n      <td>4061.808804</td>\n      <td>1379107.0</td>\n      <td>NaN</td>\n      <td>1.519397</td>\n      <td>84000001</td>\n      <td>USA</td>\n      <td>28126.758423</td>\n      <td>NaN</td>\n    </tr>\n    <tr>\n      <th>1</th>\n      <td>Alaska</td>\n      <td>US</td>\n      <td>2020-11-06 05:30:35</td>\n      <td>61.3707</td>\n      <td>-152.4044</td>\n      <td>18174</td>\n      <td>84</td>\n      <td>7125.0</td>\n      <td>10965.0</td>\n      <td>2.0</td>\n      <td>2484.331107</td>\n      <td>781826.0</td>\n      <td>NaN</td>\n      <td>0.462199</td>\n      <td>84000002</td>\n      <td>USA</td>\n      <td>106873.261385</td>\n      <td>NaN</td>\n    </tr>\n    <tr>\n      <th>2</th>\n      <td>American Samoa</td>\n      <td>US</td>\n      <td>2020-11-06 05:30:35</td>\n      <td>-14.2710</td>\n      <td>-170.1320</td>\n      <td>0</td>\n      <td>0</td>\n      <td>NaN</td>\n      <td>0.0</td>\n      <td>60.0</td>\n      <td>0.000000</td>\n      <td>1768.0</td>\n      <td>NaN</td>\n      <td>NaN</td>\n      <td>16</td>\n      <td>ASM</td>\n      <td>3177.512985</td>\n      <td>NaN</td>\n    </tr>\n    <tr>\n      <th>3</th>\n      <td>Arizona</td>\n      <td>US</td>\n      <td>2020-11-06 05:30:35</td>\n      <td>33.7298</td>\n      <td>-111.4312</td>\n      <td>252768</td>\n      <td>6087</td>\n      <td>42317.0</td>\n      <td>204364.0</td>\n      <td>4.0</td>\n      <td>3472.699928</td>\n      <td>1826629.0</td>\n      <td>NaN</td>\n      <td>2.408137</td>\n      <td>84000004</td>\n      <td>USA</td>\n      <td>25095.480426</td>\n      <td>NaN</td>\n    </tr>\n    <tr>\n      <th>4</th>\n      <td>Arkansas</td>\n      <td>US</td>\n      <td>2020-11-06 05:30:35</td>\n      <td>34.9697</td>\n      <td>-92.3731</td>\n      <td>117360</td>\n      <td>2037</td>\n      <td>104816.0</td>\n      <td>10507.0</td>\n      <td>5.0</td>\n      <td>3888.920553</td>\n      <td>1392905.0</td>\n      <td>NaN</td>\n      <td>1.735685</td>\n      <td>84000005</td>\n      <td>USA</td>\n      <td>46156.244740</td>\n      <td>NaN</td>\n    </tr>\n    <tr>\n      <th>5</th>\n      <td>California</td>\n      <td>US</td>\n      <td>2020-11-06 05:30:35</td>\n      <td>36.1162</td>\n      <td>-119.6816</td>\n      <td>956854</td>\n      <td>17860</td>\n      <td>NaN</td>\n      <td>938994.0</td>\n      <td>6.0</td>\n      <td>2421.665822</td>\n      <td>19266363.0</td>\n      <td>NaN</td>\n      <td>1.866533</td>\n      <td>84000006</td>\n      <td>USA</td>\n      <td>48760.513930</td>\n      <td>NaN</td>\n    </tr>\n    <tr>\n      <th>6</th>\n      <td>Colorado</td>\n      <td>US</td>\n      <td>2020-11-06 05:30:35</td>\n      <td>39.0598</td>\n      <td>-105.3111</td>\n      <td>121006</td>\n      <td>2353</td>\n      <td>8268.0</td>\n      <td>110385.0</td>\n      <td>8.0</td>\n      <td>2101.259721</td>\n      <td>2109114.0</td>\n      <td>NaN</td>\n      <td>1.944532</td>\n      <td>84000008</td>\n      <td>USA</td>\n      <td>36624.599565</td>\n      <td>NaN</td>\n    </tr>\n    <tr>\n      <th>7</th>\n      <td>Connecticut</td>\n      <td>US</td>\n      <td>2020-11-06 05:30:35</td>\n      <td>41.5978</td>\n      <td>-72.7554</td>\n      <td>77060</td>\n      <td>4656</td>\n      <td>9800.0</td>\n      <td>62604.0</td>\n      <td>9.0</td>\n      <td>2161.396824</td>\n      <td>2433409.0</td>\n      <td>NaN</td>\n      <td>6.042045</td>\n      <td>84000009</td>\n      <td>USA</td>\n      <td>68252.822283</td>\n      <td>NaN</td>\n    </tr>\n    <tr>\n      <th>8</th>\n      <td>Delaware</td>\n      <td>US</td>\n      <td>2020-11-06 05:30:35</td>\n      <td>39.3185</td>\n      <td>-75.5071</td>\n      <td>25753</td>\n      <td>716</td>\n      <td>13685.0</td>\n      <td>11352.0</td>\n      <td>10.0</td>\n      <td>2644.685981</td>\n      <td>573791.0</td>\n      <td>NaN</td>\n      <td>2.780259</td>\n      <td>84000010</td>\n      <td>USA</td>\n      <td>58925.057817</td>\n      <td>NaN</td>\n    </tr>\n    <tr>\n      <th>9</th>\n      <td>Diamond Princess</td>\n      <td>US</td>\n      <td>2020-11-06 05:30:35</td>\n      <td>NaN</td>\n      <td>NaN</td>\n      <td>49</td>\n      <td>0</td>\n      <td>NaN</td>\n      <td>49.0</td>\n      <td>88888.0</td>\n      <td>NaN</td>\n      <td>NaN</td>\n      <td>NaN</td>\n      <td>0.000000</td>\n      <td>84088888</td>\n      <td>USA</td>\n      <td>NaN</td>\n      <td>NaN</td>\n    </tr>\n    <tr>\n      <th>10</th>\n      <td>District of Columbia</td>\n      <td>US</td>\n      <td>2020-11-06 05:30:35</td>\n      <td>38.8974</td>\n      <td>-77.0268</td>\n      <td>17682</td>\n      <td>650</td>\n      <td>13653.0</td>\n      <td>3379.0</td>\n      <td>11.0</td>\n      <td>2505.423316</td>\n      <td>540502.0</td>\n      <td>NaN</td>\n      <td>3.676055</td>\n      <td>84000011</td>\n      <td>USA</td>\n      <td>76585.584960</td>\n      <td>NaN</td>\n    </tr>\n    <tr>\n      <th>11</th>\n      <td>Florida</td>\n      <td>US</td>\n      <td>2020-11-06 05:30:35</td>\n      <td>27.7663</td>\n      <td>-81.6868</td>\n      <td>827380</td>\n      <td>16961</td>\n      <td>NaN</td>\n      <td>810419.0</td>\n      <td>12.0</td>\n      <td>3852.268049</td>\n      <td>10328997.0</td>\n      <td>NaN</td>\n      <td>2.049965</td>\n      <td>84000012</td>\n      <td>USA</td>\n      <td>48091.644851</td>\n      <td>NaN</td>\n    </tr>\n    <tr>\n      <th>12</th>\n      <td>Georgia</td>\n      <td>US</td>\n      <td>2020-11-06 05:30:35</td>\n      <td>33.0406</td>\n      <td>-83.6431</td>\n      <td>368368</td>\n      <td>8126</td>\n      <td>NaN</td>\n      <td>360242.0</td>\n      <td>13.0</td>\n      <td>3469.467120</td>\n      <td>3672160.0</td>\n      <td>NaN</td>\n      <td>2.205946</td>\n      <td>84000013</td>\n      <td>USA</td>\n      <td>34586.170298</td>\n      <td>NaN</td>\n    </tr>\n    <tr>\n      <th>13</th>\n      <td>Grand Princess</td>\n      <td>US</td>\n      <td>2020-11-06 05:30:35</td>\n      <td>NaN</td>\n      <td>NaN</td>\n      <td>103</td>\n      <td>3</td>\n      <td>NaN</td>\n      <td>100.0</td>\n      <td>99999.0</td>\n      <td>NaN</td>\n      <td>NaN</td>\n      <td>NaN</td>\n      <td>2.912621</td>\n      <td>84099999</td>\n      <td>USA</td>\n      <td>NaN</td>\n      <td>NaN</td>\n    </tr>\n    <tr>\n      <th>14</th>\n      <td>Guam</td>\n      <td>US</td>\n      <td>2020-11-06 05:30:35</td>\n      <td>13.4443</td>\n      <td>144.7937</td>\n      <td>5004</td>\n      <td>85</td>\n      <td>3352.0</td>\n      <td>1567.0</td>\n      <td>66.0</td>\n      <td>3046.964909</td>\n      <td>70467.0</td>\n      <td>NaN</td>\n      <td>1.698641</td>\n      <td>316</td>\n      <td>GUM</td>\n      <td>42907.769030</td>\n      <td>NaN</td>\n    </tr>\n    <tr>\n      <th>15</th>\n      <td>Hawaii</td>\n      <td>US</td>\n      <td>2020-11-06 05:30:35</td>\n      <td>21.0943</td>\n      <td>-157.4983</td>\n      <td>15572</td>\n      <td>219</td>\n      <td>11958.0</td>\n      <td>3395.0</td>\n      <td>15.0</td>\n      <td>1099.816933</td>\n      <td>547333.0</td>\n      <td>NaN</td>\n      <td>1.406370</td>\n      <td>84000015</td>\n      <td>USA</td>\n      <td>38656.954866</td>\n      <td>NaN</td>\n    </tr>\n    <tr>\n      <th>16</th>\n      <td>Idaho</td>\n      <td>US</td>\n      <td>2020-11-06 05:30:35</td>\n      <td>44.2405</td>\n      <td>-114.4788</td>\n      <td>69579</td>\n      <td>671</td>\n      <td>31210.0</td>\n      <td>37698.0</td>\n      <td>16.0</td>\n      <td>3893.478973</td>\n      <td>395676.0</td>\n      <td>NaN</td>\n      <td>0.964371</td>\n      <td>84000016</td>\n      <td>USA</td>\n      <td>22141.108466</td>\n      <td>NaN</td>\n    </tr>\n    <tr>\n      <th>17</th>\n      <td>Illinois</td>\n      <td>US</td>\n      <td>2020-11-06 05:30:35</td>\n      <td>40.3495</td>\n      <td>-88.9861</td>\n      <td>453738</td>\n      <td>10313</td>\n      <td>NaN</td>\n      <td>443425.0</td>\n      <td>17.0</td>\n      <td>3580.685049</td>\n      <td>8122987.0</td>\n      <td>NaN</td>\n      <td>2.272898</td>\n      <td>84000017</td>\n      <td>USA</td>\n      <td>64102.759974</td>\n      <td>NaN</td>\n    </tr>\n    <tr>\n      <th>18</th>\n      <td>Indiana</td>\n      <td>US</td>\n      <td>2020-11-06 05:30:35</td>\n      <td>39.8494</td>\n      <td>-86.2583</td>\n      <td>196176</td>\n      <td>4511</td>\n      <td>128674.0</td>\n      <td>62991.0</td>\n      <td>18.0</td>\n      <td>2913.987201</td>\n      <td>3073855.0</td>\n      <td>NaN</td>\n      <td>2.299466</td>\n      <td>84000018</td>\n      <td>USA</td>\n      <td>45658.868198</td>\n      <td>NaN</td>\n    </tr>\n    <tr>\n      <th>19</th>\n      <td>Iowa</td>\n      <td>US</td>\n      <td>2020-11-06 05:30:35</td>\n      <td>42.0115</td>\n      <td>-93.2105</td>\n      <td>142491</td>\n      <td>1814</td>\n      <td>98037.0</td>\n      <td>42640.0</td>\n      <td>19.0</td>\n      <td>4516.254790</td>\n      <td>916404.0</td>\n      <td>NaN</td>\n      <td>1.273063</td>\n      <td>84000019</td>\n      <td>USA</td>\n      <td>29045.441147</td>\n      <td>NaN</td>\n    </tr>\n    <tr>\n      <th>20</th>\n      <td>Kansas</td>\n      <td>US</td>\n      <td>2020-11-06 05:30:35</td>\n      <td>38.5266</td>\n      <td>-96.7265</td>\n      <td>90220</td>\n      <td>1079</td>\n      <td>2753.0</td>\n      <td>86388.0</td>\n      <td>20.0</td>\n      <td>3096.816890</td>\n      <td>663680.0</td>\n      <td>NaN</td>\n      <td>1.195965</td>\n      <td>84000020</td>\n      <td>USA</td>\n      <td>22780.929210</td>\n      <td>NaN</td>\n    </tr>\n    <tr>\n      <th>21</th>\n      <td>Kentucky</td>\n      <td>US</td>\n      <td>2020-11-06 05:30:35</td>\n      <td>37.6681</td>\n      <td>-84.6701</td>\n      <td>115277</td>\n      <td>1534</td>\n      <td>20304.0</td>\n      <td>93439.0</td>\n      <td>21.0</td>\n      <td>2580.247032</td>\n      <td>2009317.0</td>\n      <td>NaN</td>\n      <td>1.330708</td>\n      <td>84000021</td>\n      <td>USA</td>\n      <td>44974.576250</td>\n      <td>NaN</td>\n    </tr>\n    <tr>\n      <th>22</th>\n      <td>Louisiana</td>\n      <td>US</td>\n      <td>2020-11-06 05:30:35</td>\n      <td>31.1695</td>\n      <td>-91.8678</td>\n      <td>185825</td>\n      <td>5995</td>\n      <td>172210.0</td>\n      <td>7620.0</td>\n      <td>22.0</td>\n      <td>3997.273271</td>\n      <td>2847666.0</td>\n      <td>NaN</td>\n      <td>3.226154</td>\n      <td>84000022</td>\n      <td>USA</td>\n      <td>61256.016076</td>\n      <td>NaN</td>\n    </tr>\n    <tr>\n      <th>23</th>\n      <td>Maine</td>\n      <td>US</td>\n      <td>2020-11-06 05:30:35</td>\n      <td>44.6939</td>\n      <td>-69.3819</td>\n      <td>7260</td>\n      <td>150</td>\n      <td>5751.0</td>\n      <td>1359.0</td>\n      <td>23.0</td>\n      <td>540.093378</td>\n      <td>667850.0</td>\n      <td>NaN</td>\n      <td>2.066116</td>\n      <td>84000023</td>\n      <td>USA</td>\n      <td>49683.383276</td>\n      <td>NaN</td>\n    </tr>\n    <tr>\n      <th>24</th>\n      <td>Maryland</td>\n      <td>US</td>\n      <td>2020-11-06 05:30:35</td>\n      <td>39.0639</td>\n      <td>-76.8021</td>\n      <td>149964</td>\n      <td>4182</td>\n      <td>8255.0</td>\n      <td>137527.0</td>\n      <td>24.0</td>\n      <td>2480.515012</td>\n      <td>3552331.0</td>\n      <td>NaN</td>\n      <td>2.788669</td>\n      <td>84000024</td>\n      <td>USA</td>\n      <td>58758.171124</td>\n      <td>NaN</td>\n    </tr>\n    <tr>\n      <th>25</th>\n      <td>Massachusetts</td>\n      <td>US</td>\n      <td>2020-11-06 05:30:35</td>\n      <td>42.2302</td>\n      <td>-71.5301</td>\n      <td>165161</td>\n      <td>10085</td>\n      <td>131646.0</td>\n      <td>23430.0</td>\n      <td>25.0</td>\n      <td>2396.241249</td>\n      <td>6461311.0</td>\n      <td>NaN</td>\n      <td>6.106163</td>\n      <td>84000025</td>\n      <td>USA</td>\n      <td>93744.043347</td>\n      <td>NaN</td>\n    </tr>\n    <tr>\n      <th>26</th>\n      <td>Michigan</td>\n      <td>US</td>\n      <td>2020-11-06 05:30:35</td>\n      <td>43.3266</td>\n      <td>-84.5361</td>\n      <td>218263</td>\n      <td>7833</td>\n      <td>121093.0</td>\n      <td>89337.0</td>\n      <td>26.0</td>\n      <td>2185.502406</td>\n      <td>5154882.0</td>\n      <td>NaN</td>\n      <td>3.588790</td>\n      <td>84000026</td>\n      <td>USA</td>\n      <td>51616.659776</td>\n      <td>NaN</td>\n    </tr>\n    <tr>\n      <th>27</th>\n      <td>Minnesota</td>\n      <td>US</td>\n      <td>2020-11-06 05:30:35</td>\n      <td>45.6945</td>\n      <td>-93.9002</td>\n      <td>164865</td>\n      <td>2609</td>\n      <td>137824.0</td>\n      <td>24432.0</td>\n      <td>27.0</td>\n      <td>2923.329040</td>\n      <td>2947153.0</td>\n      <td>NaN</td>\n      <td>1.582507</td>\n      <td>84000027</td>\n      <td>USA</td>\n      <td>52257.895551</td>\n      <td>NaN</td>\n    </tr>\n    <tr>\n      <th>28</th>\n      <td>Mississippi</td>\n      <td>US</td>\n      <td>2020-11-06 05:30:35</td>\n      <td>32.7416</td>\n      <td>-89.6787</td>\n      <td>123887</td>\n      <td>3405</td>\n      <td>105839.0</td>\n      <td>14643.0</td>\n      <td>28.0</td>\n      <td>4162.661211</td>\n      <td>961095.0</td>\n      <td>NaN</td>\n      <td>2.748472</td>\n      <td>84000028</td>\n      <td>USA</td>\n      <td>32293.242039</td>\n      <td>NaN</td>\n    </tr>\n    <tr>\n      <th>29</th>\n      <td>Missouri</td>\n      <td>US</td>\n      <td>2020-11-06 05:30:35</td>\n      <td>38.4561</td>\n      <td>-92.2884</td>\n      <td>200042</td>\n      <td>3117</td>\n      <td>NaN</td>\n      <td>196925.0</td>\n      <td>29.0</td>\n      <td>3259.378358</td>\n      <td>2624970.0</td>\n      <td>NaN</td>\n      <td>1.558173</td>\n      <td>84000029</td>\n      <td>USA</td>\n      <td>42769.870376</td>\n      <td>NaN</td>\n    </tr>\n    <tr>\n      <th>30</th>\n      <td>Montana</td>\n      <td>US</td>\n      <td>2020-11-06 05:30:35</td>\n      <td>46.9219</td>\n      <td>-110.4544</td>\n      <td>36968</td>\n      <td>407</td>\n      <td>23300.0</td>\n      <td>13261.0</td>\n      <td>30.0</td>\n      <td>3458.903533</td>\n      <td>520024.0</td>\n      <td>NaN</td>\n      <td>1.100952</td>\n      <td>84000030</td>\n      <td>USA</td>\n      <td>48655.941646</td>\n      <td>NaN</td>\n    </tr>\n    <tr>\n      <th>31</th>\n      <td>Nebraska</td>\n      <td>US</td>\n      <td>2020-11-06 05:30:35</td>\n      <td>41.1254</td>\n      <td>-98.2681</td>\n      <td>78012</td>\n      <td>674</td>\n      <td>45772.0</td>\n      <td>31566.0</td>\n      <td>31.0</td>\n      <td>4032.861733</td>\n      <td>987498.0</td>\n      <td>NaN</td>\n      <td>0.863970</td>\n      <td>84000031</td>\n      <td>USA</td>\n      <td>51049.106497</td>\n      <td>NaN</td>\n    </tr>\n    <tr>\n      <th>32</th>\n      <td>Nevada</td>\n      <td>US</td>\n      <td>2020-11-06 05:30:35</td>\n      <td>38.3135</td>\n      <td>-117.0554</td>\n      <td>105360</td>\n      <td>1824</td>\n      <td>2511.0</td>\n      <td>101025.0</td>\n      <td>32.0</td>\n      <td>3420.605969</td>\n      <td>1299121.0</td>\n      <td>NaN</td>\n      <td>1.731207</td>\n      <td>84000032</td>\n      <td>USA</td>\n      <td>42177.117003</td>\n      <td>NaN</td>\n    </tr>\n    <tr>\n      <th>33</th>\n      <td>New Hampshire</td>\n      <td>US</td>\n      <td>2020-11-06 05:30:35</td>\n      <td>43.4525</td>\n      <td>-71.5639</td>\n      <td>11808</td>\n      <td>486</td>\n      <td>9776.0</td>\n      <td>1546.0</td>\n      <td>33.0</td>\n      <td>868.419833</td>\n      <td>644591.0</td>\n      <td>NaN</td>\n      <td>4.115854</td>\n      <td>84000033</td>\n      <td>USA</td>\n      <td>47406.470934</td>\n      <td>NaN</td>\n    </tr>\n    <tr>\n      <th>34</th>\n      <td>New Jersey</td>\n      <td>US</td>\n      <td>2020-11-06 05:30:35</td>\n      <td>40.2989</td>\n      <td>-74.5210</td>\n      <td>247219</td>\n      <td>16403</td>\n      <td>37696.0</td>\n      <td>193120.0</td>\n      <td>34.0</td>\n      <td>2783.311323</td>\n      <td>4818052.0</td>\n      <td>NaN</td>\n      <td>6.635008</td>\n      <td>84000034</td>\n      <td>USA</td>\n      <td>54243.964608</td>\n      <td>NaN</td>\n    </tr>\n    <tr>\n      <th>35</th>\n      <td>New Mexico</td>\n      <td>US</td>\n      <td>2020-11-06 05:30:35</td>\n      <td>34.8405</td>\n      <td>-106.2485</td>\n      <td>51110</td>\n      <td>1082</td>\n      <td>22274.0</td>\n      <td>27754.0</td>\n      <td>35.0</td>\n      <td>2437.490134</td>\n      <td>1218805.0</td>\n      <td>NaN</td>\n      <td>2.117003</td>\n      <td>84000035</td>\n      <td>USA</td>\n      <td>58126.103750</td>\n      <td>NaN</td>\n    </tr>\n    <tr>\n      <th>36</th>\n      <td>New York</td>\n      <td>US</td>\n      <td>2020-11-06 05:30:35</td>\n      <td>42.1657</td>\n      <td>-74.9481</td>\n      <td>518812</td>\n      <td>33657</td>\n      <td>80225.0</td>\n      <td>404930.0</td>\n      <td>36.0</td>\n      <td>2666.925608</td>\n      <td>15195176.0</td>\n      <td>NaN</td>\n      <td>6.487321</td>\n      <td>84000036</td>\n      <td>USA</td>\n      <td>78109.997445</td>\n      <td>NaN</td>\n    </tr>\n    <tr>\n      <th>37</th>\n      <td>North Carolina</td>\n      <td>US</td>\n      <td>2020-11-06 05:30:35</td>\n      <td>35.6301</td>\n      <td>-79.8064</td>\n      <td>285661</td>\n      <td>4548</td>\n      <td>246318.0</td>\n      <td>34795.0</td>\n      <td>37.0</td>\n      <td>2723.671931</td>\n      <td>4226942.0</td>\n      <td>NaN</td>\n      <td>1.592097</td>\n      <td>84000037</td>\n      <td>USA</td>\n      <td>40302.327861</td>\n      <td>NaN</td>\n    </tr>\n    <tr>\n      <th>38</th>\n      <td>North Dakota</td>\n      <td>US</td>\n      <td>2020-11-06 05:30:35</td>\n      <td>47.5289</td>\n      <td>-99.7840</td>\n      <td>49837</td>\n      <td>596</td>\n      <td>40017.0</td>\n      <td>9224.0</td>\n      <td>38.0</td>\n      <td>6539.756608</td>\n      <td>873345.0</td>\n      <td>NaN</td>\n      <td>1.195899</td>\n      <td>84000038</td>\n      <td>USA</td>\n      <td>114602.880081</td>\n      <td>NaN</td>\n    </tr>\n    <tr>\n      <th>39</th>\n      <td>Northern Mariana Islands</td>\n      <td>US</td>\n      <td>2020-11-06 05:30:35</td>\n      <td>15.0979</td>\n      <td>145.6739</td>\n      <td>98</td>\n      <td>2</td>\n      <td>29.0</td>\n      <td>67.0</td>\n      <td>69.0</td>\n      <td>177.716524</td>\n      <td>16089.0</td>\n      <td>NaN</td>\n      <td>2.040816</td>\n      <td>580</td>\n      <td>MNP</td>\n      <td>29176.338314</td>\n      <td>NaN</td>\n    </tr>\n    <tr>\n      <th>40</th>\n      <td>Ohio</td>\n      <td>US</td>\n      <td>2020-11-06 05:30:35</td>\n      <td>40.3888</td>\n      <td>-82.7649</td>\n      <td>235170</td>\n      <td>5461</td>\n      <td>178646.0</td>\n      <td>51063.0</td>\n      <td>39.0</td>\n      <td>2011.874310</td>\n      <td>4695806.0</td>\n      <td>NaN</td>\n      <td>2.322150</td>\n      <td>84000039</td>\n      <td>USA</td>\n      <td>40172.519698</td>\n      <td>NaN</td>\n    </tr>\n    <tr>\n      <th>41</th>\n      <td>Oklahoma</td>\n      <td>US</td>\n      <td>2020-11-06 05:30:35</td>\n      <td>35.5653</td>\n      <td>-96.9289</td>\n      <td>129873</td>\n      <td>1413</td>\n      <td>111695.0</td>\n      <td>16765.0</td>\n      <td>40.0</td>\n      <td>3282.131711</td>\n      <td>1673557.0</td>\n      <td>NaN</td>\n      <td>1.087986</td>\n      <td>84000040</td>\n      <td>USA</td>\n      <td>42293.890959</td>\n      <td>NaN</td>\n    </tr>\n    <tr>\n      <th>42</th>\n      <td>Oregon</td>\n      <td>US</td>\n      <td>2020-11-06 05:30:35</td>\n      <td>44.5720</td>\n      <td>-122.0709</td>\n      <td>47839</td>\n      <td>710</td>\n      <td>5870.0</td>\n      <td>41259.0</td>\n      <td>41.0</td>\n      <td>1134.233832</td>\n      <td>889027.0</td>\n      <td>NaN</td>\n      <td>1.484145</td>\n      <td>84000041</td>\n      <td>USA</td>\n      <td>21078.293881</td>\n      <td>NaN</td>\n    </tr>\n    <tr>\n      <th>43</th>\n      <td>Pennsylvania</td>\n      <td>US</td>\n      <td>2020-11-06 05:30:35</td>\n      <td>40.5908</td>\n      <td>-77.2098</td>\n      <td>225698</td>\n      <td>8923</td>\n      <td>165424.0</td>\n      <td>51351.0</td>\n      <td>42.0</td>\n      <td>1762.991673</td>\n      <td>2611902.0</td>\n      <td>NaN</td>\n      <td>3.953513</td>\n      <td>84000042</td>\n      <td>USA</td>\n      <td>20402.314047</td>\n      <td>NaN</td>\n    </tr>\n    <tr>\n      <th>44</th>\n      <td>Puerto Rico</td>\n      <td>US</td>\n      <td>2020-11-06 05:30:35</td>\n      <td>18.2208</td>\n      <td>-66.5901</td>\n      <td>69416</td>\n      <td>855</td>\n      <td>31182.0</td>\n      <td>37379.0</td>\n      <td>72.0</td>\n      <td>2366.394310</td>\n      <td>375388.0</td>\n      <td>NaN</td>\n      <td>1.231705</td>\n      <td>630</td>\n      <td>PRI</td>\n      <td>12796.992440</td>\n      <td>NaN</td>\n    </tr>\n    <tr>\n      <th>45</th>\n      <td>Rhode Island</td>\n      <td>US</td>\n      <td>2020-11-06 05:30:35</td>\n      <td>41.6809</td>\n      <td>-71.5118</td>\n      <td>35750</td>\n      <td>1222</td>\n      <td>2881.0</td>\n      <td>31647.0</td>\n      <td>44.0</td>\n      <td>3374.675866</td>\n      <td>1200751.0</td>\n      <td>NaN</td>\n      <td>3.418182</td>\n      <td>84000044</td>\n      <td>USA</td>\n      <td>113346.725054</td>\n      <td>NaN</td>\n    </tr>\n    <tr>\n      <th>46</th>\n      <td>South Carolina</td>\n      <td>US</td>\n      <td>2020-11-06 05:30:35</td>\n      <td>33.8569</td>\n      <td>-80.9450</td>\n      <td>181639</td>\n      <td>3992</td>\n      <td>94333.0</td>\n      <td>83314.0</td>\n      <td>45.0</td>\n      <td>3527.851809</td>\n      <td>1873285.0</td>\n      <td>NaN</td>\n      <td>2.197766</td>\n      <td>84000045</td>\n      <td>USA</td>\n      <td>36383.551310</td>\n      <td>NaN</td>\n    </tr>\n    <tr>\n      <th>47</th>\n      <td>South Dakota</td>\n      <td>US</td>\n      <td>2020-11-06 05:30:35</td>\n      <td>44.2998</td>\n      <td>-99.4388</td>\n      <td>51151</td>\n      <td>482</td>\n      <td>37059.0</td>\n      <td>13610.0</td>\n      <td>46.0</td>\n      <td>5782.001879</td>\n      <td>269136.0</td>\n      <td>NaN</td>\n      <td>0.942308</td>\n      <td>84000046</td>\n      <td>USA</td>\n      <td>30422.569600</td>\n      <td>NaN</td>\n    </tr>\n    <tr>\n      <th>48</th>\n      <td>Tennessee</td>\n      <td>US</td>\n      <td>2020-11-06 05:30:35</td>\n      <td>35.7478</td>\n      <td>-86.6923</td>\n      <td>271771</td>\n      <td>3509</td>\n      <td>243492.0</td>\n      <td>24770.0</td>\n      <td>47.0</td>\n      <td>3979.558875</td>\n      <td>3780132.0</td>\n      <td>NaN</td>\n      <td>1.291161</td>\n      <td>84000047</td>\n      <td>USA</td>\n      <td>55352.697120</td>\n      <td>NaN</td>\n    </tr>\n    <tr>\n      <th>49</th>\n      <td>Texas</td>\n      <td>US</td>\n      <td>2020-11-06 05:30:35</td>\n      <td>31.0545</td>\n      <td>-97.5635</td>\n      <td>969490</td>\n      <td>18907</td>\n      <td>802611.0</td>\n      <td>147972.0</td>\n      <td>48.0</td>\n      <td>3343.543864</td>\n      <td>8483728.0</td>\n      <td>NaN</td>\n      <td>1.950201</td>\n      <td>84000048</td>\n      <td>USA</td>\n      <td>29258.390183</td>\n      <td>NaN</td>\n    </tr>\n    <tr>\n      <th>50</th>\n      <td>Utah</td>\n      <td>US</td>\n      <td>2020-11-06 05:30:35</td>\n      <td>40.1500</td>\n      <td>-111.8624</td>\n      <td>124292</td>\n      <td>632</td>\n      <td>89837.0</td>\n      <td>33823.0</td>\n      <td>49.0</td>\n      <td>3876.906684</td>\n      <td>1447849.0</td>\n      <td>NaN</td>\n      <td>0.508480</td>\n      <td>84000049</td>\n      <td>USA</td>\n      <td>45161.196747</td>\n      <td>NaN</td>\n    </tr>\n    <tr>\n      <th>51</th>\n      <td>Vermont</td>\n      <td>US</td>\n      <td>2020-11-06 05:30:35</td>\n      <td>44.0459</td>\n      <td>-72.7107</td>\n      <td>2303</td>\n      <td>58</td>\n      <td>1888.0</td>\n      <td>357.0</td>\n      <td>50.0</td>\n      <td>369.077019</td>\n      <td>424422.0</td>\n      <td>NaN</td>\n      <td>2.518454</td>\n      <td>84000050</td>\n      <td>USA</td>\n      <td>68017.545181</td>\n      <td>NaN</td>\n    </tr>\n    <tr>\n      <th>52</th>\n      <td>Virgin Islands</td>\n      <td>US</td>\n      <td>2020-11-06 05:30:35</td>\n      <td>18.3358</td>\n      <td>-64.8963</td>\n      <td>1388</td>\n      <td>23</td>\n      <td>1332.0</td>\n      <td>33.0</td>\n      <td>78.0</td>\n      <td>1293.955327</td>\n      <td>24904.0</td>\n      <td>NaN</td>\n      <td>1.657061</td>\n      <td>850</td>\n      <td>VIR</td>\n      <td>23216.616325</td>\n      <td>NaN</td>\n    </tr>\n    <tr>\n      <th>53</th>\n      <td>Virginia</td>\n      <td>US</td>\n      <td>2020-11-06 05:30:35</td>\n      <td>37.7693</td>\n      <td>-78.1700</td>\n      <td>187202</td>\n      <td>3688</td>\n      <td>21289.0</td>\n      <td>162225.0</td>\n      <td>51.0</td>\n      <td>2193.211684</td>\n      <td>2719206.0</td>\n      <td>NaN</td>\n      <td>1.970064</td>\n      <td>84000051</td>\n      <td>USA</td>\n      <td>31857.535552</td>\n      <td>NaN</td>\n    </tr>\n    <tr>\n      <th>54</th>\n      <td>Washington</td>\n      <td>US</td>\n      <td>2020-11-06 05:30:35</td>\n      <td>47.4009</td>\n      <td>-121.4905</td>\n      <td>112550</td>\n      <td>2431</td>\n      <td>NaN</td>\n      <td>110119.0</td>\n      <td>53.0</td>\n      <td>1478.024708</td>\n      <td>2519494.0</td>\n      <td>NaN</td>\n      <td>2.159929</td>\n      <td>84000053</td>\n      <td>USA</td>\n      <td>33086.400557</td>\n      <td>NaN</td>\n    </tr>\n    <tr>\n      <th>55</th>\n      <td>West Virginia</td>\n      <td>US</td>\n      <td>2020-11-06 05:30:35</td>\n      <td>38.4912</td>\n      <td>-80.9545</td>\n      <td>26547</td>\n      <td>482</td>\n      <td>20175.0</td>\n      <td>5890.0</td>\n      <td>54.0</td>\n      <td>1481.295898</td>\n      <td>817092.0</td>\n      <td>NaN</td>\n      <td>1.815648</td>\n      <td>84000054</td>\n      <td>USA</td>\n      <td>45592.911742</td>\n      <td>NaN</td>\n    </tr>\n    <tr>\n      <th>56</th>\n      <td>Wisconsin</td>\n      <td>US</td>\n      <td>2020-11-06 05:30:35</td>\n      <td>44.2685</td>\n      <td>-89.6165</td>\n      <td>249924</td>\n      <td>2194</td>\n      <td>193369.0</td>\n      <td>54361.0</td>\n      <td>55.0</td>\n      <td>4292.431653</td>\n      <td>3440030.0</td>\n      <td>NaN</td>\n      <td>0.877867</td>\n      <td>84000055</td>\n      <td>USA</td>\n      <td>59082.335669</td>\n      <td>NaN</td>\n    </tr>\n    <tr>\n      <th>57</th>\n      <td>Wyoming</td>\n      <td>US</td>\n      <td>2020-11-06 05:30:35</td>\n      <td>42.7560</td>\n      <td>-107.3025</td>\n      <td>15409</td>\n      <td>105</td>\n      <td>9709.0</td>\n      <td>5595.0</td>\n      <td>56.0</td>\n      <td>2662.420800</td>\n      <td>138213.0</td>\n      <td>NaN</td>\n      <td>0.681420</td>\n      <td>84000056</td>\n      <td>USA</td>\n      <td>23880.924530</td>\n      <td>NaN</td>\n    </tr>\n  </tbody>\n</table>\n</div>"
     },
     "metadata": {},
     "execution_count": 52
    }
   ],
   "source": [
    "# upload file and read to pandas dataframe\n",
    "file = \"../Data/US_COVID-19_stats.csv\"\n",
    "us_covid_df = pd.read_csv(file)\n",
    "us_covid_df"
   ]
  },
  {
   "cell_type": "code",
   "execution_count": 46,
   "metadata": {},
   "outputs": [
    {
     "output_type": "execute_result",
     "data": {
      "text/plain": [
       "   Province_State      Lat     Long_  Confirmed  Deaths  Recovered  \\\n",
       "0         Alabama  32.3182  -86.9023     199158    3026    84471.0   \n",
       "1          Alaska  61.3707 -152.4044      18174      84     7125.0   \n",
       "2  American Samoa -14.2710 -170.1320          0       0        NaN   \n",
       "3         Arizona  33.7298 -111.4312     252768    6087    42317.0   \n",
       "4        Arkansas  34.9697  -92.3731     117360    2037   104816.0   \n",
       "\n",
       "   Mortality_Rate  \n",
       "0        1.519397  \n",
       "1        0.462199  \n",
       "2             NaN  \n",
       "3        2.408137  \n",
       "4        1.735685  "
      ],
      "text/html": "<div>\n<style scoped>\n    .dataframe tbody tr th:only-of-type {\n        vertical-align: middle;\n    }\n\n    .dataframe tbody tr th {\n        vertical-align: top;\n    }\n\n    .dataframe thead th {\n        text-align: right;\n    }\n</style>\n<table border=\"1\" class=\"dataframe\">\n  <thead>\n    <tr style=\"text-align: right;\">\n      <th></th>\n      <th>Province_State</th>\n      <th>Lat</th>\n      <th>Long_</th>\n      <th>Confirmed</th>\n      <th>Deaths</th>\n      <th>Recovered</th>\n      <th>Mortality_Rate</th>\n    </tr>\n  </thead>\n  <tbody>\n    <tr>\n      <th>0</th>\n      <td>Alabama</td>\n      <td>32.3182</td>\n      <td>-86.9023</td>\n      <td>199158</td>\n      <td>3026</td>\n      <td>84471.0</td>\n      <td>1.519397</td>\n    </tr>\n    <tr>\n      <th>1</th>\n      <td>Alaska</td>\n      <td>61.3707</td>\n      <td>-152.4044</td>\n      <td>18174</td>\n      <td>84</td>\n      <td>7125.0</td>\n      <td>0.462199</td>\n    </tr>\n    <tr>\n      <th>2</th>\n      <td>American Samoa</td>\n      <td>-14.2710</td>\n      <td>-170.1320</td>\n      <td>0</td>\n      <td>0</td>\n      <td>NaN</td>\n      <td>NaN</td>\n    </tr>\n    <tr>\n      <th>3</th>\n      <td>Arizona</td>\n      <td>33.7298</td>\n      <td>-111.4312</td>\n      <td>252768</td>\n      <td>6087</td>\n      <td>42317.0</td>\n      <td>2.408137</td>\n    </tr>\n    <tr>\n      <th>4</th>\n      <td>Arkansas</td>\n      <td>34.9697</td>\n      <td>-92.3731</td>\n      <td>117360</td>\n      <td>2037</td>\n      <td>104816.0</td>\n      <td>1.735685</td>\n    </tr>\n  </tbody>\n</table>\n</div>"
     },
     "metadata": {},
     "execution_count": 46
    }
   ],
   "source": [
    "# select relevant columns\n",
    "us_covid_df = us_covid_df[[\"Province_State\", \"Lat\", \"Long_\", \"Confirmed\", \"Deaths\", \"Recovered\", \"Mortality_Rate\"]]\n",
    "us_covid_df.head()"
   ]
  },
  {
   "cell_type": "code",
   "execution_count": 47,
   "metadata": {},
   "outputs": [
    {
     "output_type": "execute_result",
     "data": {
      "text/plain": [
       "   Province_State      Lat     Long_  Confirmed  Deaths  Recovered  \\\n",
       "0         Alabama  32.3182  -86.9023     199158    3026    84471.0   \n",
       "1          Alaska  61.3707 -152.4044      18174      84     7125.0   \n",
       "2  American Samoa -14.2710 -170.1320          0       0        NaN   \n",
       "3         Arizona  33.7298 -111.4312     252768    6087    42317.0   \n",
       "4        Arkansas  34.9697  -92.3731     117360    2037   104816.0   \n",
       "\n",
       "   Mortality_Rate State  \n",
       "0        1.519397        \n",
       "1        0.462199        \n",
       "2             NaN        \n",
       "3        2.408137        \n",
       "4        1.735685        "
      ],
      "text/html": "<div>\n<style scoped>\n    .dataframe tbody tr th:only-of-type {\n        vertical-align: middle;\n    }\n\n    .dataframe tbody tr th {\n        vertical-align: top;\n    }\n\n    .dataframe thead th {\n        text-align: right;\n    }\n</style>\n<table border=\"1\" class=\"dataframe\">\n  <thead>\n    <tr style=\"text-align: right;\">\n      <th></th>\n      <th>Province_State</th>\n      <th>Lat</th>\n      <th>Long_</th>\n      <th>Confirmed</th>\n      <th>Deaths</th>\n      <th>Recovered</th>\n      <th>Mortality_Rate</th>\n      <th>State</th>\n    </tr>\n  </thead>\n  <tbody>\n    <tr>\n      <th>0</th>\n      <td>Alabama</td>\n      <td>32.3182</td>\n      <td>-86.9023</td>\n      <td>199158</td>\n      <td>3026</td>\n      <td>84471.0</td>\n      <td>1.519397</td>\n      <td></td>\n    </tr>\n    <tr>\n      <th>1</th>\n      <td>Alaska</td>\n      <td>61.3707</td>\n      <td>-152.4044</td>\n      <td>18174</td>\n      <td>84</td>\n      <td>7125.0</td>\n      <td>0.462199</td>\n      <td></td>\n    </tr>\n    <tr>\n      <th>2</th>\n      <td>American Samoa</td>\n      <td>-14.2710</td>\n      <td>-170.1320</td>\n      <td>0</td>\n      <td>0</td>\n      <td>NaN</td>\n      <td>NaN</td>\n      <td></td>\n    </tr>\n    <tr>\n      <th>3</th>\n      <td>Arizona</td>\n      <td>33.7298</td>\n      <td>-111.4312</td>\n      <td>252768</td>\n      <td>6087</td>\n      <td>42317.0</td>\n      <td>2.408137</td>\n      <td></td>\n    </tr>\n    <tr>\n      <th>4</th>\n      <td>Arkansas</td>\n      <td>34.9697</td>\n      <td>-92.3731</td>\n      <td>117360</td>\n      <td>2037</td>\n      <td>104816.0</td>\n      <td>1.735685</td>\n      <td></td>\n    </tr>\n  </tbody>\n</table>\n</div>"
     },
     "metadata": {},
     "execution_count": 47
    }
   ],
   "source": [
    "# add state column to be filled with state abbreviation\n",
    "us_covid_df[\"State\"] = \"\" \n",
    "us_covid_df.head()"
   ]
  },
  {
   "cell_type": "code",
   "execution_count": 48,
   "metadata": {},
   "outputs": [],
   "source": [
    "# upload States and their abbreviation\n",
    "us_state_abbrev = {\n",
    "    \n",
    "    'Alabama': 'AL',\n",
    "    'Alaska': 'AK',\n",
    "    'American Samoa': 'AS',\n",
    "    'Arizona': 'AZ',\n",
    "    'Arkansas': 'AR',\n",
    "    'California': 'CA',\n",
    "    'Colorado': 'CO',\n",
    "    'Connecticut': 'CT',\n",
    "    'Delaware': 'DE',\n",
    "    'Diamond Princess': 'DP',\n",
    "    'District of Columbia': 'DC',\n",
    "    'Florida': 'FL',\n",
    "    'Georgia': 'GA',\n",
    "    'Grand Princess': 'GP',\n",
    "    'Guam': 'GU',\n",
    "    'Hawaii': 'HI',\n",
    "    'Idaho': 'ID',\n",
    "    'Illinois': 'IL',\n",
    "    'Indiana': 'IN',\n",
    "    'Iowa': 'IA',\n",
    "    'Kansas': 'KS',\n",
    "    'Kentucky': 'KY',\n",
    "    'Louisiana': 'LA',\n",
    "    'Maine': 'ME',\n",
    "    'Maryland': 'MD',\n",
    "    'Massachusetts': 'MA',\n",
    "    'Michigan': 'MI',\n",
    "    'Minnesota': 'MN',\n",
    "    'Mississippi': 'MS',\n",
    "    'Missouri': 'MO',\n",
    "    'Montana': 'MT',\n",
    "    'Nebraska': 'NE',\n",
    "    'Nevada': 'NV',\n",
    "    'New Hampshire': 'NH',\n",
    "    'New Jersey': 'NJ',\n",
    "    'New Mexico': 'NM',\n",
    "    'New York': 'NY',\n",
    "    'North Carolina': 'NC',\n",
    "    'North Dakota': 'ND',\n",
    "    'Northern Mariana Islands':'MP',\n",
    "    'Ohio': 'OH',\n",
    "    'Oklahoma': 'OK',\n",
    "    'Oregon': 'OR',\n",
    "    'Pennsylvania': 'PA',\n",
    "    'Puerto Rico': 'PR',\n",
    "    'Rhode Island': 'RI',\n",
    "    'South Carolina': 'SC',\n",
    "    'South Dakota': 'SD',\n",
    "    'Tennessee': 'TN',\n",
    "    'Texas': 'TX',\n",
    "    'Utah': 'UT',\n",
    "    'Vermont': 'VT',\n",
    "    'Virgin Islands': 'VI',\n",
    "    'Virginia': 'VA',\n",
    "    'Washington': 'WA',\n",
    "    'West Virginia': 'WV',\n",
    "    'Wisconsin': 'WI',\n",
    "    'Wyoming': 'WY'\n",
    "}\n",
    "abbrev_us_state = dict(map(reversed, us_state_abbrev.items()))"
   ]
  },
  {
   "cell_type": "code",
   "execution_count": 61,
   "metadata": {},
   "outputs": [
    {
     "output_type": "execute_result",
     "data": {
      "text/plain": [
       "              Province_State Country_Region          Last_Update      Lat  \\\n",
       "0                    Alabama             US  2020-11-06 05:30:35  32.3182   \n",
       "1                     Alaska             US  2020-11-06 05:30:35  61.3707   \n",
       "2             American Samoa             US  2020-11-06 05:30:35 -14.2710   \n",
       "3                    Arizona             US  2020-11-06 05:30:35  33.7298   \n",
       "4                   Arkansas             US  2020-11-06 05:30:35  34.9697   \n",
       "5                 California             US  2020-11-06 05:30:35  36.1162   \n",
       "6                   Colorado             US  2020-11-06 05:30:35  39.0598   \n",
       "7                Connecticut             US  2020-11-06 05:30:35  41.5978   \n",
       "8                   Delaware             US  2020-11-06 05:30:35  39.3185   \n",
       "9           Diamond Princess             US  2020-11-06 05:30:35  14.5214   \n",
       "10      District of Columbia             US  2020-11-06 05:30:35  38.8974   \n",
       "11                   Florida             US  2020-11-06 05:30:35  27.7663   \n",
       "12                   Georgia             US  2020-11-06 05:30:35  33.0406   \n",
       "13            Grand Princess             US  2020-11-06 05:30:35  32.1584   \n",
       "14                      Guam             US  2020-11-06 05:30:35  13.4443   \n",
       "15                    Hawaii             US  2020-11-06 05:30:35  21.0943   \n",
       "16                     Idaho             US  2020-11-06 05:30:35  44.2405   \n",
       "17                  Illinois             US  2020-11-06 05:30:35  40.3495   \n",
       "18                   Indiana             US  2020-11-06 05:30:35  39.8494   \n",
       "19                      Iowa             US  2020-11-06 05:30:35  42.0115   \n",
       "20                    Kansas             US  2020-11-06 05:30:35  38.5266   \n",
       "21                  Kentucky             US  2020-11-06 05:30:35  37.6681   \n",
       "22                 Louisiana             US  2020-11-06 05:30:35  31.1695   \n",
       "23                     Maine             US  2020-11-06 05:30:35  44.6939   \n",
       "24                  Maryland             US  2020-11-06 05:30:35  39.0639   \n",
       "25             Massachusetts             US  2020-11-06 05:30:35  42.2302   \n",
       "26                  Michigan             US  2020-11-06 05:30:35  43.3266   \n",
       "27                 Minnesota             US  2020-11-06 05:30:35  45.6945   \n",
       "28               Mississippi             US  2020-11-06 05:30:35  32.7416   \n",
       "29                  Missouri             US  2020-11-06 05:30:35  38.4561   \n",
       "30                   Montana             US  2020-11-06 05:30:35  46.9219   \n",
       "31                  Nebraska             US  2020-11-06 05:30:35  41.1254   \n",
       "32                    Nevada             US  2020-11-06 05:30:35  38.3135   \n",
       "33             New Hampshire             US  2020-11-06 05:30:35  43.4525   \n",
       "34                New Jersey             US  2020-11-06 05:30:35  40.2989   \n",
       "35                New Mexico             US  2020-11-06 05:30:35  34.8405   \n",
       "36                  New York             US  2020-11-06 05:30:35  42.1657   \n",
       "37            North Carolina             US  2020-11-06 05:30:35  35.6301   \n",
       "38              North Dakota             US  2020-11-06 05:30:35  47.5289   \n",
       "39  Northern Mariana Islands             US  2020-11-06 05:30:35  15.0979   \n",
       "40                      Ohio             US  2020-11-06 05:30:35  40.3888   \n",
       "41                  Oklahoma             US  2020-11-06 05:30:35  35.5653   \n",
       "42                    Oregon             US  2020-11-06 05:30:35  44.5720   \n",
       "43              Pennsylvania             US  2020-11-06 05:30:35  40.5908   \n",
       "44               Puerto Rico             US  2020-11-06 05:30:35  18.2208   \n",
       "45              Rhode Island             US  2020-11-06 05:30:35  41.6809   \n",
       "46            South Carolina             US  2020-11-06 05:30:35  33.8569   \n",
       "47              South Dakota             US  2020-11-06 05:30:35  44.2998   \n",
       "48                 Tennessee             US  2020-11-06 05:30:35  35.7478   \n",
       "49                     Texas             US  2020-11-06 05:30:35  31.0545   \n",
       "50                      Utah             US  2020-11-06 05:30:35  40.1500   \n",
       "51                   Vermont             US  2020-11-06 05:30:35  44.0459   \n",
       "52            Virgin Islands             US  2020-11-06 05:30:35  18.3358   \n",
       "53                  Virginia             US  2020-11-06 05:30:35  37.7693   \n",
       "54                Washington             US  2020-11-06 05:30:35  47.4009   \n",
       "55             West Virginia             US  2020-11-06 05:30:35  38.4912   \n",
       "56                 Wisconsin             US  2020-11-06 05:30:35  44.2685   \n",
       "57                   Wyoming             US  2020-11-06 05:30:35  42.7560   \n",
       "\n",
       "       Long_  Confirmed  Deaths  Recovered    Active     FIPS  Incident_Rate  \\\n",
       "0   -86.9023     199158    3026    84471.0  111661.0      1.0    4061.808804   \n",
       "1  -152.4044      18174      84     7125.0   10965.0      2.0    2484.331107   \n",
       "2  -170.1320          0       0        NaN       0.0     60.0       0.000000   \n",
       "3  -111.4312     252768    6087    42317.0  204364.0      4.0    3472.699928   \n",
       "4   -92.3731     117360    2037   104816.0   10507.0      5.0    3888.920553   \n",
       "5  -119.6816     956854   17860        NaN  938994.0      6.0    2421.665822   \n",
       "6  -105.3111     121006    2353     8268.0  110385.0      8.0    2101.259721   \n",
       "7   -72.7554      77060    4656     9800.0   62604.0      9.0    2161.396824   \n",
       "8   -75.5071      25753     716    13685.0   11352.0     10.0    2644.685981   \n",
       "9   120.9709         49       0        NaN      49.0  88888.0            NaN   \n",
       "10  -77.0268      17682     650    13653.0    3379.0     11.0    2505.423316   \n",
       "11  -81.6868     827380   16961        NaN  810419.0     12.0    3852.268049   \n",
       "12  -83.6431     368368    8126        NaN  360242.0     13.0    3469.467120   \n",
       "13  117.5676        103       3        NaN     100.0  99999.0            NaN   \n",
       "14  144.7937       5004      85     3352.0    1567.0     66.0    3046.964909   \n",
       "15 -157.4983      15572     219    11958.0    3395.0     15.0    1099.816933   \n",
       "16 -114.4788      69579     671    31210.0   37698.0     16.0    3893.478973   \n",
       "17  -88.9861     453738   10313        NaN  443425.0     17.0    3580.685049   \n",
       "18  -86.2583     196176    4511   128674.0   62991.0     18.0    2913.987201   \n",
       "19  -93.2105     142491    1814    98037.0   42640.0     19.0    4516.254790   \n",
       "20  -96.7265      90220    1079     2753.0   86388.0     20.0    3096.816890   \n",
       "21  -84.6701     115277    1534    20304.0   93439.0     21.0    2580.247032   \n",
       "22  -91.8678     185825    5995   172210.0    7620.0     22.0    3997.273271   \n",
       "23  -69.3819       7260     150     5751.0    1359.0     23.0     540.093378   \n",
       "24  -76.8021     149964    4182     8255.0  137527.0     24.0    2480.515012   \n",
       "25  -71.5301     165161   10085   131646.0   23430.0     25.0    2396.241249   \n",
       "26  -84.5361     218263    7833   121093.0   89337.0     26.0    2185.502406   \n",
       "27  -93.9002     164865    2609   137824.0   24432.0     27.0    2923.329040   \n",
       "28  -89.6787     123887    3405   105839.0   14643.0     28.0    4162.661211   \n",
       "29  -92.2884     200042    3117        NaN  196925.0     29.0    3259.378358   \n",
       "30 -110.4544      36968     407    23300.0   13261.0     30.0    3458.903533   \n",
       "31  -98.2681      78012     674    45772.0   31566.0     31.0    4032.861733   \n",
       "32 -117.0554     105360    1824     2511.0  101025.0     32.0    3420.605969   \n",
       "33  -71.5639      11808     486     9776.0    1546.0     33.0     868.419833   \n",
       "34  -74.5210     247219   16403    37696.0  193120.0     34.0    2783.311323   \n",
       "35 -106.2485      51110    1082    22274.0   27754.0     35.0    2437.490134   \n",
       "36  -74.9481     518812   33657    80225.0  404930.0     36.0    2666.925608   \n",
       "37  -79.8064     285661    4548   246318.0   34795.0     37.0    2723.671931   \n",
       "38  -99.7840      49837     596    40017.0    9224.0     38.0    6539.756608   \n",
       "39  145.6739         98       2       29.0      67.0     69.0     177.716524   \n",
       "40  -82.7649     235170    5461   178646.0   51063.0     39.0    2011.874310   \n",
       "41  -96.9289     129873    1413   111695.0   16765.0     40.0    3282.131711   \n",
       "42 -122.0709      47839     710     5870.0   41259.0     41.0    1134.233832   \n",
       "43  -77.2098     225698    8923   165424.0   51351.0     42.0    1762.991673   \n",
       "44  -66.5901      69416     855    31182.0   37379.0     72.0    2366.394310   \n",
       "45  -71.5118      35750    1222     2881.0   31647.0     44.0    3374.675866   \n",
       "46  -80.9450     181639    3992    94333.0   83314.0     45.0    3527.851809   \n",
       "47  -99.4388      51151     482    37059.0   13610.0     46.0    5782.001879   \n",
       "48  -86.6923     271771    3509   243492.0   24770.0     47.0    3979.558875   \n",
       "49  -97.5635     969490   18907   802611.0  147972.0     48.0    3343.543864   \n",
       "50 -111.8624     124292     632    89837.0   33823.0     49.0    3876.906684   \n",
       "51  -72.7107       2303      58     1888.0     357.0     50.0     369.077019   \n",
       "52  -64.8963       1388      23     1332.0      33.0     78.0    1293.955327   \n",
       "53  -78.1700     187202    3688    21289.0  162225.0     51.0    2193.211684   \n",
       "54 -121.4905     112550    2431        NaN  110119.0     53.0    1478.024708   \n",
       "55  -80.9545      26547     482    20175.0    5890.0     54.0    1481.295898   \n",
       "56  -89.6165     249924    2194   193369.0   54361.0     55.0    4292.431653   \n",
       "57 -107.3025      15409     105     9709.0    5595.0     56.0    2662.420800   \n",
       "\n",
       "    People_Tested  People_Hospitalized  Mortality_Rate       UID ISO3  \\\n",
       "0       1379107.0                  NaN        1.519397  84000001  USA   \n",
       "1        781826.0                  NaN        0.462199  84000002  USA   \n",
       "2          1768.0                  NaN             NaN        16  ASM   \n",
       "3       1826629.0                  NaN        2.408137  84000004  USA   \n",
       "4       1392905.0                  NaN        1.735685  84000005  USA   \n",
       "5      19266363.0                  NaN        1.866533  84000006  USA   \n",
       "6       2109114.0                  NaN        1.944532  84000008  USA   \n",
       "7       2433409.0                  NaN        6.042045  84000009  USA   \n",
       "8        573791.0                  NaN        2.780259  84000010  USA   \n",
       "9             NaN                  NaN        0.000000  84088888  USA   \n",
       "10       540502.0                  NaN        3.676055  84000011  USA   \n",
       "11     10328997.0                  NaN        2.049965  84000012  USA   \n",
       "12      3672160.0                  NaN        2.205946  84000013  USA   \n",
       "13            NaN                  NaN        2.912621  84099999  USA   \n",
       "14        70467.0                  NaN        1.698641       316  GUM   \n",
       "15       547333.0                  NaN        1.406370  84000015  USA   \n",
       "16       395676.0                  NaN        0.964371  84000016  USA   \n",
       "17      8122987.0                  NaN        2.272898  84000017  USA   \n",
       "18      3073855.0                  NaN        2.299466  84000018  USA   \n",
       "19       916404.0                  NaN        1.273063  84000019  USA   \n",
       "20       663680.0                  NaN        1.195965  84000020  USA   \n",
       "21      2009317.0                  NaN        1.330708  84000021  USA   \n",
       "22      2847666.0                  NaN        3.226154  84000022  USA   \n",
       "23       667850.0                  NaN        2.066116  84000023  USA   \n",
       "24      3552331.0                  NaN        2.788669  84000024  USA   \n",
       "25      6461311.0                  NaN        6.106163  84000025  USA   \n",
       "26      5154882.0                  NaN        3.588790  84000026  USA   \n",
       "27      2947153.0                  NaN        1.582507  84000027  USA   \n",
       "28       961095.0                  NaN        2.748472  84000028  USA   \n",
       "29      2624970.0                  NaN        1.558173  84000029  USA   \n",
       "30       520024.0                  NaN        1.100952  84000030  USA   \n",
       "31       987498.0                  NaN        0.863970  84000031  USA   \n",
       "32      1299121.0                  NaN        1.731207  84000032  USA   \n",
       "33       644591.0                  NaN        4.115854  84000033  USA   \n",
       "34      4818052.0                  NaN        6.635008  84000034  USA   \n",
       "35      1218805.0                  NaN        2.117003  84000035  USA   \n",
       "36     15195176.0                  NaN        6.487321  84000036  USA   \n",
       "37      4226942.0                  NaN        1.592097  84000037  USA   \n",
       "38       873345.0                  NaN        1.195899  84000038  USA   \n",
       "39        16089.0                  NaN        2.040816       580  MNP   \n",
       "40      4695806.0                  NaN        2.322150  84000039  USA   \n",
       "41      1673557.0                  NaN        1.087986  84000040  USA   \n",
       "42       889027.0                  NaN        1.484145  84000041  USA   \n",
       "43      2611902.0                  NaN        3.953513  84000042  USA   \n",
       "44       375388.0                  NaN        1.231705       630  PRI   \n",
       "45      1200751.0                  NaN        3.418182  84000044  USA   \n",
       "46      1873285.0                  NaN        2.197766  84000045  USA   \n",
       "47       269136.0                  NaN        0.942308  84000046  USA   \n",
       "48      3780132.0                  NaN        1.291161  84000047  USA   \n",
       "49      8483728.0                  NaN        1.950201  84000048  USA   \n",
       "50      1447849.0                  NaN        0.508480  84000049  USA   \n",
       "51       424422.0                  NaN        2.518454  84000050  USA   \n",
       "52        24904.0                  NaN        1.657061       850  VIR   \n",
       "53      2719206.0                  NaN        1.970064  84000051  USA   \n",
       "54      2519494.0                  NaN        2.159929  84000053  USA   \n",
       "55       817092.0                  NaN        1.815648  84000054  USA   \n",
       "56      3440030.0                  NaN        0.877867  84000055  USA   \n",
       "57       138213.0                  NaN        0.681420  84000056  USA   \n",
       "\n",
       "     Testing_Rate  Hospitalization_Rate State  \n",
       "0    28126.758423                   NaN    AL  \n",
       "1   106873.261385                   NaN    AK  \n",
       "2     3177.512985                   NaN    AS  \n",
       "3    25095.480426                   NaN    AZ  \n",
       "4    46156.244740                   NaN    AR  \n",
       "5    48760.513930                   NaN    CA  \n",
       "6    36624.599565                   NaN    CO  \n",
       "7    68252.822283                   NaN    CT  \n",
       "8    58925.057817                   NaN    DE  \n",
       "9             NaN                   NaN    DP  \n",
       "10   76585.584960                   NaN    DC  \n",
       "11   48091.644851                   NaN    FL  \n",
       "12   34586.170298                   NaN    GA  \n",
       "13            NaN                   NaN    GP  \n",
       "14   42907.769030                   NaN    GU  \n",
       "15   38656.954866                   NaN    HI  \n",
       "16   22141.108466                   NaN    ID  \n",
       "17   64102.759974                   NaN    IL  \n",
       "18   45658.868198                   NaN    IN  \n",
       "19   29045.441147                   NaN    IA  \n",
       "20   22780.929210                   NaN    KS  \n",
       "21   44974.576250                   NaN    KY  \n",
       "22   61256.016076                   NaN    LA  \n",
       "23   49683.383276                   NaN    ME  \n",
       "24   58758.171124                   NaN    MD  \n",
       "25   93744.043347                   NaN    MA  \n",
       "26   51616.659776                   NaN    MI  \n",
       "27   52257.895551                   NaN    MN  \n",
       "28   32293.242039                   NaN    MS  \n",
       "29   42769.870376                   NaN    MO  \n",
       "30   48655.941646                   NaN    MT  \n",
       "31   51049.106497                   NaN    NE  \n",
       "32   42177.117003                   NaN    NV  \n",
       "33   47406.470934                   NaN    NH  \n",
       "34   54243.964608                   NaN    NJ  \n",
       "35   58126.103750                   NaN    NM  \n",
       "36   78109.997445                   NaN    NY  \n",
       "37   40302.327861                   NaN    NC  \n",
       "38  114602.880081                   NaN    ND  \n",
       "39   29176.338314                   NaN    MP  \n",
       "40   40172.519698                   NaN    OH  \n",
       "41   42293.890959                   NaN    OK  \n",
       "42   21078.293881                   NaN    OR  \n",
       "43   20402.314047                   NaN    PA  \n",
       "44   12796.992440                   NaN    PR  \n",
       "45  113346.725054                   NaN    RI  \n",
       "46   36383.551310                   NaN    SC  \n",
       "47   30422.569600                   NaN    SD  \n",
       "48   55352.697120                   NaN    TN  \n",
       "49   29258.390183                   NaN    TX  \n",
       "50   45161.196747                   NaN    UT  \n",
       "51   68017.545181                   NaN    VT  \n",
       "52   23216.616325                   NaN    VI  \n",
       "53   31857.535552                   NaN    VA  \n",
       "54   33086.400557                   NaN    WA  \n",
       "55   45592.911742                   NaN    WV  \n",
       "56   59082.335669                   NaN    WI  \n",
       "57   23880.924530                   NaN    WY  "
      ],
      "text/html": "<div>\n<style scoped>\n    .dataframe tbody tr th:only-of-type {\n        vertical-align: middle;\n    }\n\n    .dataframe tbody tr th {\n        vertical-align: top;\n    }\n\n    .dataframe thead th {\n        text-align: right;\n    }\n</style>\n<table border=\"1\" class=\"dataframe\">\n  <thead>\n    <tr style=\"text-align: right;\">\n      <th></th>\n      <th>Province_State</th>\n      <th>Country_Region</th>\n      <th>Last_Update</th>\n      <th>Lat</th>\n      <th>Long_</th>\n      <th>Confirmed</th>\n      <th>Deaths</th>\n      <th>Recovered</th>\n      <th>Active</th>\n      <th>FIPS</th>\n      <th>Incident_Rate</th>\n      <th>People_Tested</th>\n      <th>People_Hospitalized</th>\n      <th>Mortality_Rate</th>\n      <th>UID</th>\n      <th>ISO3</th>\n      <th>Testing_Rate</th>\n      <th>Hospitalization_Rate</th>\n      <th>State</th>\n    </tr>\n  </thead>\n  <tbody>\n    <tr>\n      <th>0</th>\n      <td>Alabama</td>\n      <td>US</td>\n      <td>2020-11-06 05:30:35</td>\n      <td>32.3182</td>\n      <td>-86.9023</td>\n      <td>199158</td>\n      <td>3026</td>\n      <td>84471.0</td>\n      <td>111661.0</td>\n      <td>1.0</td>\n      <td>4061.808804</td>\n      <td>1379107.0</td>\n      <td>NaN</td>\n      <td>1.519397</td>\n      <td>84000001</td>\n      <td>USA</td>\n      <td>28126.758423</td>\n      <td>NaN</td>\n      <td>AL</td>\n    </tr>\n    <tr>\n      <th>1</th>\n      <td>Alaska</td>\n      <td>US</td>\n      <td>2020-11-06 05:30:35</td>\n      <td>61.3707</td>\n      <td>-152.4044</td>\n      <td>18174</td>\n      <td>84</td>\n      <td>7125.0</td>\n      <td>10965.0</td>\n      <td>2.0</td>\n      <td>2484.331107</td>\n      <td>781826.0</td>\n      <td>NaN</td>\n      <td>0.462199</td>\n      <td>84000002</td>\n      <td>USA</td>\n      <td>106873.261385</td>\n      <td>NaN</td>\n      <td>AK</td>\n    </tr>\n    <tr>\n      <th>2</th>\n      <td>American Samoa</td>\n      <td>US</td>\n      <td>2020-11-06 05:30:35</td>\n      <td>-14.2710</td>\n      <td>-170.1320</td>\n      <td>0</td>\n      <td>0</td>\n      <td>NaN</td>\n      <td>0.0</td>\n      <td>60.0</td>\n      <td>0.000000</td>\n      <td>1768.0</td>\n      <td>NaN</td>\n      <td>NaN</td>\n      <td>16</td>\n      <td>ASM</td>\n      <td>3177.512985</td>\n      <td>NaN</td>\n      <td>AS</td>\n    </tr>\n    <tr>\n      <th>3</th>\n      <td>Arizona</td>\n      <td>US</td>\n      <td>2020-11-06 05:30:35</td>\n      <td>33.7298</td>\n      <td>-111.4312</td>\n      <td>252768</td>\n      <td>6087</td>\n      <td>42317.0</td>\n      <td>204364.0</td>\n      <td>4.0</td>\n      <td>3472.699928</td>\n      <td>1826629.0</td>\n      <td>NaN</td>\n      <td>2.408137</td>\n      <td>84000004</td>\n      <td>USA</td>\n      <td>25095.480426</td>\n      <td>NaN</td>\n      <td>AZ</td>\n    </tr>\n    <tr>\n      <th>4</th>\n      <td>Arkansas</td>\n      <td>US</td>\n      <td>2020-11-06 05:30:35</td>\n      <td>34.9697</td>\n      <td>-92.3731</td>\n      <td>117360</td>\n      <td>2037</td>\n      <td>104816.0</td>\n      <td>10507.0</td>\n      <td>5.0</td>\n      <td>3888.920553</td>\n      <td>1392905.0</td>\n      <td>NaN</td>\n      <td>1.735685</td>\n      <td>84000005</td>\n      <td>USA</td>\n      <td>46156.244740</td>\n      <td>NaN</td>\n      <td>AR</td>\n    </tr>\n    <tr>\n      <th>5</th>\n      <td>California</td>\n      <td>US</td>\n      <td>2020-11-06 05:30:35</td>\n      <td>36.1162</td>\n      <td>-119.6816</td>\n      <td>956854</td>\n      <td>17860</td>\n      <td>NaN</td>\n      <td>938994.0</td>\n      <td>6.0</td>\n      <td>2421.665822</td>\n      <td>19266363.0</td>\n      <td>NaN</td>\n      <td>1.866533</td>\n      <td>84000006</td>\n      <td>USA</td>\n      <td>48760.513930</td>\n      <td>NaN</td>\n      <td>CA</td>\n    </tr>\n    <tr>\n      <th>6</th>\n      <td>Colorado</td>\n      <td>US</td>\n      <td>2020-11-06 05:30:35</td>\n      <td>39.0598</td>\n      <td>-105.3111</td>\n      <td>121006</td>\n      <td>2353</td>\n      <td>8268.0</td>\n      <td>110385.0</td>\n      <td>8.0</td>\n      <td>2101.259721</td>\n      <td>2109114.0</td>\n      <td>NaN</td>\n      <td>1.944532</td>\n      <td>84000008</td>\n      <td>USA</td>\n      <td>36624.599565</td>\n      <td>NaN</td>\n      <td>CO</td>\n    </tr>\n    <tr>\n      <th>7</th>\n      <td>Connecticut</td>\n      <td>US</td>\n      <td>2020-11-06 05:30:35</td>\n      <td>41.5978</td>\n      <td>-72.7554</td>\n      <td>77060</td>\n      <td>4656</td>\n      <td>9800.0</td>\n      <td>62604.0</td>\n      <td>9.0</td>\n      <td>2161.396824</td>\n      <td>2433409.0</td>\n      <td>NaN</td>\n      <td>6.042045</td>\n      <td>84000009</td>\n      <td>USA</td>\n      <td>68252.822283</td>\n      <td>NaN</td>\n      <td>CT</td>\n    </tr>\n    <tr>\n      <th>8</th>\n      <td>Delaware</td>\n      <td>US</td>\n      <td>2020-11-06 05:30:35</td>\n      <td>39.3185</td>\n      <td>-75.5071</td>\n      <td>25753</td>\n      <td>716</td>\n      <td>13685.0</td>\n      <td>11352.0</td>\n      <td>10.0</td>\n      <td>2644.685981</td>\n      <td>573791.0</td>\n      <td>NaN</td>\n      <td>2.780259</td>\n      <td>84000010</td>\n      <td>USA</td>\n      <td>58925.057817</td>\n      <td>NaN</td>\n      <td>DE</td>\n    </tr>\n    <tr>\n      <th>9</th>\n      <td>Diamond Princess</td>\n      <td>US</td>\n      <td>2020-11-06 05:30:35</td>\n      <td>14.5214</td>\n      <td>120.9709</td>\n      <td>49</td>\n      <td>0</td>\n      <td>NaN</td>\n      <td>49.0</td>\n      <td>88888.0</td>\n      <td>NaN</td>\n      <td>NaN</td>\n      <td>NaN</td>\n      <td>0.000000</td>\n      <td>84088888</td>\n      <td>USA</td>\n      <td>NaN</td>\n      <td>NaN</td>\n      <td>DP</td>\n    </tr>\n    <tr>\n      <th>10</th>\n      <td>District of Columbia</td>\n      <td>US</td>\n      <td>2020-11-06 05:30:35</td>\n      <td>38.8974</td>\n      <td>-77.0268</td>\n      <td>17682</td>\n      <td>650</td>\n      <td>13653.0</td>\n      <td>3379.0</td>\n      <td>11.0</td>\n      <td>2505.423316</td>\n      <td>540502.0</td>\n      <td>NaN</td>\n      <td>3.676055</td>\n      <td>84000011</td>\n      <td>USA</td>\n      <td>76585.584960</td>\n      <td>NaN</td>\n      <td>DC</td>\n    </tr>\n    <tr>\n      <th>11</th>\n      <td>Florida</td>\n      <td>US</td>\n      <td>2020-11-06 05:30:35</td>\n      <td>27.7663</td>\n      <td>-81.6868</td>\n      <td>827380</td>\n      <td>16961</td>\n      <td>NaN</td>\n      <td>810419.0</td>\n      <td>12.0</td>\n      <td>3852.268049</td>\n      <td>10328997.0</td>\n      <td>NaN</td>\n      <td>2.049965</td>\n      <td>84000012</td>\n      <td>USA</td>\n      <td>48091.644851</td>\n      <td>NaN</td>\n      <td>FL</td>\n    </tr>\n    <tr>\n      <th>12</th>\n      <td>Georgia</td>\n      <td>US</td>\n      <td>2020-11-06 05:30:35</td>\n      <td>33.0406</td>\n      <td>-83.6431</td>\n      <td>368368</td>\n      <td>8126</td>\n      <td>NaN</td>\n      <td>360242.0</td>\n      <td>13.0</td>\n      <td>3469.467120</td>\n      <td>3672160.0</td>\n      <td>NaN</td>\n      <td>2.205946</td>\n      <td>84000013</td>\n      <td>USA</td>\n      <td>34586.170298</td>\n      <td>NaN</td>\n      <td>GA</td>\n    </tr>\n    <tr>\n      <th>13</th>\n      <td>Grand Princess</td>\n      <td>US</td>\n      <td>2020-11-06 05:30:35</td>\n      <td>32.1584</td>\n      <td>117.5676</td>\n      <td>103</td>\n      <td>3</td>\n      <td>NaN</td>\n      <td>100.0</td>\n      <td>99999.0</td>\n      <td>NaN</td>\n      <td>NaN</td>\n      <td>NaN</td>\n      <td>2.912621</td>\n      <td>84099999</td>\n      <td>USA</td>\n      <td>NaN</td>\n      <td>NaN</td>\n      <td>GP</td>\n    </tr>\n    <tr>\n      <th>14</th>\n      <td>Guam</td>\n      <td>US</td>\n      <td>2020-11-06 05:30:35</td>\n      <td>13.4443</td>\n      <td>144.7937</td>\n      <td>5004</td>\n      <td>85</td>\n      <td>3352.0</td>\n      <td>1567.0</td>\n      <td>66.0</td>\n      <td>3046.964909</td>\n      <td>70467.0</td>\n      <td>NaN</td>\n      <td>1.698641</td>\n      <td>316</td>\n      <td>GUM</td>\n      <td>42907.769030</td>\n      <td>NaN</td>\n      <td>GU</td>\n    </tr>\n    <tr>\n      <th>15</th>\n      <td>Hawaii</td>\n      <td>US</td>\n      <td>2020-11-06 05:30:35</td>\n      <td>21.0943</td>\n      <td>-157.4983</td>\n      <td>15572</td>\n      <td>219</td>\n      <td>11958.0</td>\n      <td>3395.0</td>\n      <td>15.0</td>\n      <td>1099.816933</td>\n      <td>547333.0</td>\n      <td>NaN</td>\n      <td>1.406370</td>\n      <td>84000015</td>\n      <td>USA</td>\n      <td>38656.954866</td>\n      <td>NaN</td>\n      <td>HI</td>\n    </tr>\n    <tr>\n      <th>16</th>\n      <td>Idaho</td>\n      <td>US</td>\n      <td>2020-11-06 05:30:35</td>\n      <td>44.2405</td>\n      <td>-114.4788</td>\n      <td>69579</td>\n      <td>671</td>\n      <td>31210.0</td>\n      <td>37698.0</td>\n      <td>16.0</td>\n      <td>3893.478973</td>\n      <td>395676.0</td>\n      <td>NaN</td>\n      <td>0.964371</td>\n      <td>84000016</td>\n      <td>USA</td>\n      <td>22141.108466</td>\n      <td>NaN</td>\n      <td>ID</td>\n    </tr>\n    <tr>\n      <th>17</th>\n      <td>Illinois</td>\n      <td>US</td>\n      <td>2020-11-06 05:30:35</td>\n      <td>40.3495</td>\n      <td>-88.9861</td>\n      <td>453738</td>\n      <td>10313</td>\n      <td>NaN</td>\n      <td>443425.0</td>\n      <td>17.0</td>\n      <td>3580.685049</td>\n      <td>8122987.0</td>\n      <td>NaN</td>\n      <td>2.272898</td>\n      <td>84000017</td>\n      <td>USA</td>\n      <td>64102.759974</td>\n      <td>NaN</td>\n      <td>IL</td>\n    </tr>\n    <tr>\n      <th>18</th>\n      <td>Indiana</td>\n      <td>US</td>\n      <td>2020-11-06 05:30:35</td>\n      <td>39.8494</td>\n      <td>-86.2583</td>\n      <td>196176</td>\n      <td>4511</td>\n      <td>128674.0</td>\n      <td>62991.0</td>\n      <td>18.0</td>\n      <td>2913.987201</td>\n      <td>3073855.0</td>\n      <td>NaN</td>\n      <td>2.299466</td>\n      <td>84000018</td>\n      <td>USA</td>\n      <td>45658.868198</td>\n      <td>NaN</td>\n      <td>IN</td>\n    </tr>\n    <tr>\n      <th>19</th>\n      <td>Iowa</td>\n      <td>US</td>\n      <td>2020-11-06 05:30:35</td>\n      <td>42.0115</td>\n      <td>-93.2105</td>\n      <td>142491</td>\n      <td>1814</td>\n      <td>98037.0</td>\n      <td>42640.0</td>\n      <td>19.0</td>\n      <td>4516.254790</td>\n      <td>916404.0</td>\n      <td>NaN</td>\n      <td>1.273063</td>\n      <td>84000019</td>\n      <td>USA</td>\n      <td>29045.441147</td>\n      <td>NaN</td>\n      <td>IA</td>\n    </tr>\n    <tr>\n      <th>20</th>\n      <td>Kansas</td>\n      <td>US</td>\n      <td>2020-11-06 05:30:35</td>\n      <td>38.5266</td>\n      <td>-96.7265</td>\n      <td>90220</td>\n      <td>1079</td>\n      <td>2753.0</td>\n      <td>86388.0</td>\n      <td>20.0</td>\n      <td>3096.816890</td>\n      <td>663680.0</td>\n      <td>NaN</td>\n      <td>1.195965</td>\n      <td>84000020</td>\n      <td>USA</td>\n      <td>22780.929210</td>\n      <td>NaN</td>\n      <td>KS</td>\n    </tr>\n    <tr>\n      <th>21</th>\n      <td>Kentucky</td>\n      <td>US</td>\n      <td>2020-11-06 05:30:35</td>\n      <td>37.6681</td>\n      <td>-84.6701</td>\n      <td>115277</td>\n      <td>1534</td>\n      <td>20304.0</td>\n      <td>93439.0</td>\n      <td>21.0</td>\n      <td>2580.247032</td>\n      <td>2009317.0</td>\n      <td>NaN</td>\n      <td>1.330708</td>\n      <td>84000021</td>\n      <td>USA</td>\n      <td>44974.576250</td>\n      <td>NaN</td>\n      <td>KY</td>\n    </tr>\n    <tr>\n      <th>22</th>\n      <td>Louisiana</td>\n      <td>US</td>\n      <td>2020-11-06 05:30:35</td>\n      <td>31.1695</td>\n      <td>-91.8678</td>\n      <td>185825</td>\n      <td>5995</td>\n      <td>172210.0</td>\n      <td>7620.0</td>\n      <td>22.0</td>\n      <td>3997.273271</td>\n      <td>2847666.0</td>\n      <td>NaN</td>\n      <td>3.226154</td>\n      <td>84000022</td>\n      <td>USA</td>\n      <td>61256.016076</td>\n      <td>NaN</td>\n      <td>LA</td>\n    </tr>\n    <tr>\n      <th>23</th>\n      <td>Maine</td>\n      <td>US</td>\n      <td>2020-11-06 05:30:35</td>\n      <td>44.6939</td>\n      <td>-69.3819</td>\n      <td>7260</td>\n      <td>150</td>\n      <td>5751.0</td>\n      <td>1359.0</td>\n      <td>23.0</td>\n      <td>540.093378</td>\n      <td>667850.0</td>\n      <td>NaN</td>\n      <td>2.066116</td>\n      <td>84000023</td>\n      <td>USA</td>\n      <td>49683.383276</td>\n      <td>NaN</td>\n      <td>ME</td>\n    </tr>\n    <tr>\n      <th>24</th>\n      <td>Maryland</td>\n      <td>US</td>\n      <td>2020-11-06 05:30:35</td>\n      <td>39.0639</td>\n      <td>-76.8021</td>\n      <td>149964</td>\n      <td>4182</td>\n      <td>8255.0</td>\n      <td>137527.0</td>\n      <td>24.0</td>\n      <td>2480.515012</td>\n      <td>3552331.0</td>\n      <td>NaN</td>\n      <td>2.788669</td>\n      <td>84000024</td>\n      <td>USA</td>\n      <td>58758.171124</td>\n      <td>NaN</td>\n      <td>MD</td>\n    </tr>\n    <tr>\n      <th>25</th>\n      <td>Massachusetts</td>\n      <td>US</td>\n      <td>2020-11-06 05:30:35</td>\n      <td>42.2302</td>\n      <td>-71.5301</td>\n      <td>165161</td>\n      <td>10085</td>\n      <td>131646.0</td>\n      <td>23430.0</td>\n      <td>25.0</td>\n      <td>2396.241249</td>\n      <td>6461311.0</td>\n      <td>NaN</td>\n      <td>6.106163</td>\n      <td>84000025</td>\n      <td>USA</td>\n      <td>93744.043347</td>\n      <td>NaN</td>\n      <td>MA</td>\n    </tr>\n    <tr>\n      <th>26</th>\n      <td>Michigan</td>\n      <td>US</td>\n      <td>2020-11-06 05:30:35</td>\n      <td>43.3266</td>\n      <td>-84.5361</td>\n      <td>218263</td>\n      <td>7833</td>\n      <td>121093.0</td>\n      <td>89337.0</td>\n      <td>26.0</td>\n      <td>2185.502406</td>\n      <td>5154882.0</td>\n      <td>NaN</td>\n      <td>3.588790</td>\n      <td>84000026</td>\n      <td>USA</td>\n      <td>51616.659776</td>\n      <td>NaN</td>\n      <td>MI</td>\n    </tr>\n    <tr>\n      <th>27</th>\n      <td>Minnesota</td>\n      <td>US</td>\n      <td>2020-11-06 05:30:35</td>\n      <td>45.6945</td>\n      <td>-93.9002</td>\n      <td>164865</td>\n      <td>2609</td>\n      <td>137824.0</td>\n      <td>24432.0</td>\n      <td>27.0</td>\n      <td>2923.329040</td>\n      <td>2947153.0</td>\n      <td>NaN</td>\n      <td>1.582507</td>\n      <td>84000027</td>\n      <td>USA</td>\n      <td>52257.895551</td>\n      <td>NaN</td>\n      <td>MN</td>\n    </tr>\n    <tr>\n      <th>28</th>\n      <td>Mississippi</td>\n      <td>US</td>\n      <td>2020-11-06 05:30:35</td>\n      <td>32.7416</td>\n      <td>-89.6787</td>\n      <td>123887</td>\n      <td>3405</td>\n      <td>105839.0</td>\n      <td>14643.0</td>\n      <td>28.0</td>\n      <td>4162.661211</td>\n      <td>961095.0</td>\n      <td>NaN</td>\n      <td>2.748472</td>\n      <td>84000028</td>\n      <td>USA</td>\n      <td>32293.242039</td>\n      <td>NaN</td>\n      <td>MS</td>\n    </tr>\n    <tr>\n      <th>29</th>\n      <td>Missouri</td>\n      <td>US</td>\n      <td>2020-11-06 05:30:35</td>\n      <td>38.4561</td>\n      <td>-92.2884</td>\n      <td>200042</td>\n      <td>3117</td>\n      <td>NaN</td>\n      <td>196925.0</td>\n      <td>29.0</td>\n      <td>3259.378358</td>\n      <td>2624970.0</td>\n      <td>NaN</td>\n      <td>1.558173</td>\n      <td>84000029</td>\n      <td>USA</td>\n      <td>42769.870376</td>\n      <td>NaN</td>\n      <td>MO</td>\n    </tr>\n    <tr>\n      <th>30</th>\n      <td>Montana</td>\n      <td>US</td>\n      <td>2020-11-06 05:30:35</td>\n      <td>46.9219</td>\n      <td>-110.4544</td>\n      <td>36968</td>\n      <td>407</td>\n      <td>23300.0</td>\n      <td>13261.0</td>\n      <td>30.0</td>\n      <td>3458.903533</td>\n      <td>520024.0</td>\n      <td>NaN</td>\n      <td>1.100952</td>\n      <td>84000030</td>\n      <td>USA</td>\n      <td>48655.941646</td>\n      <td>NaN</td>\n      <td>MT</td>\n    </tr>\n    <tr>\n      <th>31</th>\n      <td>Nebraska</td>\n      <td>US</td>\n      <td>2020-11-06 05:30:35</td>\n      <td>41.1254</td>\n      <td>-98.2681</td>\n      <td>78012</td>\n      <td>674</td>\n      <td>45772.0</td>\n      <td>31566.0</td>\n      <td>31.0</td>\n      <td>4032.861733</td>\n      <td>987498.0</td>\n      <td>NaN</td>\n      <td>0.863970</td>\n      <td>84000031</td>\n      <td>USA</td>\n      <td>51049.106497</td>\n      <td>NaN</td>\n      <td>NE</td>\n    </tr>\n    <tr>\n      <th>32</th>\n      <td>Nevada</td>\n      <td>US</td>\n      <td>2020-11-06 05:30:35</td>\n      <td>38.3135</td>\n      <td>-117.0554</td>\n      <td>105360</td>\n      <td>1824</td>\n      <td>2511.0</td>\n      <td>101025.0</td>\n      <td>32.0</td>\n      <td>3420.605969</td>\n      <td>1299121.0</td>\n      <td>NaN</td>\n      <td>1.731207</td>\n      <td>84000032</td>\n      <td>USA</td>\n      <td>42177.117003</td>\n      <td>NaN</td>\n      <td>NV</td>\n    </tr>\n    <tr>\n      <th>33</th>\n      <td>New Hampshire</td>\n      <td>US</td>\n      <td>2020-11-06 05:30:35</td>\n      <td>43.4525</td>\n      <td>-71.5639</td>\n      <td>11808</td>\n      <td>486</td>\n      <td>9776.0</td>\n      <td>1546.0</td>\n      <td>33.0</td>\n      <td>868.419833</td>\n      <td>644591.0</td>\n      <td>NaN</td>\n      <td>4.115854</td>\n      <td>84000033</td>\n      <td>USA</td>\n      <td>47406.470934</td>\n      <td>NaN</td>\n      <td>NH</td>\n    </tr>\n    <tr>\n      <th>34</th>\n      <td>New Jersey</td>\n      <td>US</td>\n      <td>2020-11-06 05:30:35</td>\n      <td>40.2989</td>\n      <td>-74.5210</td>\n      <td>247219</td>\n      <td>16403</td>\n      <td>37696.0</td>\n      <td>193120.0</td>\n      <td>34.0</td>\n      <td>2783.311323</td>\n      <td>4818052.0</td>\n      <td>NaN</td>\n      <td>6.635008</td>\n      <td>84000034</td>\n      <td>USA</td>\n      <td>54243.964608</td>\n      <td>NaN</td>\n      <td>NJ</td>\n    </tr>\n    <tr>\n      <th>35</th>\n      <td>New Mexico</td>\n      <td>US</td>\n      <td>2020-11-06 05:30:35</td>\n      <td>34.8405</td>\n      <td>-106.2485</td>\n      <td>51110</td>\n      <td>1082</td>\n      <td>22274.0</td>\n      <td>27754.0</td>\n      <td>35.0</td>\n      <td>2437.490134</td>\n      <td>1218805.0</td>\n      <td>NaN</td>\n      <td>2.117003</td>\n      <td>84000035</td>\n      <td>USA</td>\n      <td>58126.103750</td>\n      <td>NaN</td>\n      <td>NM</td>\n    </tr>\n    <tr>\n      <th>36</th>\n      <td>New York</td>\n      <td>US</td>\n      <td>2020-11-06 05:30:35</td>\n      <td>42.1657</td>\n      <td>-74.9481</td>\n      <td>518812</td>\n      <td>33657</td>\n      <td>80225.0</td>\n      <td>404930.0</td>\n      <td>36.0</td>\n      <td>2666.925608</td>\n      <td>15195176.0</td>\n      <td>NaN</td>\n      <td>6.487321</td>\n      <td>84000036</td>\n      <td>USA</td>\n      <td>78109.997445</td>\n      <td>NaN</td>\n      <td>NY</td>\n    </tr>\n    <tr>\n      <th>37</th>\n      <td>North Carolina</td>\n      <td>US</td>\n      <td>2020-11-06 05:30:35</td>\n      <td>35.6301</td>\n      <td>-79.8064</td>\n      <td>285661</td>\n      <td>4548</td>\n      <td>246318.0</td>\n      <td>34795.0</td>\n      <td>37.0</td>\n      <td>2723.671931</td>\n      <td>4226942.0</td>\n      <td>NaN</td>\n      <td>1.592097</td>\n      <td>84000037</td>\n      <td>USA</td>\n      <td>40302.327861</td>\n      <td>NaN</td>\n      <td>NC</td>\n    </tr>\n    <tr>\n      <th>38</th>\n      <td>North Dakota</td>\n      <td>US</td>\n      <td>2020-11-06 05:30:35</td>\n      <td>47.5289</td>\n      <td>-99.7840</td>\n      <td>49837</td>\n      <td>596</td>\n      <td>40017.0</td>\n      <td>9224.0</td>\n      <td>38.0</td>\n      <td>6539.756608</td>\n      <td>873345.0</td>\n      <td>NaN</td>\n      <td>1.195899</td>\n      <td>84000038</td>\n      <td>USA</td>\n      <td>114602.880081</td>\n      <td>NaN</td>\n      <td>ND</td>\n    </tr>\n    <tr>\n      <th>39</th>\n      <td>Northern Mariana Islands</td>\n      <td>US</td>\n      <td>2020-11-06 05:30:35</td>\n      <td>15.0979</td>\n      <td>145.6739</td>\n      <td>98</td>\n      <td>2</td>\n      <td>29.0</td>\n      <td>67.0</td>\n      <td>69.0</td>\n      <td>177.716524</td>\n      <td>16089.0</td>\n      <td>NaN</td>\n      <td>2.040816</td>\n      <td>580</td>\n      <td>MNP</td>\n      <td>29176.338314</td>\n      <td>NaN</td>\n      <td>MP</td>\n    </tr>\n    <tr>\n      <th>40</th>\n      <td>Ohio</td>\n      <td>US</td>\n      <td>2020-11-06 05:30:35</td>\n      <td>40.3888</td>\n      <td>-82.7649</td>\n      <td>235170</td>\n      <td>5461</td>\n      <td>178646.0</td>\n      <td>51063.0</td>\n      <td>39.0</td>\n      <td>2011.874310</td>\n      <td>4695806.0</td>\n      <td>NaN</td>\n      <td>2.322150</td>\n      <td>84000039</td>\n      <td>USA</td>\n      <td>40172.519698</td>\n      <td>NaN</td>\n      <td>OH</td>\n    </tr>\n    <tr>\n      <th>41</th>\n      <td>Oklahoma</td>\n      <td>US</td>\n      <td>2020-11-06 05:30:35</td>\n      <td>35.5653</td>\n      <td>-96.9289</td>\n      <td>129873</td>\n      <td>1413</td>\n      <td>111695.0</td>\n      <td>16765.0</td>\n      <td>40.0</td>\n      <td>3282.131711</td>\n      <td>1673557.0</td>\n      <td>NaN</td>\n      <td>1.087986</td>\n      <td>84000040</td>\n      <td>USA</td>\n      <td>42293.890959</td>\n      <td>NaN</td>\n      <td>OK</td>\n    </tr>\n    <tr>\n      <th>42</th>\n      <td>Oregon</td>\n      <td>US</td>\n      <td>2020-11-06 05:30:35</td>\n      <td>44.5720</td>\n      <td>-122.0709</td>\n      <td>47839</td>\n      <td>710</td>\n      <td>5870.0</td>\n      <td>41259.0</td>\n      <td>41.0</td>\n      <td>1134.233832</td>\n      <td>889027.0</td>\n      <td>NaN</td>\n      <td>1.484145</td>\n      <td>84000041</td>\n      <td>USA</td>\n      <td>21078.293881</td>\n      <td>NaN</td>\n      <td>OR</td>\n    </tr>\n    <tr>\n      <th>43</th>\n      <td>Pennsylvania</td>\n      <td>US</td>\n      <td>2020-11-06 05:30:35</td>\n      <td>40.5908</td>\n      <td>-77.2098</td>\n      <td>225698</td>\n      <td>8923</td>\n      <td>165424.0</td>\n      <td>51351.0</td>\n      <td>42.0</td>\n      <td>1762.991673</td>\n      <td>2611902.0</td>\n      <td>NaN</td>\n      <td>3.953513</td>\n      <td>84000042</td>\n      <td>USA</td>\n      <td>20402.314047</td>\n      <td>NaN</td>\n      <td>PA</td>\n    </tr>\n    <tr>\n      <th>44</th>\n      <td>Puerto Rico</td>\n      <td>US</td>\n      <td>2020-11-06 05:30:35</td>\n      <td>18.2208</td>\n      <td>-66.5901</td>\n      <td>69416</td>\n      <td>855</td>\n      <td>31182.0</td>\n      <td>37379.0</td>\n      <td>72.0</td>\n      <td>2366.394310</td>\n      <td>375388.0</td>\n      <td>NaN</td>\n      <td>1.231705</td>\n      <td>630</td>\n      <td>PRI</td>\n      <td>12796.992440</td>\n      <td>NaN</td>\n      <td>PR</td>\n    </tr>\n    <tr>\n      <th>45</th>\n      <td>Rhode Island</td>\n      <td>US</td>\n      <td>2020-11-06 05:30:35</td>\n      <td>41.6809</td>\n      <td>-71.5118</td>\n      <td>35750</td>\n      <td>1222</td>\n      <td>2881.0</td>\n      <td>31647.0</td>\n      <td>44.0</td>\n      <td>3374.675866</td>\n      <td>1200751.0</td>\n      <td>NaN</td>\n      <td>3.418182</td>\n      <td>84000044</td>\n      <td>USA</td>\n      <td>113346.725054</td>\n      <td>NaN</td>\n      <td>RI</td>\n    </tr>\n    <tr>\n      <th>46</th>\n      <td>South Carolina</td>\n      <td>US</td>\n      <td>2020-11-06 05:30:35</td>\n      <td>33.8569</td>\n      <td>-80.9450</td>\n      <td>181639</td>\n      <td>3992</td>\n      <td>94333.0</td>\n      <td>83314.0</td>\n      <td>45.0</td>\n      <td>3527.851809</td>\n      <td>1873285.0</td>\n      <td>NaN</td>\n      <td>2.197766</td>\n      <td>84000045</td>\n      <td>USA</td>\n      <td>36383.551310</td>\n      <td>NaN</td>\n      <td>SC</td>\n    </tr>\n    <tr>\n      <th>47</th>\n      <td>South Dakota</td>\n      <td>US</td>\n      <td>2020-11-06 05:30:35</td>\n      <td>44.2998</td>\n      <td>-99.4388</td>\n      <td>51151</td>\n      <td>482</td>\n      <td>37059.0</td>\n      <td>13610.0</td>\n      <td>46.0</td>\n      <td>5782.001879</td>\n      <td>269136.0</td>\n      <td>NaN</td>\n      <td>0.942308</td>\n      <td>84000046</td>\n      <td>USA</td>\n      <td>30422.569600</td>\n      <td>NaN</td>\n      <td>SD</td>\n    </tr>\n    <tr>\n      <th>48</th>\n      <td>Tennessee</td>\n      <td>US</td>\n      <td>2020-11-06 05:30:35</td>\n      <td>35.7478</td>\n      <td>-86.6923</td>\n      <td>271771</td>\n      <td>3509</td>\n      <td>243492.0</td>\n      <td>24770.0</td>\n      <td>47.0</td>\n      <td>3979.558875</td>\n      <td>3780132.0</td>\n      <td>NaN</td>\n      <td>1.291161</td>\n      <td>84000047</td>\n      <td>USA</td>\n      <td>55352.697120</td>\n      <td>NaN</td>\n      <td>TN</td>\n    </tr>\n    <tr>\n      <th>49</th>\n      <td>Texas</td>\n      <td>US</td>\n      <td>2020-11-06 05:30:35</td>\n      <td>31.0545</td>\n      <td>-97.5635</td>\n      <td>969490</td>\n      <td>18907</td>\n      <td>802611.0</td>\n      <td>147972.0</td>\n      <td>48.0</td>\n      <td>3343.543864</td>\n      <td>8483728.0</td>\n      <td>NaN</td>\n      <td>1.950201</td>\n      <td>84000048</td>\n      <td>USA</td>\n      <td>29258.390183</td>\n      <td>NaN</td>\n      <td>TX</td>\n    </tr>\n    <tr>\n      <th>50</th>\n      <td>Utah</td>\n      <td>US</td>\n      <td>2020-11-06 05:30:35</td>\n      <td>40.1500</td>\n      <td>-111.8624</td>\n      <td>124292</td>\n      <td>632</td>\n      <td>89837.0</td>\n      <td>33823.0</td>\n      <td>49.0</td>\n      <td>3876.906684</td>\n      <td>1447849.0</td>\n      <td>NaN</td>\n      <td>0.508480</td>\n      <td>84000049</td>\n      <td>USA</td>\n      <td>45161.196747</td>\n      <td>NaN</td>\n      <td>UT</td>\n    </tr>\n    <tr>\n      <th>51</th>\n      <td>Vermont</td>\n      <td>US</td>\n      <td>2020-11-06 05:30:35</td>\n      <td>44.0459</td>\n      <td>-72.7107</td>\n      <td>2303</td>\n      <td>58</td>\n      <td>1888.0</td>\n      <td>357.0</td>\n      <td>50.0</td>\n      <td>369.077019</td>\n      <td>424422.0</td>\n      <td>NaN</td>\n      <td>2.518454</td>\n      <td>84000050</td>\n      <td>USA</td>\n      <td>68017.545181</td>\n      <td>NaN</td>\n      <td>VT</td>\n    </tr>\n    <tr>\n      <th>52</th>\n      <td>Virgin Islands</td>\n      <td>US</td>\n      <td>2020-11-06 05:30:35</td>\n      <td>18.3358</td>\n      <td>-64.8963</td>\n      <td>1388</td>\n      <td>23</td>\n      <td>1332.0</td>\n      <td>33.0</td>\n      <td>78.0</td>\n      <td>1293.955327</td>\n      <td>24904.0</td>\n      <td>NaN</td>\n      <td>1.657061</td>\n      <td>850</td>\n      <td>VIR</td>\n      <td>23216.616325</td>\n      <td>NaN</td>\n      <td>VI</td>\n    </tr>\n    <tr>\n      <th>53</th>\n      <td>Virginia</td>\n      <td>US</td>\n      <td>2020-11-06 05:30:35</td>\n      <td>37.7693</td>\n      <td>-78.1700</td>\n      <td>187202</td>\n      <td>3688</td>\n      <td>21289.0</td>\n      <td>162225.0</td>\n      <td>51.0</td>\n      <td>2193.211684</td>\n      <td>2719206.0</td>\n      <td>NaN</td>\n      <td>1.970064</td>\n      <td>84000051</td>\n      <td>USA</td>\n      <td>31857.535552</td>\n      <td>NaN</td>\n      <td>VA</td>\n    </tr>\n    <tr>\n      <th>54</th>\n      <td>Washington</td>\n      <td>US</td>\n      <td>2020-11-06 05:30:35</td>\n      <td>47.4009</td>\n      <td>-121.4905</td>\n      <td>112550</td>\n      <td>2431</td>\n      <td>NaN</td>\n      <td>110119.0</td>\n      <td>53.0</td>\n      <td>1478.024708</td>\n      <td>2519494.0</td>\n      <td>NaN</td>\n      <td>2.159929</td>\n      <td>84000053</td>\n      <td>USA</td>\n      <td>33086.400557</td>\n      <td>NaN</td>\n      <td>WA</td>\n    </tr>\n    <tr>\n      <th>55</th>\n      <td>West Virginia</td>\n      <td>US</td>\n      <td>2020-11-06 05:30:35</td>\n      <td>38.4912</td>\n      <td>-80.9545</td>\n      <td>26547</td>\n      <td>482</td>\n      <td>20175.0</td>\n      <td>5890.0</td>\n      <td>54.0</td>\n      <td>1481.295898</td>\n      <td>817092.0</td>\n      <td>NaN</td>\n      <td>1.815648</td>\n      <td>84000054</td>\n      <td>USA</td>\n      <td>45592.911742</td>\n      <td>NaN</td>\n      <td>WV</td>\n    </tr>\n    <tr>\n      <th>56</th>\n      <td>Wisconsin</td>\n      <td>US</td>\n      <td>2020-11-06 05:30:35</td>\n      <td>44.2685</td>\n      <td>-89.6165</td>\n      <td>249924</td>\n      <td>2194</td>\n      <td>193369.0</td>\n      <td>54361.0</td>\n      <td>55.0</td>\n      <td>4292.431653</td>\n      <td>3440030.0</td>\n      <td>NaN</td>\n      <td>0.877867</td>\n      <td>84000055</td>\n      <td>USA</td>\n      <td>59082.335669</td>\n      <td>NaN</td>\n      <td>WI</td>\n    </tr>\n    <tr>\n      <th>57</th>\n      <td>Wyoming</td>\n      <td>US</td>\n      <td>2020-11-06 05:30:35</td>\n      <td>42.7560</td>\n      <td>-107.3025</td>\n      <td>15409</td>\n      <td>105</td>\n      <td>9709.0</td>\n      <td>5595.0</td>\n      <td>56.0</td>\n      <td>2662.420800</td>\n      <td>138213.0</td>\n      <td>NaN</td>\n      <td>0.681420</td>\n      <td>84000056</td>\n      <td>USA</td>\n      <td>23880.924530</td>\n      <td>NaN</td>\n      <td>WY</td>\n    </tr>\n  </tbody>\n</table>\n</div>"
     },
     "metadata": {},
     "execution_count": 61
    }
   ],
   "source": [
    "# loop through and assign abbreviation acoordinely\n",
    "for index, row in us_covid_df.iterrows():\n",
    "    us_covid_df.loc[index, \"State\"] = us_state_abbrev[row[0]]\n",
    "\n",
    "    if row[\"State\"] == \"DP\":\n",
    "        us_covid_df.loc[index, \"Lat\"] = 14.5214\n",
    "        us_covid_df.loc[index, \"Long_\"] = 120.9709\n",
    "\n",
    "    elif row[\"State\"] == \"GP\":\n",
    "        us_covid_df.loc[index, \"Lat\"] = 32.1584\n",
    "        us_covid_df.loc[index, \"Long_\"] = 117.5676\n",
    "\n",
    "us_covid_df"
   ]
  },
  {
   "cell_type": "code",
   "execution_count": 62,
   "metadata": {},
   "outputs": [],
   "source": [
    "# loop through and assign abbreviation acoordinely\n",
    "# for index, row in us_covid_df.iterrows():\n",
    "#     if row[\"State\"] == \"DP\":\n",
    "#         us_covid_df.loc[index, \"Lat\"] = 14.5214\n",
    "#         us_covid_df.loc[index, \"Long_\"] = 120.9709\n",
    "\n",
    "#     elif row[\"State\"] == \"GP\":\n",
    "#         us_covid_df.loc[index, \"Lat\"] = 32.1584\n",
    "#         us_covid_df.loc[index, \"Long_\"] = 117.5676\n",
    "\n",
    "    # if row[\"State\"] == FSM:\n",
    "    #     us_covid_df.loc[index, \"Lat\"] = 6.8874\n",
    "    #     us_covid_df.loc[index, \"Long\"] = 158.2150\n",
    "\n",
    "    # elif row[\"State\"] == NYC:\n",
    "    #     us_covid_df.loc[index, \"Lat\"] = 40.7128\n",
    "    #     us_covid_df.loc[index, \"Long\"] = -74.0060\n",
    "\n",
    "    # elif row[\"State\"] == PW:\n",
    "    #     us_covid_df.loc[index, \"Lat\"] = 7.5150\n",
    "    #     us_covid_df.loc[index, \"Long\"] = 134.5825\n",
    "\n",
    "    # elif row[\"State\"] == RMI:\n",
    "    #     us_covid_df.loc[index, \"Lat\"] = 7.1315\n",
    "    #     us_covid_df.loc[index, \"Long\"] = 171.1845\n",
    "\n",
    "# us_covid_df.head()"
   ]
  },
  {
   "cell_type": "code",
   "execution_count": 63,
   "metadata": {},
   "outputs": [
    {
     "output_type": "execute_result",
     "data": {
      "text/plain": [
       "  State      Lat      Long  Death_percent  Recovery_percent\n",
       "0    AL  32.3182  -86.9023       1.519397          0.424141\n",
       "1    AK  61.3707 -152.4044       0.462199          0.392044\n",
       "2    AS -14.2710 -170.1320       0.000000          0.000000\n",
       "3    AZ  33.7298 -111.4312       2.408137          0.167414\n",
       "4    AR  34.9697  -92.3731       1.735685          0.893115"
      ],
      "text/html": "<div>\n<style scoped>\n    .dataframe tbody tr th:only-of-type {\n        vertical-align: middle;\n    }\n\n    .dataframe tbody tr th {\n        vertical-align: top;\n    }\n\n    .dataframe thead th {\n        text-align: right;\n    }\n</style>\n<table border=\"1\" class=\"dataframe\">\n  <thead>\n    <tr style=\"text-align: right;\">\n      <th></th>\n      <th>State</th>\n      <th>Lat</th>\n      <th>Long</th>\n      <th>Death_percent</th>\n      <th>Recovery_percent</th>\n    </tr>\n  </thead>\n  <tbody>\n    <tr>\n      <th>0</th>\n      <td>AL</td>\n      <td>32.3182</td>\n      <td>-86.9023</td>\n      <td>1.519397</td>\n      <td>0.424141</td>\n    </tr>\n    <tr>\n      <th>1</th>\n      <td>AK</td>\n      <td>61.3707</td>\n      <td>-152.4044</td>\n      <td>0.462199</td>\n      <td>0.392044</td>\n    </tr>\n    <tr>\n      <th>2</th>\n      <td>AS</td>\n      <td>-14.2710</td>\n      <td>-170.1320</td>\n      <td>0.000000</td>\n      <td>0.000000</td>\n    </tr>\n    <tr>\n      <th>3</th>\n      <td>AZ</td>\n      <td>33.7298</td>\n      <td>-111.4312</td>\n      <td>2.408137</td>\n      <td>0.167414</td>\n    </tr>\n    <tr>\n      <th>4</th>\n      <td>AR</td>\n      <td>34.9697</td>\n      <td>-92.3731</td>\n      <td>1.735685</td>\n      <td>0.893115</td>\n    </tr>\n  </tbody>\n</table>\n</div>"
     },
     "metadata": {},
     "execution_count": 63
    }
   ],
   "source": [
    "# rename columns and add recovery percent column\n",
    "us_covid_df = us_covid_df.rename(columns={\"Long_\": \"Long\", \"Mortality_Rate\":\"Death_percent\"})\n",
    "us_covid_df[\"Recovery_percent\"]=us_covid_df.Recovered/us_covid_df.Confirmed\n",
    "us_covid_df = us_covid_df[[\"State\", \"Lat\", \"Long\", \"Death_percent\", \"Recovery_percent\"]].fillna(0)\n",
    "us_covid_df.head()"
   ]
  },
  {
   "cell_type": "code",
   "execution_count": 64,
   "metadata": {},
   "outputs": [
    {
     "output_type": "execute_result",
     "data": {
      "text/plain": [
       "  State  Total_cases  Case_rate_per_100k  Total_deaths  Death_rate_per_100k  \\\n",
       "0    AK        17072                2315            84                   11   \n",
       "1    AL       199158                4074          3026                   61   \n",
       "2    AR       117360                3894          2037                   67   \n",
       "3    AS            0                   0             0                    0   \n",
       "4    AZ       252768                3524          6087                   84   \n",
       "\n",
       "       Lat      Long  Death_percent  Recovery_percent  \n",
       "0  61.3707 -152.4044       0.462199          0.392044  \n",
       "1  32.3182  -86.9023       1.519397          0.424141  \n",
       "2  34.9697  -92.3731       1.735685          0.893115  \n",
       "3 -14.2710 -170.1320       0.000000          0.000000  \n",
       "4  33.7298 -111.4312       2.408137          0.167414  "
      ],
      "text/html": "<div>\n<style scoped>\n    .dataframe tbody tr th:only-of-type {\n        vertical-align: middle;\n    }\n\n    .dataframe tbody tr th {\n        vertical-align: top;\n    }\n\n    .dataframe thead th {\n        text-align: right;\n    }\n</style>\n<table border=\"1\" class=\"dataframe\">\n  <thead>\n    <tr style=\"text-align: right;\">\n      <th></th>\n      <th>State</th>\n      <th>Total_cases</th>\n      <th>Case_rate_per_100k</th>\n      <th>Total_deaths</th>\n      <th>Death_rate_per_100k</th>\n      <th>Lat</th>\n      <th>Long</th>\n      <th>Death_percent</th>\n      <th>Recovery_percent</th>\n    </tr>\n  </thead>\n  <tbody>\n    <tr>\n      <th>0</th>\n      <td>AK</td>\n      <td>17072</td>\n      <td>2315</td>\n      <td>84</td>\n      <td>11</td>\n      <td>61.3707</td>\n      <td>-152.4044</td>\n      <td>0.462199</td>\n      <td>0.392044</td>\n    </tr>\n    <tr>\n      <th>1</th>\n      <td>AL</td>\n      <td>199158</td>\n      <td>4074</td>\n      <td>3026</td>\n      <td>61</td>\n      <td>32.3182</td>\n      <td>-86.9023</td>\n      <td>1.519397</td>\n      <td>0.424141</td>\n    </tr>\n    <tr>\n      <th>2</th>\n      <td>AR</td>\n      <td>117360</td>\n      <td>3894</td>\n      <td>2037</td>\n      <td>67</td>\n      <td>34.9697</td>\n      <td>-92.3731</td>\n      <td>1.735685</td>\n      <td>0.893115</td>\n    </tr>\n    <tr>\n      <th>3</th>\n      <td>AS</td>\n      <td>0</td>\n      <td>0</td>\n      <td>0</td>\n      <td>0</td>\n      <td>-14.2710</td>\n      <td>-170.1320</td>\n      <td>0.000000</td>\n      <td>0.000000</td>\n    </tr>\n    <tr>\n      <th>4</th>\n      <td>AZ</td>\n      <td>252768</td>\n      <td>3524</td>\n      <td>6087</td>\n      <td>84</td>\n      <td>33.7298</td>\n      <td>-111.4312</td>\n      <td>2.408137</td>\n      <td>0.167414</td>\n    </tr>\n  </tbody>\n</table>\n</div>"
     },
     "metadata": {},
     "execution_count": 64
    }
   ],
   "source": [
    "# merge two df into one dataframe using left joint.\n",
    "us_covid_combine_df = pd.merge(covid_stats_df, us_covid_df, how='left', on=['State','State'])\n",
    "us_covid_combine_df.head()"
   ]
  },
  {
   "cell_type": "code",
   "execution_count": 65,
   "metadata": {},
   "outputs": [],
   "source": [
    "# save to a csv file\n",
    "us_covid_combine_df.to_csv('../Data/states.csv')"
   ]
  },
  {
   "source": [
    "## World COVID-19 Data by Country"
   ],
   "cell_type": "markdown",
   "metadata": {}
  },
  {
   "cell_type": "code",
   "execution_count": 66,
   "metadata": {},
   "outputs": [
    {
     "output_type": "execute_result",
     "data": {
      "text/plain": [
       "   FIPS Admin2 Province_State Country_Region          Last_Update       Lat  \\\n",
       "0   NaN    NaN            NaN    Afghanistan  2020-11-06 05:24:55  33.93911   \n",
       "1   NaN    NaN            NaN        Albania  2020-11-06 05:24:55  41.15330   \n",
       "2   NaN    NaN            NaN        Algeria  2020-11-06 05:24:55  28.03390   \n",
       "3   NaN    NaN            NaN        Andorra  2020-11-06 05:24:55  42.50630   \n",
       "4   NaN    NaN            NaN         Angola  2020-11-06 05:24:55 -11.20270   \n",
       "\n",
       "       Long_  Confirmed  Deaths  Recovered   Active Combined_Key  \\\n",
       "0  67.709953      41935    1554      34440   5941.0  Afghanistan   \n",
       "1  20.168300      22721     543      11696  10482.0      Albania   \n",
       "2   1.659600      60169    2011      41244  16914.0      Algeria   \n",
       "3   1.521800       5135      75       3858   1202.0      Andorra   \n",
       "4  17.873900      12102     299       5350   6453.0       Angola   \n",
       "\n",
       "   Incidence_Rate  Case-Fatality_Ratio  \n",
       "0      107.723573             3.705735  \n",
       "1      789.526722             2.389860  \n",
       "2      137.212244             3.342253  \n",
       "3     6645.958714             1.460565  \n",
       "4       36.821948             2.470666  "
      ],
      "text/html": "<div>\n<style scoped>\n    .dataframe tbody tr th:only-of-type {\n        vertical-align: middle;\n    }\n\n    .dataframe tbody tr th {\n        vertical-align: top;\n    }\n\n    .dataframe thead th {\n        text-align: right;\n    }\n</style>\n<table border=\"1\" class=\"dataframe\">\n  <thead>\n    <tr style=\"text-align: right;\">\n      <th></th>\n      <th>FIPS</th>\n      <th>Admin2</th>\n      <th>Province_State</th>\n      <th>Country_Region</th>\n      <th>Last_Update</th>\n      <th>Lat</th>\n      <th>Long_</th>\n      <th>Confirmed</th>\n      <th>Deaths</th>\n      <th>Recovered</th>\n      <th>Active</th>\n      <th>Combined_Key</th>\n      <th>Incidence_Rate</th>\n      <th>Case-Fatality_Ratio</th>\n    </tr>\n  </thead>\n  <tbody>\n    <tr>\n      <th>0</th>\n      <td>NaN</td>\n      <td>NaN</td>\n      <td>NaN</td>\n      <td>Afghanistan</td>\n      <td>2020-11-06 05:24:55</td>\n      <td>33.93911</td>\n      <td>67.709953</td>\n      <td>41935</td>\n      <td>1554</td>\n      <td>34440</td>\n      <td>5941.0</td>\n      <td>Afghanistan</td>\n      <td>107.723573</td>\n      <td>3.705735</td>\n    </tr>\n    <tr>\n      <th>1</th>\n      <td>NaN</td>\n      <td>NaN</td>\n      <td>NaN</td>\n      <td>Albania</td>\n      <td>2020-11-06 05:24:55</td>\n      <td>41.15330</td>\n      <td>20.168300</td>\n      <td>22721</td>\n      <td>543</td>\n      <td>11696</td>\n      <td>10482.0</td>\n      <td>Albania</td>\n      <td>789.526722</td>\n      <td>2.389860</td>\n    </tr>\n    <tr>\n      <th>2</th>\n      <td>NaN</td>\n      <td>NaN</td>\n      <td>NaN</td>\n      <td>Algeria</td>\n      <td>2020-11-06 05:24:55</td>\n      <td>28.03390</td>\n      <td>1.659600</td>\n      <td>60169</td>\n      <td>2011</td>\n      <td>41244</td>\n      <td>16914.0</td>\n      <td>Algeria</td>\n      <td>137.212244</td>\n      <td>3.342253</td>\n    </tr>\n    <tr>\n      <th>3</th>\n      <td>NaN</td>\n      <td>NaN</td>\n      <td>NaN</td>\n      <td>Andorra</td>\n      <td>2020-11-06 05:24:55</td>\n      <td>42.50630</td>\n      <td>1.521800</td>\n      <td>5135</td>\n      <td>75</td>\n      <td>3858</td>\n      <td>1202.0</td>\n      <td>Andorra</td>\n      <td>6645.958714</td>\n      <td>1.460565</td>\n    </tr>\n    <tr>\n      <th>4</th>\n      <td>NaN</td>\n      <td>NaN</td>\n      <td>NaN</td>\n      <td>Angola</td>\n      <td>2020-11-06 05:24:55</td>\n      <td>-11.20270</td>\n      <td>17.873900</td>\n      <td>12102</td>\n      <td>299</td>\n      <td>5350</td>\n      <td>6453.0</td>\n      <td>Angola</td>\n      <td>36.821948</td>\n      <td>2.470666</td>\n    </tr>\n  </tbody>\n</table>\n</div>"
     },
     "metadata": {},
     "execution_count": 66
    }
   ],
   "source": [
    "# upload file and read into a pandas dataframe\n",
    "file = \"../Data/World_COVID-19_Stats.csv\"\n",
    "world_covid_df = pd.read_csv(file)\n",
    "world_covid_df.head()"
   ]
  },
  {
   "cell_type": "code",
   "execution_count": 67,
   "metadata": {},
   "outputs": [
    {
     "output_type": "execute_result",
     "data": {
      "text/plain": [
       "  Country_Region       Lat      Long_  Confirmed  Deaths  Recovered  \\\n",
       "0    Afghanistan  33.93911  67.709953      41935    1554      34440   \n",
       "1        Albania  41.15330  20.168300      22721     543      11696   \n",
       "2        Algeria  28.03390   1.659600      60169    2011      41244   \n",
       "3        Andorra  42.50630   1.521800       5135      75       3858   \n",
       "4         Angola -11.20270  17.873900      12102     299       5350   \n",
       "\n",
       "   Case-Fatality_Ratio  \n",
       "0             3.705735  \n",
       "1             2.389860  \n",
       "2             3.342253  \n",
       "3             1.460565  \n",
       "4             2.470666  "
      ],
      "text/html": "<div>\n<style scoped>\n    .dataframe tbody tr th:only-of-type {\n        vertical-align: middle;\n    }\n\n    .dataframe tbody tr th {\n        vertical-align: top;\n    }\n\n    .dataframe thead th {\n        text-align: right;\n    }\n</style>\n<table border=\"1\" class=\"dataframe\">\n  <thead>\n    <tr style=\"text-align: right;\">\n      <th></th>\n      <th>Country_Region</th>\n      <th>Lat</th>\n      <th>Long_</th>\n      <th>Confirmed</th>\n      <th>Deaths</th>\n      <th>Recovered</th>\n      <th>Case-Fatality_Ratio</th>\n    </tr>\n  </thead>\n  <tbody>\n    <tr>\n      <th>0</th>\n      <td>Afghanistan</td>\n      <td>33.93911</td>\n      <td>67.709953</td>\n      <td>41935</td>\n      <td>1554</td>\n      <td>34440</td>\n      <td>3.705735</td>\n    </tr>\n    <tr>\n      <th>1</th>\n      <td>Albania</td>\n      <td>41.15330</td>\n      <td>20.168300</td>\n      <td>22721</td>\n      <td>543</td>\n      <td>11696</td>\n      <td>2.389860</td>\n    </tr>\n    <tr>\n      <th>2</th>\n      <td>Algeria</td>\n      <td>28.03390</td>\n      <td>1.659600</td>\n      <td>60169</td>\n      <td>2011</td>\n      <td>41244</td>\n      <td>3.342253</td>\n    </tr>\n    <tr>\n      <th>3</th>\n      <td>Andorra</td>\n      <td>42.50630</td>\n      <td>1.521800</td>\n      <td>5135</td>\n      <td>75</td>\n      <td>3858</td>\n      <td>1.460565</td>\n    </tr>\n    <tr>\n      <th>4</th>\n      <td>Angola</td>\n      <td>-11.20270</td>\n      <td>17.873900</td>\n      <td>12102</td>\n      <td>299</td>\n      <td>5350</td>\n      <td>2.470666</td>\n    </tr>\n  </tbody>\n</table>\n</div>"
     },
     "metadata": {},
     "execution_count": 67
    }
   ],
   "source": [
    "# select relevant columns only\n",
    "world_covid_df = world_covid_df[[\"Country_Region\", \"Lat\", \"Long_\", \"Confirmed\", \"Deaths\", \"Recovered\", \"Case-Fatality_Ratio\"]]\n",
    "world_covid_df.head()"
   ]
  },
  {
   "cell_type": "code",
   "execution_count": 68,
   "metadata": {},
   "outputs": [
    {
     "output_type": "execute_result",
     "data": {
      "text/plain": [
       "       Country       Lat       Long  Confirmed  Deaths  Recovered  \\\n",
       "0  Afghanistan  33.93911  67.709953      41935    1554      34440   \n",
       "1      Albania  41.15330  20.168300      22721     543      11696   \n",
       "2      Algeria  28.03390   1.659600      60169    2011      41244   \n",
       "3      Andorra  42.50630   1.521800       5135      75       3858   \n",
       "4       Angola -11.20270  17.873900      12102     299       5350   \n",
       "\n",
       "   Death_percent  Recovery_percent  \n",
       "0       3.705735          0.821271  \n",
       "1       2.389860          0.514766  \n",
       "2       3.342253          0.685469  \n",
       "3       1.460565          0.751315  \n",
       "4       2.470666          0.442076  "
      ],
      "text/html": "<div>\n<style scoped>\n    .dataframe tbody tr th:only-of-type {\n        vertical-align: middle;\n    }\n\n    .dataframe tbody tr th {\n        vertical-align: top;\n    }\n\n    .dataframe thead th {\n        text-align: right;\n    }\n</style>\n<table border=\"1\" class=\"dataframe\">\n  <thead>\n    <tr style=\"text-align: right;\">\n      <th></th>\n      <th>Country</th>\n      <th>Lat</th>\n      <th>Long</th>\n      <th>Confirmed</th>\n      <th>Deaths</th>\n      <th>Recovered</th>\n      <th>Death_percent</th>\n      <th>Recovery_percent</th>\n    </tr>\n  </thead>\n  <tbody>\n    <tr>\n      <th>0</th>\n      <td>Afghanistan</td>\n      <td>33.93911</td>\n      <td>67.709953</td>\n      <td>41935</td>\n      <td>1554</td>\n      <td>34440</td>\n      <td>3.705735</td>\n      <td>0.821271</td>\n    </tr>\n    <tr>\n      <th>1</th>\n      <td>Albania</td>\n      <td>41.15330</td>\n      <td>20.168300</td>\n      <td>22721</td>\n      <td>543</td>\n      <td>11696</td>\n      <td>2.389860</td>\n      <td>0.514766</td>\n    </tr>\n    <tr>\n      <th>2</th>\n      <td>Algeria</td>\n      <td>28.03390</td>\n      <td>1.659600</td>\n      <td>60169</td>\n      <td>2011</td>\n      <td>41244</td>\n      <td>3.342253</td>\n      <td>0.685469</td>\n    </tr>\n    <tr>\n      <th>3</th>\n      <td>Andorra</td>\n      <td>42.50630</td>\n      <td>1.521800</td>\n      <td>5135</td>\n      <td>75</td>\n      <td>3858</td>\n      <td>1.460565</td>\n      <td>0.751315</td>\n    </tr>\n    <tr>\n      <th>4</th>\n      <td>Angola</td>\n      <td>-11.20270</td>\n      <td>17.873900</td>\n      <td>12102</td>\n      <td>299</td>\n      <td>5350</td>\n      <td>2.470666</td>\n      <td>0.442076</td>\n    </tr>\n  </tbody>\n</table>\n</div>"
     },
     "metadata": {},
     "execution_count": 68
    }
   ],
   "source": [
    "# rename columns and add a recovery percent column\n",
    "world_covid_df = world_covid_df.rename(columns={\"Long_\": \"Long\", \"Case-Fatality_Ratio\":\"Death_percent\", \"Country_Region\": \"Country\"})\n",
    "world_covid_df[\"Recovery_percent\"]=world_covid_df.Recovered/world_covid_df.Confirmed\n",
    "world_covid_df.head()"
   ]
  },
  {
   "cell_type": "code",
   "execution_count": 69,
   "metadata": {},
   "outputs": [
    {
     "output_type": "execute_result",
     "data": {
      "text/plain": [
       "                 Country        Lat       Long  Confirmed  Deaths  Recovered  \\\n",
       "0            Afghanistan  33.939110  67.709953      41935    1554      34440   \n",
       "1                Albania  41.153300  20.168300      22721     543      11696   \n",
       "2                Algeria  28.033900   1.659600      60169    2011      41244   \n",
       "3                Andorra  42.506300   1.521800       5135      75       3858   \n",
       "4                 Angola -11.202700  17.873900      12102     299       5350   \n",
       "...                  ...        ...        ...        ...     ...        ...   \n",
       "3955  West Bank and Gaza  31.952200  35.233200      56672     508      48680   \n",
       "3956      Western Sahara  24.215500 -12.885800         10       1          8   \n",
       "3957               Yemen  15.552727  48.516388       2063     601       1375   \n",
       "3958              Zambia -13.133897  27.849332      16770     349      15827   \n",
       "3959            Zimbabwe -19.015438  29.154857       8444     248       7975   \n",
       "\n",
       "      Death_percent  Recovery_percent  \n",
       "0          3.705735          0.821271  \n",
       "1          2.389860          0.514766  \n",
       "2          3.342253          0.685469  \n",
       "3          1.460565          0.751315  \n",
       "4          2.470666          0.442076  \n",
       "...             ...               ...  \n",
       "3955       0.896386          0.858978  \n",
       "3956      10.000000          0.800000  \n",
       "3957      29.132332          0.666505  \n",
       "3958       2.081097          0.943769  \n",
       "3959       2.936997          0.944458  \n",
       "\n",
       "[3960 rows x 8 columns]"
      ],
      "text/html": "<div>\n<style scoped>\n    .dataframe tbody tr th:only-of-type {\n        vertical-align: middle;\n    }\n\n    .dataframe tbody tr th {\n        vertical-align: top;\n    }\n\n    .dataframe thead th {\n        text-align: right;\n    }\n</style>\n<table border=\"1\" class=\"dataframe\">\n  <thead>\n    <tr style=\"text-align: right;\">\n      <th></th>\n      <th>Country</th>\n      <th>Lat</th>\n      <th>Long</th>\n      <th>Confirmed</th>\n      <th>Deaths</th>\n      <th>Recovered</th>\n      <th>Death_percent</th>\n      <th>Recovery_percent</th>\n    </tr>\n  </thead>\n  <tbody>\n    <tr>\n      <th>0</th>\n      <td>Afghanistan</td>\n      <td>33.939110</td>\n      <td>67.709953</td>\n      <td>41935</td>\n      <td>1554</td>\n      <td>34440</td>\n      <td>3.705735</td>\n      <td>0.821271</td>\n    </tr>\n    <tr>\n      <th>1</th>\n      <td>Albania</td>\n      <td>41.153300</td>\n      <td>20.168300</td>\n      <td>22721</td>\n      <td>543</td>\n      <td>11696</td>\n      <td>2.389860</td>\n      <td>0.514766</td>\n    </tr>\n    <tr>\n      <th>2</th>\n      <td>Algeria</td>\n      <td>28.033900</td>\n      <td>1.659600</td>\n      <td>60169</td>\n      <td>2011</td>\n      <td>41244</td>\n      <td>3.342253</td>\n      <td>0.685469</td>\n    </tr>\n    <tr>\n      <th>3</th>\n      <td>Andorra</td>\n      <td>42.506300</td>\n      <td>1.521800</td>\n      <td>5135</td>\n      <td>75</td>\n      <td>3858</td>\n      <td>1.460565</td>\n      <td>0.751315</td>\n    </tr>\n    <tr>\n      <th>4</th>\n      <td>Angola</td>\n      <td>-11.202700</td>\n      <td>17.873900</td>\n      <td>12102</td>\n      <td>299</td>\n      <td>5350</td>\n      <td>2.470666</td>\n      <td>0.442076</td>\n    </tr>\n    <tr>\n      <th>...</th>\n      <td>...</td>\n      <td>...</td>\n      <td>...</td>\n      <td>...</td>\n      <td>...</td>\n      <td>...</td>\n      <td>...</td>\n      <td>...</td>\n    </tr>\n    <tr>\n      <th>3955</th>\n      <td>West Bank and Gaza</td>\n      <td>31.952200</td>\n      <td>35.233200</td>\n      <td>56672</td>\n      <td>508</td>\n      <td>48680</td>\n      <td>0.896386</td>\n      <td>0.858978</td>\n    </tr>\n    <tr>\n      <th>3956</th>\n      <td>Western Sahara</td>\n      <td>24.215500</td>\n      <td>-12.885800</td>\n      <td>10</td>\n      <td>1</td>\n      <td>8</td>\n      <td>10.000000</td>\n      <td>0.800000</td>\n    </tr>\n    <tr>\n      <th>3957</th>\n      <td>Yemen</td>\n      <td>15.552727</td>\n      <td>48.516388</td>\n      <td>2063</td>\n      <td>601</td>\n      <td>1375</td>\n      <td>29.132332</td>\n      <td>0.666505</td>\n    </tr>\n    <tr>\n      <th>3958</th>\n      <td>Zambia</td>\n      <td>-13.133897</td>\n      <td>27.849332</td>\n      <td>16770</td>\n      <td>349</td>\n      <td>15827</td>\n      <td>2.081097</td>\n      <td>0.943769</td>\n    </tr>\n    <tr>\n      <th>3959</th>\n      <td>Zimbabwe</td>\n      <td>-19.015438</td>\n      <td>29.154857</td>\n      <td>8444</td>\n      <td>248</td>\n      <td>7975</td>\n      <td>2.936997</td>\n      <td>0.944458</td>\n    </tr>\n  </tbody>\n</table>\n<p>3960 rows × 8 columns</p>\n</div>"
     },
     "metadata": {},
     "execution_count": 69
    }
   ],
   "source": [
    "# add missing geoinfo to country\n",
    "for index, row in world_covid_df.iterrows(): \n",
    "    if row[\"Country\"] == \"Canada\":\n",
    "        world_covid_df.loc[index, \"Lat\"] = 56.1304\n",
    "        world_covid_df.loc[index, \"Long\"] = 106.3468\n",
    "world_covid_df"
   ]
  },
  {
   "cell_type": "code",
   "execution_count": 70,
   "metadata": {},
   "outputs": [],
   "source": [
    "# save file as a csv\n",
    "world_covid_df.to_csv('../Data/world.csv')"
   ]
  },
  {
   "source": [
    "## build SQlite DataBase"
   ],
   "cell_type": "markdown",
   "metadata": {}
  },
  {
   "cell_type": "code",
   "execution_count": 80,
   "metadata": {},
   "outputs": [],
   "source": [
    "# import modules\n",
    "import sqlite3\n",
    "from sqlite3 import Error\n",
    "\n",
    "# series of functions to  build database tables in sqlite database.\n",
    "\n",
    "def create_connection(db_file):\n",
    "    \"\"\" create a database connection to the SQLite database\n",
    "        specified by db_file\n",
    "    :param db_file: database file\n",
    "    :return: Connection object or None\n",
    "    \"\"\"\n",
    "    conn = None\n",
    "    try:\n",
    "        conn = sqlite3.connect(db_file)\n",
    "        return conn\n",
    "    except Error as e:\n",
    "        print(e)\n",
    "    return conn\n",
    "def create_table(conn, create_table_sql):\n",
    "    \"\"\" create a table from the create_table_sql statement\n",
    "    :param conn: Connection object\n",
    "    :param create_table_sql: a CREATE TABLE statement\n",
    "    :return:\n",
    "    \"\"\"\n",
    "    try:\n",
    "        c = conn.cursor()\n",
    "        c.execute(create_table_sql)\n",
    "    except Error as e:\n",
    "        print(e)\n",
    "\n",
    "def drop_table(conn, drop_table_sql):\n",
    "    \"\"\" drop a table from the drop_table_sql statement\n",
    "    :param conn: Connection object\n",
    "    :param drop_table_sql: a drop TABLE statement\n",
    "    :return:\n",
    "    \"\"\"\n",
    "    try:\n",
    "        c = conn.cursor()\n",
    "        c.execute(drop_table_sql)\n",
    "    except Error as e:\n",
    "        print(e)\n",
    "\n",
    "# build empty tables with correct columns names\n",
    "def main():\n",
    "    database = r\"../DataBase/covid-19.db\"\n",
    "    sql_create_monthly_table = \"\"\"CREATE TABLE monthly(\n",
    "                                        id INTEGER PRIMARY KEY AUTOINCREMENT, \n",
    "                                        Date text NOT NULL,\n",
    "                                        State text,\n",
    "                                        Average_cases float,\n",
    "                                        Average_death float,\n",
    "                                        Average_recovery float,\n",
    "                                        Death_percent float,\n",
    "                                        Recovery_percent float\n",
    "                                    ); \"\"\"\n",
    "\n",
    "    sql_drop_monthly_table = \"\"\"DROP TABLE if exists monthly;\"\"\"\n",
    "    \n",
    "    sql_create_states_table = \"\"\"CREATE TABLE states(\n",
    "                                        id INTEGER PRIMARY KEY AUTOINCREMENT,\n",
    "                                        State text,\n",
    "                                        Total_cases float,\n",
    "                                        Case_rate_per_100k float,\n",
    "                                        Total_deaths float,\n",
    "                                        Death_rate_per_100k float,\n",
    "                                        Lat float,\n",
    "                                        Long float,\n",
    "                                        Death_percent float,\n",
    "                                        Recovery_percent float\n",
    "                                );\"\"\"\n",
    "\n",
    "    sql_drop_states_table = \"\"\"DROP TABLE if exists states;\"\"\"    \n",
    "\n",
    "    sql_create_world_table = \"\"\"CREATE TABLE world(\n",
    "                                        id INTEGER PRIMARY KEY AUTOINCREMENT,\n",
    "                                        Country text,\n",
    "                                        Lat float,\n",
    "                                        Long float,\n",
    "                                        Confirmed float,\n",
    "                                        Deaths float,\n",
    "                                        Recovered float,\n",
    "                                        Recovery_percent float,\n",
    "                                        Death_percent float\n",
    "                                );\"\"\"\n",
    "\n",
    "    sql_drop_world_table = \"\"\"DROP TABLE if exists world;\"\"\"\n",
    "\n",
    "    # create a database connection\n",
    "    conn = create_connection(database)\n",
    "    \n",
    "    # create tables\n",
    "    if conn is not None:\n",
    "        # create covid_monthly table\n",
    "        drop_table(conn, sql_drop_monthly_table)\n",
    "        create_table(conn, sql_create_monthly_table)\n",
    "\n",
    "        # create covid_states table\n",
    "        drop_table(conn, sql_drop_states_table)\n",
    "        create_table(conn, sql_create_states_table)\n",
    "\n",
    "        #create covid_world table\n",
    "        drop_table(conn, sql_drop_world_table)\n",
    "        create_table(conn, sql_create_world_table)\n",
    "        \n",
    "    # error handling\n",
    "    else:\n",
    "        print(\"Error! cannot create the database connection.\")\n",
    "if __name__ == '__main__':\n",
    "    main()"
   ]
  },
  {
   "cell_type": "code",
   "execution_count": 81,
   "metadata": {},
   "outputs": [],
   "source": [
    "# create engine connection to database\n",
    "engine = create_engine('sqlite:///../DataBase/covid-19.db')\n",
    "\n",
    "# populate tables with information from dataframes\n",
    "covid_monthly_df.to_sql(name='monthly', con=engine, if_exists = \"append\", index=False)\n",
    "world_covid_df.to_sql(name='world', con=engine, if_exists = \"append\", index= False)\n",
    "us_covid_combine_df.to_sql(name='states', con=engine, if_exists = \"append\", index=False)"
   ]
  },
  {
   "cell_type": "code",
   "execution_count": 82,
   "metadata": {},
   "outputs": [
    {
     "output_type": "execute_result",
     "data": {
      "text/plain": [
       "      id     Date State  Average_cases  Average_death  Average_recovery  \\\n",
       "0      1  2020-01    AK            0.0            0.0               0.0   \n",
       "1      2  2020-01    AL            0.0            0.0               0.0   \n",
       "2      3  2020-01    AR            0.0            0.0               0.0   \n",
       "3      4  2020-01    AS            0.0            0.0               0.0   \n",
       "4      5  2020-01    AZ            0.6            0.0               0.6   \n",
       "..   ...      ...   ...            ...            ...               ...   \n",
       "955  956  2021-04    VT        19639.0          227.5           19411.5   \n",
       "956  957  2021-04    WA       366438.5         5270.0          361168.5   \n",
       "957  958  2021-04    WI       637354.5         7331.0          630023.5   \n",
       "958  959  2021-04    WV       142443.0         2685.5          139757.5   \n",
       "959  960  2021-04    WY        56418.0          700.0           55718.0   \n",
       "\n",
       "     Death_percent  Recovery_percent  \n",
       "0             0.00              0.00  \n",
       "1             0.00              0.00  \n",
       "2             0.00              0.00  \n",
       "3             0.00              0.00  \n",
       "4             0.00            100.00  \n",
       "..             ...               ...  \n",
       "955           1.16             98.84  \n",
       "956           1.44             98.56  \n",
       "957           1.15             98.85  \n",
       "958           1.89             98.11  \n",
       "959           1.24             98.76  \n",
       "\n",
       "[960 rows x 8 columns]"
      ],
      "text/html": "<div>\n<style scoped>\n    .dataframe tbody tr th:only-of-type {\n        vertical-align: middle;\n    }\n\n    .dataframe tbody tr th {\n        vertical-align: top;\n    }\n\n    .dataframe thead th {\n        text-align: right;\n    }\n</style>\n<table border=\"1\" class=\"dataframe\">\n  <thead>\n    <tr style=\"text-align: right;\">\n      <th></th>\n      <th>id</th>\n      <th>Date</th>\n      <th>State</th>\n      <th>Average_cases</th>\n      <th>Average_death</th>\n      <th>Average_recovery</th>\n      <th>Death_percent</th>\n      <th>Recovery_percent</th>\n    </tr>\n  </thead>\n  <tbody>\n    <tr>\n      <th>0</th>\n      <td>1</td>\n      <td>2020-01</td>\n      <td>AK</td>\n      <td>0.0</td>\n      <td>0.0</td>\n      <td>0.0</td>\n      <td>0.00</td>\n      <td>0.00</td>\n    </tr>\n    <tr>\n      <th>1</th>\n      <td>2</td>\n      <td>2020-01</td>\n      <td>AL</td>\n      <td>0.0</td>\n      <td>0.0</td>\n      <td>0.0</td>\n      <td>0.00</td>\n      <td>0.00</td>\n    </tr>\n    <tr>\n      <th>2</th>\n      <td>3</td>\n      <td>2020-01</td>\n      <td>AR</td>\n      <td>0.0</td>\n      <td>0.0</td>\n      <td>0.0</td>\n      <td>0.00</td>\n      <td>0.00</td>\n    </tr>\n    <tr>\n      <th>3</th>\n      <td>4</td>\n      <td>2020-01</td>\n      <td>AS</td>\n      <td>0.0</td>\n      <td>0.0</td>\n      <td>0.0</td>\n      <td>0.00</td>\n      <td>0.00</td>\n    </tr>\n    <tr>\n      <th>4</th>\n      <td>5</td>\n      <td>2020-01</td>\n      <td>AZ</td>\n      <td>0.6</td>\n      <td>0.0</td>\n      <td>0.6</td>\n      <td>0.00</td>\n      <td>100.00</td>\n    </tr>\n    <tr>\n      <th>...</th>\n      <td>...</td>\n      <td>...</td>\n      <td>...</td>\n      <td>...</td>\n      <td>...</td>\n      <td>...</td>\n      <td>...</td>\n      <td>...</td>\n    </tr>\n    <tr>\n      <th>955</th>\n      <td>956</td>\n      <td>2021-04</td>\n      <td>VT</td>\n      <td>19639.0</td>\n      <td>227.5</td>\n      <td>19411.5</td>\n      <td>1.16</td>\n      <td>98.84</td>\n    </tr>\n    <tr>\n      <th>956</th>\n      <td>957</td>\n      <td>2021-04</td>\n      <td>WA</td>\n      <td>366438.5</td>\n      <td>5270.0</td>\n      <td>361168.5</td>\n      <td>1.44</td>\n      <td>98.56</td>\n    </tr>\n    <tr>\n      <th>957</th>\n      <td>958</td>\n      <td>2021-04</td>\n      <td>WI</td>\n      <td>637354.5</td>\n      <td>7331.0</td>\n      <td>630023.5</td>\n      <td>1.15</td>\n      <td>98.85</td>\n    </tr>\n    <tr>\n      <th>958</th>\n      <td>959</td>\n      <td>2021-04</td>\n      <td>WV</td>\n      <td>142443.0</td>\n      <td>2685.5</td>\n      <td>139757.5</td>\n      <td>1.89</td>\n      <td>98.11</td>\n    </tr>\n    <tr>\n      <th>959</th>\n      <td>960</td>\n      <td>2021-04</td>\n      <td>WY</td>\n      <td>56418.0</td>\n      <td>700.0</td>\n      <td>55718.0</td>\n      <td>1.24</td>\n      <td>98.76</td>\n    </tr>\n  </tbody>\n</table>\n<p>960 rows × 8 columns</p>\n</div>"
     },
     "metadata": {},
     "execution_count": 82
    }
   ],
   "source": [
    "# querry monthly data from database. to test and make sure tables are working\n",
    "pd.read_sql('select * from monthly', engine)"
   ]
  },
  {
   "cell_type": "code",
   "execution_count": null,
   "metadata": {},
   "outputs": [],
   "source": [
    "# querry states data from database. to test and make sure tables are working\n",
    "pd.read_sql('select * from states', engine)"
   ]
  },
  {
   "cell_type": "code",
   "execution_count": null,
   "metadata": {},
   "outputs": [],
   "source": [
    "# make an API call to make sure Flask app is working \n",
    "import requests\n",
    "url=\"http://127.0.0.1:5000/api/v1.0/monthly\"\n",
    "resp=requests.get(url)\n",
    "resp"
   ]
  },
  {
   "cell_type": "code",
   "execution_count": null,
   "metadata": {},
   "outputs": [],
   "source": [
    "data = resp.json()\n",
    "data"
   ]
  },
  {
   "cell_type": "code",
   "execution_count": null,
   "metadata": {},
   "outputs": [],
   "source": []
  }
 ]
}